{
 "cells": [
  {
   "cell_type": "code",
   "execution_count": 1,
   "metadata": {},
   "outputs": [],
   "source": [
    "import model as m\n",
    "from sklearn.linear_model import LogisticRegression\n",
    "clf = m.Classifier(0,LogisticRegression())"
   ]
  },
  {
   "cell_type": "code",
   "execution_count": 2,
   "metadata": {},
   "outputs": [
    {
     "ename": "SyntaxError",
     "evalue": "invalid syntax (<ipython-input-2-550a6b531382>, line 10)",
     "output_type": "error",
     "traceback": [
      "\u001b[0;36m  File \u001b[0;32m\"<ipython-input-2-550a6b531382>\"\u001b[0;36m, line \u001b[0;32m10\u001b[0m\n\u001b[0;31m    'clf__alpha': (0.1,0.01,0.0001,0.000001,0.00000001),\u001b[0m\n\u001b[0m               ^\u001b[0m\n\u001b[0;31mSyntaxError\u001b[0m\u001b[0;31m:\u001b[0m invalid syntax\n"
     ]
    }
   ],
   "source": [
    "params_trial_1 = { \n",
    "            #penalty is l2 by default\n",
    "            'vect__min_df': ([0.0,0.1,0.2,0.25,0.30]),\n",
    "            'vect__max_features': (1000, 5000,10000, 50000),\n",
    "            'vect__ngram_range': ((1, 1), (1, 2)),\n",
    "            'tfidf__use_idf': (False,True),\n",
    "            'tfidf__norm': ('l1','l2',None),\n",
    "            'clf__max_iter': (50, 100, 200,500),\n",
    "            'clf__solver': ['newton-cg', 'liblinear', 'sag', 'saga'],\n",
    "            'clf__alpha': (0.1,0.01,0.0001,0.000001,0.00000001),\n",
    "            'clf__C':(0.1,0.01,0.0001,0.000001,0.00000001),\n",
    "            }"
   ]
  },
  {
   "cell_type": "code",
   "execution_count": null,
   "metadata": {},
   "outputs": [],
   "source": [
    "#### TEST 1 ####\n",
    "clf.fit(params_trial_1,5)"
   ]
  },
  {
   "cell_type": "code",
   "execution_count": null,
   "metadata": {},
   "outputs": [],
   "source": [
    "clf.eval_on_test([],False)\n",
    "clf.learning_curve([0.2,0.4,0.6,0.8,1.0])"
   ]
  },
  {
   "cell_type": "code",
   "execution_count": null,
   "metadata": {},
   "outputs": [],
   "source": []
  },
  {
   "cell_type": "code",
   "execution_count": null,
   "metadata": {},
   "outputs": [],
   "source": []
  }
 ],
 "metadata": {
  "kernelspec": {
   "display_name": "Python 3",
   "language": "python",
   "name": "python3"
  },
  "language_info": {
   "codemirror_mode": {
    "name": "ipython",
    "version": 3
   },
   "file_extension": ".py",
   "mimetype": "text/x-python",
   "name": "python",
   "nbconvert_exporter": "python",
   "pygments_lexer": "ipython3",
   "version": "3.7.6"
  }
 },
 "nbformat": 4,
 "nbformat_minor": 2
}
