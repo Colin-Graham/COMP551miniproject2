{
 "cells": [
  {
   "cell_type": "code",
   "execution_count": 1,
   "metadata": {},
   "outputs": [],
   "source": [
    "from model import Classifier\n",
    "from sklearn.ensemble import RandomForestClassifier"
   ]
  },
  {
   "cell_type": "code",
   "execution_count": 2,
   "metadata": {},
   "outputs": [],
   "source": [
    "clf = Classifier(0, RandomForestClassifier())"
   ]
  },
  {
   "cell_type": "code",
   "execution_count": 3,
   "metadata": {},
   "outputs": [],
   "source": [
    "#stop word sets specified for this data set\n",
    "path = \"../data/stop_words_imbd/\"\n",
    "with open(path+\"stop_words_no_nums.txt\", 'r') as content_file:\n",
    "        content = content_file.read().replace(\" \",\"\").replace(\"\\n\",\"\").split(\",\")\n",
    "        stop_words_no_nums = frozenset(content)\n",
    "with open(path+\"stop_words_with_nums.txt\", 'r') as content_file:\n",
    "        content = content_file.read().replace(\" \",\"\").replace(\"\\n\",\"\").split(\",\")\n",
    "        stop_words_with_nums = frozenset(content)"
   ]
  },
  {
   "cell_type": "code",
   "execution_count": 8,
   "metadata": {},
   "outputs": [
    {
     "name": "stdout",
     "output_type": "stream",
     "text": [
      "Performing grid search...\n",
      "pipeline: ['vect', 'tfidf', 'clf']\n",
      "Fitting 5 folds for each of 8 candidates, totalling 40 fits\n"
     ]
    },
    {
     "name": "stderr",
     "output_type": "stream",
     "text": [
      "[Parallel(n_jobs=-1)]: Using backend LokyBackend with 8 concurrent workers.\n",
      "[Parallel(n_jobs=-1)]: Done   2 tasks      | elapsed:  1.9min\n",
      "[Parallel(n_jobs=-1)]: Done  34 out of  40 | elapsed:  9.2min remaining:  1.6min\n",
      "[Parallel(n_jobs=-1)]: Done  40 out of  40 | elapsed:  9.5min finished\n"
     ]
    },
    {
     "name": "stdout",
     "output_type": "stream",
     "text": [
      "done in 654.652s\n",
      "\n",
      "scores!\n",
      "mean: 0.850 std: (+/-0.005) for {'clf__criterion': 'gini', 'clf__max_depth': 1000, 'clf__n_estimators': 200, 'tfidf__norm': 'l2', 'vect__max_features': 10000, 'vect__ngram_range': (1, 1), 'vect__stop_words': 0}\n",
      "mean: 0.851 std: (+/-0.009) for {'clf__criterion': 'gini', 'clf__max_depth': 1000, 'clf__n_estimators': 200, 'tfidf__norm': 'l2', 'vect__max_features': 10000, 'vect__ngram_range': (1, 1), 'vect__stop_words': 1}\n",
      "mean: 0.851 std: (+/-0.009) for {'clf__criterion': 'gini', 'clf__max_depth': 1000, 'clf__n_estimators': 200, 'tfidf__norm': 'l2', 'vect__max_features': 15000, 'vect__ngram_range': (1, 1), 'vect__stop_words': 0}\n",
      "mean: 0.853 std: (+/-0.007) for {'clf__criterion': 'gini', 'clf__max_depth': 1000, 'clf__n_estimators': 200, 'tfidf__norm': 'l2', 'vect__max_features': 15000, 'vect__ngram_range': (1, 1), 'vect__stop_words': 1}\n",
      "mean: 0.851 std: (+/-0.008) for {'clf__criterion': 'gini', 'clf__max_depth': 5000, 'clf__n_estimators': 200, 'tfidf__norm': 'l2', 'vect__max_features': 10000, 'vect__ngram_range': (1, 1), 'vect__stop_words': 0}\n",
      "mean: 0.850 std: (+/-0.008) for {'clf__criterion': 'gini', 'clf__max_depth': 5000, 'clf__n_estimators': 200, 'tfidf__norm': 'l2', 'vect__max_features': 10000, 'vect__ngram_range': (1, 1), 'vect__stop_words': 1}\n",
      "mean: 0.853 std: (+/-0.010) for {'clf__criterion': 'gini', 'clf__max_depth': 5000, 'clf__n_estimators': 200, 'tfidf__norm': 'l2', 'vect__max_features': 15000, 'vect__ngram_range': (1, 1), 'vect__stop_words': 0}\n",
      "mean: 0.852 std: (+/-0.009) for {'clf__criterion': 'gini', 'clf__max_depth': 5000, 'clf__n_estimators': 200, 'tfidf__norm': 'l2', 'vect__max_features': 15000, 'vect__ngram_range': (1, 1), 'vect__stop_words': 1}\n",
      "Best score:\n",
      "0.853 (+/-0.009)\n",
      "with parameters set:\n",
      "\tclf__criterion: 'gini'\n",
      "\tclf__max_depth: 1000\n",
      "\tclf__n_estimators: 200\n",
      "\ttfidf__norm: 'l2'\n",
      "\tvect__max_features: 15000\n",
      "\tvect__ngram_range: (1, 1)\n",
      "\tvect__stop_words: 1\n"
     ]
    }
   ],
   "source": [
    "params_trial_1 = {\n",
    "                'vect__max_features': ([10000, 15000]),\n",
    "                'vect__ngram_range': ([(1, 1)]),\n",
    "                'vect__stop_words' : [stop_words_no_nums, stop_words_with_nums],\n",
    "                'tfidf__norm': (['l2']),\n",
    "                'clf__n_estimators': ([200]),\n",
    "                'clf__criterion': ['gini'],\n",
    "                'clf__max_depth': (1000, 5000)\n",
    "}\n",
    "\n",
    "clf.fit(params_trial_1,5)"
   ]
  },
  {
   "cell_type": "code",
   "execution_count": 10,
   "metadata": {},
   "outputs": [
    {
     "name": "stdout",
     "output_type": "stream",
     "text": [
      "Finding most common params for the top 2 values\n",
      "[{'gini': 2}, {5000: 1, 1000: 1}, {200: 2}, {'l2': 2}, {15000: 2}, {(1, 1): 2}, {0: 1, 1: 1}]\n"
     ]
    }
   ],
   "source": [
    "clf.eval_best_n_params(0.8)"
   ]
  },
  {
   "cell_type": "code",
   "execution_count": 11,
   "metadata": {},
   "outputs": [
    {
     "name": "stdout",
     "output_type": "stream",
     "text": [
      "Performing grid search...\n",
      "pipeline: ['vect', 'tfidf', 'clf']\n",
      "Fitting 5 folds for each of 4 candidates, totalling 20 fits\n"
     ]
    },
    {
     "name": "stderr",
     "output_type": "stream",
     "text": [
      "[Parallel(n_jobs=-1)]: Using backend LokyBackend with 8 concurrent workers.\n",
      "[Parallel(n_jobs=-1)]: Done   2 tasks      | elapsed:  1.9min\n",
      "[Parallel(n_jobs=-1)]: Done  10 out of  20 | elapsed:  4.4min remaining:  4.4min\n",
      "[Parallel(n_jobs=-1)]: Done  15 out of  20 | elapsed:  6.1min remaining:  2.0min\n",
      "[Parallel(n_jobs=-1)]: Done  20 out of  20 | elapsed:  8.8min remaining:    0.0s\n",
      "[Parallel(n_jobs=-1)]: Done  20 out of  20 | elapsed:  8.8min finished\n"
     ]
    },
    {
     "name": "stdout",
     "output_type": "stream",
     "text": [
      "done in 734.168s\n",
      "\n",
      "scores!\n",
      "mean: 0.854 std: (+/-0.008) for {'clf__criterion': 'gini', 'clf__max_depth': 5000, 'clf__n_estimators': 200, 'tfidf__norm': 'l2', 'vect__max_features': 15000, 'vect__ngram_range': (1, 1), 'vect__stop_words': 0}\n",
      "mean: 0.856 std: (+/-0.010) for {'clf__criterion': 'gini', 'clf__max_depth': 5000, 'clf__n_estimators': 500, 'tfidf__norm': 'l2', 'vect__max_features': 15000, 'vect__ngram_range': (1, 1), 'vect__stop_words': 0}\n",
      "mean: 0.850 std: (+/-0.007) for {'clf__criterion': 'gini', 'clf__max_depth': 10000, 'clf__n_estimators': 200, 'tfidf__norm': 'l2', 'vect__max_features': 15000, 'vect__ngram_range': (1, 1), 'vect__stop_words': 0}\n",
      "mean: 0.854 std: (+/-0.010) for {'clf__criterion': 'gini', 'clf__max_depth': 10000, 'clf__n_estimators': 500, 'tfidf__norm': 'l2', 'vect__max_features': 15000, 'vect__ngram_range': (1, 1), 'vect__stop_words': 0}\n",
      "Best score:\n",
      "0.856 (+/-0.010)\n",
      "with parameters set:\n",
      "\tclf__criterion: 'gini'\n",
      "\tclf__max_depth: 5000\n",
      "\tclf__n_estimators: 500\n",
      "\ttfidf__norm: 'l2'\n",
      "\tvect__max_features: 15000\n",
      "\tvect__ngram_range: (1, 1)\n",
      "\tvect__stop_words: 0\n"
     ]
    }
   ],
   "source": [
    "params_trial_2 = {\n",
    "                'vect__max_features': ([15000]),\n",
    "                'vect__ngram_range': ([(1, 1)]),\n",
    "                'vect__stop_words' : [stop_words_no_nums],\n",
    "                'tfidf__norm': (['l2']),\n",
    "                'clf__n_estimators': (200, 500),\n",
    "                'clf__criterion': (['gini']),\n",
    "                'clf__max_depth': (5000, 10000)\n",
    "}\n",
    "\n",
    "clf.fit(params_trial_2,5)"
   ]
  },
  {
   "cell_type": "code",
   "execution_count": 12,
   "metadata": {},
   "outputs": [
    {
     "name": "stdout",
     "output_type": "stream",
     "text": [
      "Finding most common params for the top 1 values\n",
      "[{'gini': 1}, {5000: 1}, {500: 1}, {'l2': 1}, {15000: 1}, {(1, 1): 1}, {0: 1}]\n"
     ]
    }
   ],
   "source": [
    "clf.eval_best_n_params(0.8)"
   ]
  },
  {
   "cell_type": "code",
   "execution_count": null,
   "metadata": {},
   "outputs": [
    {
     "name": "stdout",
     "output_type": "stream",
     "text": [
      "Performing grid search...\n",
      "pipeline: ['vect', 'tfidf', 'clf']\n",
      "Fitting 5 folds for each of 2 candidates, totalling 10 fits\n"
     ]
    },
    {
     "name": "stderr",
     "output_type": "stream",
     "text": [
      "[Parallel(n_jobs=-1)]: Using backend LokyBackend with 8 concurrent workers.\n",
      "[Parallel(n_jobs=-1)]: Done   4 out of  10 | elapsed:  4.4min remaining:  6.6min\n",
      "[Parallel(n_jobs=-1)]: Done   7 out of  10 | elapsed:  6.0min remaining:  2.6min\n",
      "[Parallel(n_jobs=-1)]: Done  10 out of  10 | elapsed:  8.7min remaining:    0.0s\n",
      "[Parallel(n_jobs=-1)]: Done  10 out of  10 | elapsed:  8.7min finished\n"
     ]
    }
   ],
   "source": [
    "params_trial_3 = {\n",
    "                'vect__max_features': ([10000]),\n",
    "                'vect__ngram_range': ([(1, 1)]),\n",
    "                'vect__stop_words' : [stop_words_no_nums],\n",
    "                'tfidf__norm': (['l2']),\n",
    "                'clf__n_estimators': (500, 750),\n",
    "                'clf__criterion': (['gini']),\n",
    "                'clf__max_depth': ([5000])\n",
    "}\n",
    "\n",
    "clf.fit(params_trial_3,5)"
   ]
  },
  {
   "cell_type": "code",
   "execution_count": null,
   "metadata": {},
   "outputs": [],
   "source": [
    "clf.eval_best_n_params(0.8)"
   ]
  },
  {
   "cell_type": "code",
   "execution_count": 5,
   "metadata": {},
   "outputs": [
    {
     "name": "stdout",
     "output_type": "stream",
     "text": [
      "Performing grid search...\n",
      "pipeline: ['vect', 'tfidf', 'clf']\n",
      "Fitting 5 folds for each of 2 candidates, totalling 10 fits\n"
     ]
    },
    {
     "name": "stderr",
     "output_type": "stream",
     "text": [
      "[Parallel(n_jobs=-1)]: Using backend LokyBackend with 8 concurrent workers.\n",
      "[Parallel(n_jobs=-1)]: Done   4 out of  10 | elapsed:  6.3min remaining:  9.4min\n",
      "[Parallel(n_jobs=-1)]: Done   7 out of  10 | elapsed:  9.3min remaining:  4.0min\n",
      "[Parallel(n_jobs=-1)]: Done  10 out of  10 | elapsed: 13.2min remaining:    0.0s\n",
      "[Parallel(n_jobs=-1)]: Done  10 out of  10 | elapsed: 13.2min finished\n"
     ]
    },
    {
     "name": "stdout",
     "output_type": "stream",
     "text": [
      "done in 1304.936s\n",
      "\n",
      "scores!\n",
      "mean: 0.853 std: (+/-0.017) for {'clf__criterion': 'gini', 'clf__max_depth': 5000, 'clf__n_estimators': 750, 'tfidf__norm': 'l2', 'vect__max_features': 10000, 'vect__ngram_range': (1, 1), 'vect__stop_words': 0}\n",
      "mean: 0.854 std: (+/-0.017) for {'clf__criterion': 'gini', 'clf__max_depth': 5000, 'clf__n_estimators': 1200, 'tfidf__norm': 'l2', 'vect__max_features': 10000, 'vect__ngram_range': (1, 1), 'vect__stop_words': 0}\n",
      "Best score:\n",
      "0.854 (+/-0.017)\n",
      "with parameters set:\n",
      "\tclf__criterion: 'gini'\n",
      "\tclf__max_depth: 5000\n",
      "\tclf__n_estimators: 1200\n",
      "\ttfidf__norm: 'l2'\n",
      "\tvect__max_features: 10000\n",
      "\tvect__ngram_range: (1, 1)\n",
      "\tvect__stop_words: 0\n"
     ]
    }
   ],
   "source": [
    "params_trial_4 = {\n",
    "                'vect__max_features': ([10000]),\n",
    "                'vect__ngram_range': ([(1, 1)]),\n",
    "                'vect__stop_words' : [stop_words_with_nums],\n",
    "                'tfidf__norm': (['l2']),\n",
    "                'clf__n_estimators': (750, 1200),\n",
    "                'clf__criterion': (['gini']),\n",
    "                'clf__max_depth': ([5000])\n",
    "}\n",
    "\n",
    "clf.fit(params_trial_4,5)"
   ]
  },
  {
   "cell_type": "code",
   "execution_count": 6,
   "metadata": {},
   "outputs": [
    {
     "name": "stdout",
     "output_type": "stream",
     "text": [
      "Performing grid search...\n",
      "pipeline: ['vect', 'tfidf', 'clf']\n",
      "Fitting 5 folds for each of 1 candidates, totalling 5 fits\n"
     ]
    },
    {
     "name": "stderr",
     "output_type": "stream",
     "text": [
      "[Parallel(n_jobs=-1)]: Using backend LokyBackend with 8 concurrent workers.\n",
      "[Parallel(n_jobs=-1)]: Done   2 out of   5 | elapsed:  8.1min remaining: 12.2min\n",
      "[Parallel(n_jobs=-1)]: Done   5 out of   5 | elapsed:  8.2min finished\n"
     ]
    },
    {
     "name": "stdout",
     "output_type": "stream",
     "text": [
      "done in 982.591s\n",
      "\n",
      "scores!\n",
      "mean: 0.854 std: (+/-0.014) for {'clf__criterion': 'gini', 'clf__max_depth': 12500, 'clf__n_estimators': 1200, 'tfidf__norm': 'l2', 'vect__max_features': 10000, 'vect__ngram_range': (1, 1), 'vect__stop_words': 0}\n",
      "Best score:\n",
      "0.854 (+/-0.014)\n",
      "with parameters set:\n",
      "\tclf__criterion: 'gini'\n",
      "\tclf__max_depth: 12500\n",
      "\tclf__n_estimators: 1200\n",
      "\ttfidf__norm: 'l2'\n",
      "\tvect__max_features: 10000\n",
      "\tvect__ngram_range: (1, 1)\n",
      "\tvect__stop_words: 0\n"
     ]
    }
   ],
   "source": [
    "params_trial_final = {\n",
    "                'vect__max_features': ([10000]),\n",
    "                'vect__ngram_range': ([(1, 1)]),\n",
    "                'vect__stop_words' : [stop_words_with_nums],\n",
    "                'tfidf__norm': (['l2']),\n",
    "                'clf__n_estimators': ([1200]),\n",
    "                'clf__criterion': (['gini']),\n",
    "                'clf__max_depth': ([12500])\n",
    "}\n",
    "\n",
    "clf.fit(params_trial_final,5)"
   ]
  },
  {
   "cell_type": "code",
   "execution_count": null,
   "metadata": {},
   "outputs": [
    {
     "name": "stdout",
     "output_type": "stream",
     "text": [
      "Evaluation on test set:\n",
      "\n",
      "Accuracy Score : 0.854\n",
      "Precision Score : 0.854\n",
      "Recall Score : 0.854\n",
      "F1 Score : 0.854\n",
      "Confusion Matrix\n",
      "[[10904  1597]\n",
      " [ 2053 10446]]\n"
     ]
    },
    {
     "data": {
      "image/png": "[encoded data removed]",
      "text/plain": [
       "<Figure size 432x288 with 2 Axes>"
      ]
     },
     "metadata": {},
     "output_type": "display_data"
    }
   ],
   "source": [
    "clf.eval_on_test([],False)"
   ]
  },
  {
   "cell_type": "code",
   "execution_count": null,
   "metadata": {},
   "outputs": [],
   "source": []
  }
 ],
 "metadata": {
  "kernelspec": {
   "display_name": "Python 3",
   "language": "python",
   "name": "python3"
  },
  "language_info": {
   "codemirror_mode": {
    "name": "ipython",
    "version": 3
   },
   "file_extension": ".py",
   "mimetype": "text/x-python",
   "name": "python",
   "nbconvert_exporter": "python",
   "pygments_lexer": "ipython3",
   "version": "3.6.5"
  }
 },
 "nbformat": 4,
 "nbformat_minor": 2
}
