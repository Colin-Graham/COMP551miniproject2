{
 "cells": [
  {
   "cell_type": "code",
   "execution_count": 2,
   "metadata": {},
   "outputs": [],
   "source": [
    "from model import Classifier\n",
    "from sklearn.tree import DecisionTreeClassifier"
   ]
  },
  {
   "cell_type": "code",
   "execution_count": 3,
   "metadata": {},
   "outputs": [],
   "source": [
    "clf = Classifier(1, DecisionTreeClassifier())"
   ]
  },
  {
   "cell_type": "code",
   "execution_count": 4,
   "metadata": {},
   "outputs": [],
   "source": [
    "path = \"../data/stop_words_news_groups/\"\n",
    "with open(path+\"stop_words_no_numbers.txt\", 'r') as content_file:\n",
    "        content = content_file.read().replace(\" \",\"\").replace(\"\\n\",\"\").split(\",\")\n",
    "        stop_words_no_nums = frozenset(content)\n",
    "with open(path+\"stop_words_with_nums.txt\", 'r') as content_file:\n",
    "        content = content_file.read().replace(\" \",\"\").replace(\"\\n\",\"\").split(\",\")\n",
    "        stop_words_with_nums = frozenset(content)"
   ]
  },
  {
   "cell_type": "code",
   "execution_count": null,
   "metadata": {},
   "outputs": [
    {
     "name": "stdout",
     "output_type": "stream",
     "text": [
      "Performing grid search...\n",
      "pipeline: ['vect', 'tfidf', 'clf']\n",
      "Fitting 5 folds for each of 576 candidates, totalling 2880 fits\n"
     ]
    },
    {
     "name": "stderr",
     "output_type": "stream",
     "text": [
      "[Parallel(n_jobs=-1)]: Using backend LokyBackend with 8 concurrent workers.\n"
     ]
    }
   ],
   "source": [
    "params_trial_1 = {\n",
    "                'vect__max_features': (1000, 10000),\n",
    "                'vect__ngram_range': ((1, 1), (1, 2)),\n",
    "                'vect__stop_words' : [stop_words_no_nums, stop_words_with_nums],\n",
    "                'tfidf__norm': ('l1','l2',None),\n",
    "                'clf__criterion': ('gini', 'entropy'), \n",
    "                'clf__max_depth': (50, 100, 200),\n",
    "                'clf__min_samples_split': (0.001, 0.01, 0.1, 0.2)                \n",
    "        }\n",
    "\n",
    "clf.fit(params_trial_1,5)"
   ]
  },
  {
   "cell_type": "code",
   "execution_count": 19,
   "metadata": {},
   "outputs": [
    {
     "name": "stdout",
     "output_type": "stream",
     "text": [
      "Finding most common params for the top 116 values\n",
      "[{'gini': 116}, {200: 67, 100: 49}, {0.1: 31, 0.01: 37, 0.2: 24, 0.001: 24}, {'l1': 40, None: 38, 'l2': 38}, {1000: 20, 10000: 96}, {(1, 2): 57, (1, 1): 59}, {0: 56, 1: 60}]\n"
     ]
    }
   ],
   "source": [
    "clf.eval_best_n_params(0.8)"
   ]
  },
  {
   "cell_type": "code",
   "execution_count": 33,
   "metadata": {},
   "outputs": [
    {
     "name": "stdout",
     "output_type": "stream",
     "text": [
      "Performing grid search...\n",
      "pipeline: ['vect', 'tfidf', 'clf']\n",
      "Fitting 5 folds for each of 16 candidates, totalling 80 fits\n"
     ]
    },
    {
     "name": "stderr",
     "output_type": "stream",
     "text": [
      "[Parallel(n_jobs=-1)]: Using backend LokyBackend with 8 concurrent workers.\n",
      "[Parallel(n_jobs=-1)]: Done   2 tasks      | elapsed:    7.0s\n",
      "[Parallel(n_jobs=-1)]: Done  56 tasks      | elapsed:  1.1min\n",
      "[Parallel(n_jobs=-1)]: Done  80 out of  80 | elapsed:  1.6min finished\n"
     ]
    },
    {
     "name": "stdout",
     "output_type": "stream",
     "text": [
      "done in 98.896s\n",
      "\n",
      "scores!\n",
      "mean: 0.433 std: (+/-0.031) for {'clf__criterion': 'gini', 'clf__max_depth': 200, 'clf__min_samples_split': 0.01, 'tfidf__norm': 'l2', 'vect__max_features': 1000, 'vect__ngram_range': (1, 1), 'vect__stop_words': 0}\n",
      "mean: 0.436 std: (+/-0.021) for {'clf__criterion': 'gini', 'clf__max_depth': 200, 'clf__min_samples_split': 0.01, 'tfidf__norm': 'l2', 'vect__max_features': 1000, 'vect__ngram_range': (1, 1), 'vect__stop_words': 1}\n",
      "mean: 0.472 std: (+/-0.018) for {'clf__criterion': 'gini', 'clf__max_depth': 200, 'clf__min_samples_split': 0.01, 'tfidf__norm': 'l2', 'vect__max_features': 10000, 'vect__ngram_range': (1, 1), 'vect__stop_words': 0}\n",
      "mean: 0.474 std: (+/-0.017) for {'clf__criterion': 'gini', 'clf__max_depth': 200, 'clf__min_samples_split': 0.01, 'tfidf__norm': 'l2', 'vect__max_features': 10000, 'vect__ngram_range': (1, 1), 'vect__stop_words': 1}\n",
      "mean: 0.416 std: (+/-0.022) for {'clf__criterion': 'gini', 'clf__max_depth': 200, 'clf__min_samples_split': 2, 'tfidf__norm': 'l2', 'vect__max_features': 1000, 'vect__ngram_range': (1, 1), 'vect__stop_words': 0}\n",
      "mean: 0.421 std: (+/-0.019) for {'clf__criterion': 'gini', 'clf__max_depth': 200, 'clf__min_samples_split': 2, 'tfidf__norm': 'l2', 'vect__max_features': 1000, 'vect__ngram_range': (1, 1), 'vect__stop_words': 1}\n",
      "mean: 0.460 std: (+/-0.014) for {'clf__criterion': 'gini', 'clf__max_depth': 200, 'clf__min_samples_split': 2, 'tfidf__norm': 'l2', 'vect__max_features': 10000, 'vect__ngram_range': (1, 1), 'vect__stop_words': 0}\n",
      "mean: 0.463 std: (+/-0.017) for {'clf__criterion': 'gini', 'clf__max_depth': 200, 'clf__min_samples_split': 2, 'tfidf__norm': 'l2', 'vect__max_features': 10000, 'vect__ngram_range': (1, 1), 'vect__stop_words': 1}\n",
      "mean: 0.432 std: (+/-0.026) for {'clf__criterion': 'gini', 'clf__max_depth': 500, 'clf__min_samples_split': 0.01, 'tfidf__norm': 'l2', 'vect__max_features': 1000, 'vect__ngram_range': (1, 1), 'vect__stop_words': 0}\n",
      "mean: 0.440 std: (+/-0.022) for {'clf__criterion': 'gini', 'clf__max_depth': 500, 'clf__min_samples_split': 0.01, 'tfidf__norm': 'l2', 'vect__max_features': 1000, 'vect__ngram_range': (1, 1), 'vect__stop_words': 1}\n",
      "mean: 0.484 std: (+/-0.022) for {'clf__criterion': 'gini', 'clf__max_depth': 500, 'clf__min_samples_split': 0.01, 'tfidf__norm': 'l2', 'vect__max_features': 10000, 'vect__ngram_range': (1, 1), 'vect__stop_words': 0}\n",
      "mean: 0.488 std: (+/-0.019) for {'clf__criterion': 'gini', 'clf__max_depth': 500, 'clf__min_samples_split': 0.01, 'tfidf__norm': 'l2', 'vect__max_features': 10000, 'vect__ngram_range': (1, 1), 'vect__stop_words': 1}\n",
      "mean: 0.418 std: (+/-0.017) for {'clf__criterion': 'gini', 'clf__max_depth': 500, 'clf__min_samples_split': 2, 'tfidf__norm': 'l2', 'vect__max_features': 1000, 'vect__ngram_range': (1, 1), 'vect__stop_words': 0}\n",
      "mean: 0.427 std: (+/-0.012) for {'clf__criterion': 'gini', 'clf__max_depth': 500, 'clf__min_samples_split': 2, 'tfidf__norm': 'l2', 'vect__max_features': 1000, 'vect__ngram_range': (1, 1), 'vect__stop_words': 1}\n",
      "mean: 0.476 std: (+/-0.008) for {'clf__criterion': 'gini', 'clf__max_depth': 500, 'clf__min_samples_split': 2, 'tfidf__norm': 'l2', 'vect__max_features': 10000, 'vect__ngram_range': (1, 1), 'vect__stop_words': 0}\n",
      "mean: 0.477 std: (+/-0.017) for {'clf__criterion': 'gini', 'clf__max_depth': 500, 'clf__min_samples_split': 2, 'tfidf__norm': 'l2', 'vect__max_features': 10000, 'vect__ngram_range': (1, 1), 'vect__stop_words': 1}\n",
      "Best score:\n",
      "0.488 (+/-0.017)\n",
      "with parameters set:\n",
      "\tclf__criterion: 'gini'\n",
      "\tclf__max_depth: 500\n",
      "\tclf__min_samples_split: 0.01\n",
      "\ttfidf__norm: 'l2'\n",
      "\tvect__max_features: 10000\n",
      "\tvect__ngram_range: (1, 1)\n",
      "\tvect__stop_words: 1\n"
     ]
    }
   ],
   "source": [
    "params_trial_2 = {\n",
    "                'vect__max_features': (1000, 10000),\n",
    "                'vect__ngram_range': ([(1, 1)]),\n",
    "                'vect__stop_words' : [stop_words_no_nums, stop_words_with_nums],\n",
    "                'tfidf__norm': (['l2']),\n",
    "                'clf__criterion': (['gini']), \n",
    "                'clf__max_depth': (200, 500),\n",
    "                'clf__min_samples_split': (0.01, 2)                \n",
    "        }\n",
    "\n",
    "clf.fit(params_trial_2,5)"
   ]
  },
  {
   "cell_type": "code",
   "execution_count": 38,
   "metadata": {},
   "outputs": [
    {
     "name": "stdout",
     "output_type": "stream",
     "text": [
      "Performing grid search...\n",
      "pipeline: ['vect', 'tfidf', 'clf']\n",
      "Fitting 5 folds for each of 32 candidates, totalling 160 fits\n"
     ]
    },
    {
     "name": "stderr",
     "output_type": "stream",
     "text": [
      "[Parallel(n_jobs=-1)]: Using backend LokyBackend with 8 concurrent workers.\n",
      "[Parallel(n_jobs=-1)]: Done   2 tasks      | elapsed:    7.5s\n",
      "[Parallel(n_jobs=-1)]: Done  56 tasks      | elapsed:  1.0min\n",
      "[Parallel(n_jobs=-1)]: Done 160 out of 160 | elapsed:  2.5min finished\n"
     ]
    },
    {
     "name": "stdout",
     "output_type": "stream",
     "text": [
      "done in 153.780s\n",
      "\n",
      "scores!\n",
      "mean: 0.433 std: (+/-0.032) for {'clf__criterion': 'gini', 'clf__max_depth': 500, 'clf__min_samples_split': 0.01, 'clf__splitter': 'best', 'tfidf__norm': 'l2', 'vect__max_features': 1000, 'vect__ngram_range': (1, 1), 'vect__stop_words': 0}\n",
      "mean: 0.440 std: (+/-0.019) for {'clf__criterion': 'gini', 'clf__max_depth': 500, 'clf__min_samples_split': 0.01, 'clf__splitter': 'best', 'tfidf__norm': 'l2', 'vect__max_features': 1000, 'vect__ngram_range': (1, 1), 'vect__stop_words': 1}\n",
      "mean: 0.485 std: (+/-0.018) for {'clf__criterion': 'gini', 'clf__max_depth': 500, 'clf__min_samples_split': 0.01, 'clf__splitter': 'best', 'tfidf__norm': 'l2', 'vect__max_features': 10000, 'vect__ngram_range': (1, 1), 'vect__stop_words': 0}\n",
      "mean: 0.486 std: (+/-0.018) for {'clf__criterion': 'gini', 'clf__max_depth': 500, 'clf__min_samples_split': 0.01, 'clf__splitter': 'best', 'tfidf__norm': 'l2', 'vect__max_features': 10000, 'vect__ngram_range': (1, 1), 'vect__stop_words': 1}\n",
      "mean: 0.443 std: (+/-0.013) for {'clf__criterion': 'gini', 'clf__max_depth': 500, 'clf__min_samples_split': 0.01, 'clf__splitter': 'random', 'tfidf__norm': 'l2', 'vect__max_features': 1000, 'vect__ngram_range': (1, 1), 'vect__stop_words': 0}\n",
      "mean: 0.447 std: (+/-0.011) for {'clf__criterion': 'gini', 'clf__max_depth': 500, 'clf__min_samples_split': 0.01, 'clf__splitter': 'random', 'tfidf__norm': 'l2', 'vect__max_features': 1000, 'vect__ngram_range': (1, 1), 'vect__stop_words': 1}\n",
      "mean: 0.489 std: (+/-0.010) for {'clf__criterion': 'gini', 'clf__max_depth': 500, 'clf__min_samples_split': 0.01, 'clf__splitter': 'random', 'tfidf__norm': 'l2', 'vect__max_features': 10000, 'vect__ngram_range': (1, 1), 'vect__stop_words': 0}\n",
      "mean: 0.488 std: (+/-0.029) for {'clf__criterion': 'gini', 'clf__max_depth': 500, 'clf__min_samples_split': 0.01, 'clf__splitter': 'random', 'tfidf__norm': 'l2', 'vect__max_features': 10000, 'vect__ngram_range': (1, 1), 'vect__stop_words': 1}\n",
      "mean: 0.428 std: (+/-0.022) for {'clf__criterion': 'gini', 'clf__max_depth': 500, 'clf__min_samples_split': 0.05, 'clf__splitter': 'best', 'tfidf__norm': 'l2', 'vect__max_features': 1000, 'vect__ngram_range': (1, 1), 'vect__stop_words': 0}\n",
      "mean: 0.438 std: (+/-0.016) for {'clf__criterion': 'gini', 'clf__max_depth': 500, 'clf__min_samples_split': 0.05, 'clf__splitter': 'best', 'tfidf__norm': 'l2', 'vect__max_features': 1000, 'vect__ngram_range': (1, 1), 'vect__stop_words': 1}\n",
      "mean: 0.473 std: (+/-0.015) for {'clf__criterion': 'gini', 'clf__max_depth': 500, 'clf__min_samples_split': 0.05, 'clf__splitter': 'best', 'tfidf__norm': 'l2', 'vect__max_features': 10000, 'vect__ngram_range': (1, 1), 'vect__stop_words': 0}\n",
      "mean: 0.474 std: (+/-0.018) for {'clf__criterion': 'gini', 'clf__max_depth': 500, 'clf__min_samples_split': 0.05, 'clf__splitter': 'best', 'tfidf__norm': 'l2', 'vect__max_features': 10000, 'vect__ngram_range': (1, 1), 'vect__stop_words': 1}\n",
      "mean: 0.429 std: (+/-0.020) for {'clf__criterion': 'gini', 'clf__max_depth': 500, 'clf__min_samples_split': 0.05, 'clf__splitter': 'random', 'tfidf__norm': 'l2', 'vect__max_features': 1000, 'vect__ngram_range': (1, 1), 'vect__stop_words': 0}\n",
      "mean: 0.441 std: (+/-0.020) for {'clf__criterion': 'gini', 'clf__max_depth': 500, 'clf__min_samples_split': 0.05, 'clf__splitter': 'random', 'tfidf__norm': 'l2', 'vect__max_features': 1000, 'vect__ngram_range': (1, 1), 'vect__stop_words': 1}\n",
      "mean: 0.481 std: (+/-0.016) for {'clf__criterion': 'gini', 'clf__max_depth': 500, 'clf__min_samples_split': 0.05, 'clf__splitter': 'random', 'tfidf__norm': 'l2', 'vect__max_features': 10000, 'vect__ngram_range': (1, 1), 'vect__stop_words': 0}\n",
      "mean: 0.484 std: (+/-0.021) for {'clf__criterion': 'gini', 'clf__max_depth': 500, 'clf__min_samples_split': 0.05, 'clf__splitter': 'random', 'tfidf__norm': 'l2', 'vect__max_features': 10000, 'vect__ngram_range': (1, 1), 'vect__stop_words': 1}\n",
      "mean: 0.434 std: (+/-0.024) for {'clf__criterion': 'gini', 'clf__max_depth': 1000, 'clf__min_samples_split': 0.01, 'clf__splitter': 'best', 'tfidf__norm': 'l2', 'vect__max_features': 1000, 'vect__ngram_range': (1, 1), 'vect__stop_words': 0}\n",
      "mean: 0.440 std: (+/-0.021) for {'clf__criterion': 'gini', 'clf__max_depth': 1000, 'clf__min_samples_split': 0.01, 'clf__splitter': 'best', 'tfidf__norm': 'l2', 'vect__max_features': 1000, 'vect__ngram_range': (1, 1), 'vect__stop_words': 1}\n",
      "mean: 0.486 std: (+/-0.022) for {'clf__criterion': 'gini', 'clf__max_depth': 1000, 'clf__min_samples_split': 0.01, 'clf__splitter': 'best', 'tfidf__norm': 'l2', 'vect__max_features': 10000, 'vect__ngram_range': (1, 1), 'vect__stop_words': 0}\n",
      "mean: 0.489 std: (+/-0.021) for {'clf__criterion': 'gini', 'clf__max_depth': 1000, 'clf__min_samples_split': 0.01, 'clf__splitter': 'best', 'tfidf__norm': 'l2', 'vect__max_features': 10000, 'vect__ngram_range': (1, 1), 'vect__stop_words': 1}\n",
      "mean: 0.434 std: (+/-0.015) for {'clf__criterion': 'gini', 'clf__max_depth': 1000, 'clf__min_samples_split': 0.01, 'clf__splitter': 'random', 'tfidf__norm': 'l2', 'vect__max_features': 1000, 'vect__ngram_range': (1, 1), 'vect__stop_words': 0}\n",
      "mean: 0.443 std: (+/-0.023) for {'clf__criterion': 'gini', 'clf__max_depth': 1000, 'clf__min_samples_split': 0.01, 'clf__splitter': 'random', 'tfidf__norm': 'l2', 'vect__max_features': 1000, 'vect__ngram_range': (1, 1), 'vect__stop_words': 1}\n",
      "mean: 0.499 std: (+/-0.013) for {'clf__criterion': 'gini', 'clf__max_depth': 1000, 'clf__min_samples_split': 0.01, 'clf__splitter': 'random', 'tfidf__norm': 'l2', 'vect__max_features': 10000, 'vect__ngram_range': (1, 1), 'vect__stop_words': 0}\n",
      "mean: 0.496 std: (+/-0.016) for {'clf__criterion': 'gini', 'clf__max_depth': 1000, 'clf__min_samples_split': 0.01, 'clf__splitter': 'random', 'tfidf__norm': 'l2', 'vect__max_features': 10000, 'vect__ngram_range': (1, 1), 'vect__stop_words': 1}\n",
      "mean: 0.428 std: (+/-0.023) for {'clf__criterion': 'gini', 'clf__max_depth': 1000, 'clf__min_samples_split': 0.05, 'clf__splitter': 'best', 'tfidf__norm': 'l2', 'vect__max_features': 1000, 'vect__ngram_range': (1, 1), 'vect__stop_words': 0}\n",
      "mean: 0.438 std: (+/-0.015) for {'clf__criterion': 'gini', 'clf__max_depth': 1000, 'clf__min_samples_split': 0.05, 'clf__splitter': 'best', 'tfidf__norm': 'l2', 'vect__max_features': 1000, 'vect__ngram_range': (1, 1), 'vect__stop_words': 1}\n",
      "mean: 0.472 std: (+/-0.014) for {'clf__criterion': 'gini', 'clf__max_depth': 1000, 'clf__min_samples_split': 0.05, 'clf__splitter': 'best', 'tfidf__norm': 'l2', 'vect__max_features': 10000, 'vect__ngram_range': (1, 1), 'vect__stop_words': 0}\n",
      "mean: 0.477 std: (+/-0.021) for {'clf__criterion': 'gini', 'clf__max_depth': 1000, 'clf__min_samples_split': 0.05, 'clf__splitter': 'best', 'tfidf__norm': 'l2', 'vect__max_features': 10000, 'vect__ngram_range': (1, 1), 'vect__stop_words': 1}\n",
      "mean: 0.440 std: (+/-0.017) for {'clf__criterion': 'gini', 'clf__max_depth': 1000, 'clf__min_samples_split': 0.05, 'clf__splitter': 'random', 'tfidf__norm': 'l2', 'vect__max_features': 1000, 'vect__ngram_range': (1, 1), 'vect__stop_words': 0}\n",
      "mean: 0.447 std: (+/-0.017) for {'clf__criterion': 'gini', 'clf__max_depth': 1000, 'clf__min_samples_split': 0.05, 'clf__splitter': 'random', 'tfidf__norm': 'l2', 'vect__max_features': 1000, 'vect__ngram_range': (1, 1), 'vect__stop_words': 1}\n",
      "mean: 0.481 std: (+/-0.032) for {'clf__criterion': 'gini', 'clf__max_depth': 1000, 'clf__min_samples_split': 0.05, 'clf__splitter': 'random', 'tfidf__norm': 'l2', 'vect__max_features': 10000, 'vect__ngram_range': (1, 1), 'vect__stop_words': 0}\n",
      "mean: 0.482 std: (+/-0.024) for {'clf__criterion': 'gini', 'clf__max_depth': 1000, 'clf__min_samples_split': 0.05, 'clf__splitter': 'random', 'tfidf__norm': 'l2', 'vect__max_features': 10000, 'vect__ngram_range': (1, 1), 'vect__stop_words': 1}\n",
      "Best score:\n",
      "0.499 (+/-0.024)\n",
      "with parameters set:\n",
      "\tclf__criterion: 'gini'\n",
      "\tclf__max_depth: 1000\n",
      "\tclf__min_samples_split: 0.01\n",
      "\tclf__splitter: 'random'\n",
      "\ttfidf__norm: 'l2'\n",
      "\tvect__max_features: 10000\n",
      "\tvect__ngram_range: (1, 1)\n",
      "\tvect__stop_words: 0\n"
     ]
    }
   ],
   "source": [
    "params_trial_3 = {\n",
    "                'vect__max_features': (1000, 10000),\n",
    "                'vect__ngram_range': ([(1, 1)]),\n",
    "                'vect__stop_words' : [stop_words_no_nums, stop_words_with_nums],\n",
    "                'tfidf__norm': (['l2']),\n",
    "                'clf__criterion': (['gini']), \n",
    "                'clf__max_depth': (500, 1000),\n",
    "                'clf__min_samples_split': (0.01, 0.05),\n",
    "                'clf__splitter': (['best', 'random']),\n",
    "        }\n",
    "\n",
    "clf.fit(params_trial_3,5)"
   ]
  },
  {
   "cell_type": "code",
   "execution_count": 39,
   "metadata": {},
   "outputs": [
    {
     "name": "stdout",
     "output_type": "stream",
     "text": [
      "Finding most common params for the top 7 values\n",
      "[{'gini': 7}, {500: 3, 1000: 4}, {0.01: 7}, {'best': 3, 'random': 4}, {'l2': 7}, {10000: 7}, {(1, 1): 7}, {1: 4, 0: 3}]\n"
     ]
    }
   ],
   "source": [
    "clf.eval_best_n_params(0.8)"
   ]
  },
  {
   "cell_type": "code",
   "execution_count": 43,
   "metadata": {},
   "outputs": [
    {
     "name": "stdout",
     "output_type": "stream",
     "text": [
      "Performing grid search...\n",
      "pipeline: ['vect', 'tfidf', 'clf']\n",
      "Fitting 5 folds for each of 72 candidates, totalling 360 fits\n"
     ]
    },
    {
     "name": "stderr",
     "output_type": "stream",
     "text": [
      "[Parallel(n_jobs=-1)]: Using backend LokyBackend with 8 concurrent workers.\n",
      "[Parallel(n_jobs=-1)]: Done   2 tasks      | elapsed:    5.2s\n",
      "[Parallel(n_jobs=-1)]: Done  56 tasks      | elapsed:   35.7s\n",
      "[Parallel(n_jobs=-1)]: Done 146 tasks      | elapsed:  2.0min\n",
      "[Parallel(n_jobs=-1)]: Done 272 tasks      | elapsed:  3.8min\n",
      "[Parallel(n_jobs=-1)]: Done 360 out of 360 | elapsed:  5.2min finished\n"
     ]
    },
    {
     "name": "stdout",
     "output_type": "stream",
     "text": [
      "done in 316.212s\n",
      "\n",
      "scores!\n",
      "mean: 0.432 std: (+/-0.025) for {'clf__criterion': 'gini', 'clf__max_depth': 1000, 'clf__max_features': 'auto', 'clf__min_samples_leaf': 1, 'clf__min_samples_split': 0.01, 'clf__splitter': 'best', 'tfidf__norm': 'l2', 'vect__max_features': 10000, 'vect__ngram_range': (1, 1), 'vect__stop_words': 0}\n",
      "mean: 0.438 std: (+/-0.012) for {'clf__criterion': 'gini', 'clf__max_depth': 1000, 'clf__max_features': 'auto', 'clf__min_samples_leaf': 1, 'clf__min_samples_split': 0.01, 'clf__splitter': 'best', 'tfidf__norm': 'l2', 'vect__max_features': 15000, 'vect__ngram_range': (1, 1), 'vect__stop_words': 0}\n",
      "mean: 0.435 std: (+/-0.033) for {'clf__criterion': 'gini', 'clf__max_depth': 1000, 'clf__max_features': 'auto', 'clf__min_samples_leaf': 1, 'clf__min_samples_split': 0.01, 'clf__splitter': 'random', 'tfidf__norm': 'l2', 'vect__max_features': 10000, 'vect__ngram_range': (1, 1), 'vect__stop_words': 0}\n",
      "mean: 0.406 std: (+/-0.044) for {'clf__criterion': 'gini', 'clf__max_depth': 1000, 'clf__max_features': 'auto', 'clf__min_samples_leaf': 1, 'clf__min_samples_split': 0.01, 'clf__splitter': 'random', 'tfidf__norm': 'l2', 'vect__max_features': 15000, 'vect__ngram_range': (1, 1), 'vect__stop_words': 0}\n",
      "mean: 0.439 std: (+/-0.031) for {'clf__criterion': 'gini', 'clf__max_depth': 1000, 'clf__max_features': 'auto', 'clf__min_samples_leaf': 2, 'clf__min_samples_split': 0.01, 'clf__splitter': 'best', 'tfidf__norm': 'l2', 'vect__max_features': 10000, 'vect__ngram_range': (1, 1), 'vect__stop_words': 0}\n",
      "mean: 0.433 std: (+/-0.021) for {'clf__criterion': 'gini', 'clf__max_depth': 1000, 'clf__max_features': 'auto', 'clf__min_samples_leaf': 2, 'clf__min_samples_split': 0.01, 'clf__splitter': 'best', 'tfidf__norm': 'l2', 'vect__max_features': 15000, 'vect__ngram_range': (1, 1), 'vect__stop_words': 0}\n",
      "mean: 0.426 std: (+/-0.017) for {'clf__criterion': 'gini', 'clf__max_depth': 1000, 'clf__max_features': 'auto', 'clf__min_samples_leaf': 2, 'clf__min_samples_split': 0.01, 'clf__splitter': 'random', 'tfidf__norm': 'l2', 'vect__max_features': 10000, 'vect__ngram_range': (1, 1), 'vect__stop_words': 0}\n",
      "mean: 0.414 std: (+/-0.041) for {'clf__criterion': 'gini', 'clf__max_depth': 1000, 'clf__max_features': 'auto', 'clf__min_samples_leaf': 2, 'clf__min_samples_split': 0.01, 'clf__splitter': 'random', 'tfidf__norm': 'l2', 'vect__max_features': 15000, 'vect__ngram_range': (1, 1), 'vect__stop_words': 0}\n",
      "mean: 0.411 std: (+/-0.055) for {'clf__criterion': 'gini', 'clf__max_depth': 1000, 'clf__max_features': 'auto', 'clf__min_samples_leaf': 5, 'clf__min_samples_split': 0.01, 'clf__splitter': 'best', 'tfidf__norm': 'l2', 'vect__max_features': 10000, 'vect__ngram_range': (1, 1), 'vect__stop_words': 0}\n",
      "mean: 0.410 std: (+/-0.026) for {'clf__criterion': 'gini', 'clf__max_depth': 1000, 'clf__max_features': 'auto', 'clf__min_samples_leaf': 5, 'clf__min_samples_split': 0.01, 'clf__splitter': 'best', 'tfidf__norm': 'l2', 'vect__max_features': 15000, 'vect__ngram_range': (1, 1), 'vect__stop_words': 0}\n",
      "mean: 0.397 std: (+/-0.037) for {'clf__criterion': 'gini', 'clf__max_depth': 1000, 'clf__max_features': 'auto', 'clf__min_samples_leaf': 5, 'clf__min_samples_split': 0.01, 'clf__splitter': 'random', 'tfidf__norm': 'l2', 'vect__max_features': 10000, 'vect__ngram_range': (1, 1), 'vect__stop_words': 0}\n",
      "mean: 0.380 std: (+/-0.039) for {'clf__criterion': 'gini', 'clf__max_depth': 1000, 'clf__max_features': 'auto', 'clf__min_samples_leaf': 5, 'clf__min_samples_split': 0.01, 'clf__splitter': 'random', 'tfidf__norm': 'l2', 'vect__max_features': 15000, 'vect__ngram_range': (1, 1), 'vect__stop_words': 0}\n",
      "mean: 0.485 std: (+/-0.027) for {'clf__criterion': 'gini', 'clf__max_depth': 1000, 'clf__max_features': None, 'clf__min_samples_leaf': 1, 'clf__min_samples_split': 0.01, 'clf__splitter': 'best', 'tfidf__norm': 'l2', 'vect__max_features': 10000, 'vect__ngram_range': (1, 1), 'vect__stop_words': 0}\n",
      "mean: 0.485 std: (+/-0.019) for {'clf__criterion': 'gini', 'clf__max_depth': 1000, 'clf__max_features': None, 'clf__min_samples_leaf': 1, 'clf__min_samples_split': 0.01, 'clf__splitter': 'best', 'tfidf__norm': 'l2', 'vect__max_features': 15000, 'vect__ngram_range': (1, 1), 'vect__stop_words': 0}\n",
      "mean: 0.498 std: (+/-0.015) for {'clf__criterion': 'gini', 'clf__max_depth': 1000, 'clf__max_features': None, 'clf__min_samples_leaf': 1, 'clf__min_samples_split': 0.01, 'clf__splitter': 'random', 'tfidf__norm': 'l2', 'vect__max_features': 10000, 'vect__ngram_range': (1, 1), 'vect__stop_words': 0}\n",
      "mean: 0.492 std: (+/-0.020) for {'clf__criterion': 'gini', 'clf__max_depth': 1000, 'clf__max_features': None, 'clf__min_samples_leaf': 1, 'clf__min_samples_split': 0.01, 'clf__splitter': 'random', 'tfidf__norm': 'l2', 'vect__max_features': 15000, 'vect__ngram_range': (1, 1), 'vect__stop_words': 0}\n",
      "mean: 0.484 std: (+/-0.015) for {'clf__criterion': 'gini', 'clf__max_depth': 1000, 'clf__max_features': None, 'clf__min_samples_leaf': 2, 'clf__min_samples_split': 0.01, 'clf__splitter': 'best', 'tfidf__norm': 'l2', 'vect__max_features': 10000, 'vect__ngram_range': (1, 1), 'vect__stop_words': 0}\n",
      "mean: 0.484 std: (+/-0.028) for {'clf__criterion': 'gini', 'clf__max_depth': 1000, 'clf__max_features': None, 'clf__min_samples_leaf': 2, 'clf__min_samples_split': 0.01, 'clf__splitter': 'best', 'tfidf__norm': 'l2', 'vect__max_features': 15000, 'vect__ngram_range': (1, 1), 'vect__stop_words': 0}\n",
      "mean: 0.487 std: (+/-0.011) for {'clf__criterion': 'gini', 'clf__max_depth': 1000, 'clf__max_features': None, 'clf__min_samples_leaf': 2, 'clf__min_samples_split': 0.01, 'clf__splitter': 'random', 'tfidf__norm': 'l2', 'vect__max_features': 10000, 'vect__ngram_range': (1, 1), 'vect__stop_words': 0}\n",
      "mean: 0.493 std: (+/-0.032) for {'clf__criterion': 'gini', 'clf__max_depth': 1000, 'clf__max_features': None, 'clf__min_samples_leaf': 2, 'clf__min_samples_split': 0.01, 'clf__splitter': 'random', 'tfidf__norm': 'l2', 'vect__max_features': 15000, 'vect__ngram_range': (1, 1), 'vect__stop_words': 0}\n",
      "mean: 0.473 std: (+/-0.015) for {'clf__criterion': 'gini', 'clf__max_depth': 1000, 'clf__max_features': None, 'clf__min_samples_leaf': 5, 'clf__min_samples_split': 0.01, 'clf__splitter': 'best', 'tfidf__norm': 'l2', 'vect__max_features': 10000, 'vect__ngram_range': (1, 1), 'vect__stop_words': 0}\n",
      "mean: 0.475 std: (+/-0.017) for {'clf__criterion': 'gini', 'clf__max_depth': 1000, 'clf__max_features': None, 'clf__min_samples_leaf': 5, 'clf__min_samples_split': 0.01, 'clf__splitter': 'best', 'tfidf__norm': 'l2', 'vect__max_features': 15000, 'vect__ngram_range': (1, 1), 'vect__stop_words': 0}\n",
      "mean: 0.480 std: (+/-0.011) for {'clf__criterion': 'gini', 'clf__max_depth': 1000, 'clf__max_features': None, 'clf__min_samples_leaf': 5, 'clf__min_samples_split': 0.01, 'clf__splitter': 'random', 'tfidf__norm': 'l2', 'vect__max_features': 10000, 'vect__ngram_range': (1, 1), 'vect__stop_words': 0}\n",
      "mean: 0.477 std: (+/-0.025) for {'clf__criterion': 'gini', 'clf__max_depth': 1000, 'clf__max_features': None, 'clf__min_samples_leaf': 5, 'clf__min_samples_split': 0.01, 'clf__splitter': 'random', 'tfidf__norm': 'l2', 'vect__max_features': 15000, 'vect__ngram_range': (1, 1), 'vect__stop_words': 0}\n",
      "mean: 0.451 std: (+/-0.030) for {'clf__criterion': 'gini', 'clf__max_depth': 5000, 'clf__max_features': 'auto', 'clf__min_samples_leaf': 1, 'clf__min_samples_split': 0.01, 'clf__splitter': 'best', 'tfidf__norm': 'l2', 'vect__max_features': 10000, 'vect__ngram_range': (1, 1), 'vect__stop_words': 0}\n",
      "mean: 0.448 std: (+/-0.033) for {'clf__criterion': 'gini', 'clf__max_depth': 5000, 'clf__max_features': 'auto', 'clf__min_samples_leaf': 1, 'clf__min_samples_split': 0.01, 'clf__splitter': 'best', 'tfidf__norm': 'l2', 'vect__max_features': 15000, 'vect__ngram_range': (1, 1), 'vect__stop_words': 0}\n",
      "mean: 0.428 std: (+/-0.037) for {'clf__criterion': 'gini', 'clf__max_depth': 5000, 'clf__max_features': 'auto', 'clf__min_samples_leaf': 1, 'clf__min_samples_split': 0.01, 'clf__splitter': 'random', 'tfidf__norm': 'l2', 'vect__max_features': 10000, 'vect__ngram_range': (1, 1), 'vect__stop_words': 0}\n",
      "mean: 0.424 std: (+/-0.029) for {'clf__criterion': 'gini', 'clf__max_depth': 5000, 'clf__max_features': 'auto', 'clf__min_samples_leaf': 1, 'clf__min_samples_split': 0.01, 'clf__splitter': 'random', 'tfidf__norm': 'l2', 'vect__max_features': 15000, 'vect__ngram_range': (1, 1), 'vect__stop_words': 0}\n",
      "mean: 0.446 std: (+/-0.026) for {'clf__criterion': 'gini', 'clf__max_depth': 5000, 'clf__max_features': 'auto', 'clf__min_samples_leaf': 2, 'clf__min_samples_split': 0.01, 'clf__splitter': 'best', 'tfidf__norm': 'l2', 'vect__max_features': 10000, 'vect__ngram_range': (1, 1), 'vect__stop_words': 0}\n",
      "mean: 0.441 std: (+/-0.038) for {'clf__criterion': 'gini', 'clf__max_depth': 5000, 'clf__max_features': 'auto', 'clf__min_samples_leaf': 2, 'clf__min_samples_split': 0.01, 'clf__splitter': 'best', 'tfidf__norm': 'l2', 'vect__max_features': 15000, 'vect__ngram_range': (1, 1), 'vect__stop_words': 0}\n",
      "mean: 0.427 std: (+/-0.024) for {'clf__criterion': 'gini', 'clf__max_depth': 5000, 'clf__max_features': 'auto', 'clf__min_samples_leaf': 2, 'clf__min_samples_split': 0.01, 'clf__splitter': 'random', 'tfidf__norm': 'l2', 'vect__max_features': 10000, 'vect__ngram_range': (1, 1), 'vect__stop_words': 0}\n",
      "mean: 0.424 std: (+/-0.040) for {'clf__criterion': 'gini', 'clf__max_depth': 5000, 'clf__max_features': 'auto', 'clf__min_samples_leaf': 2, 'clf__min_samples_split': 0.01, 'clf__splitter': 'random', 'tfidf__norm': 'l2', 'vect__max_features': 15000, 'vect__ngram_range': (1, 1), 'vect__stop_words': 0}\n",
      "mean: 0.411 std: (+/-0.024) for {'clf__criterion': 'gini', 'clf__max_depth': 5000, 'clf__max_features': 'auto', 'clf__min_samples_leaf': 5, 'clf__min_samples_split': 0.01, 'clf__splitter': 'best', 'tfidf__norm': 'l2', 'vect__max_features': 10000, 'vect__ngram_range': (1, 1), 'vect__stop_words': 0}\n",
      "mean: 0.413 std: (+/-0.051) for {'clf__criterion': 'gini', 'clf__max_depth': 5000, 'clf__max_features': 'auto', 'clf__min_samples_leaf': 5, 'clf__min_samples_split': 0.01, 'clf__splitter': 'best', 'tfidf__norm': 'l2', 'vect__max_features': 15000, 'vect__ngram_range': (1, 1), 'vect__stop_words': 0}\n",
      "mean: 0.389 std: (+/-0.028) for {'clf__criterion': 'gini', 'clf__max_depth': 5000, 'clf__max_features': 'auto', 'clf__min_samples_leaf': 5, 'clf__min_samples_split': 0.01, 'clf__splitter': 'random', 'tfidf__norm': 'l2', 'vect__max_features': 10000, 'vect__ngram_range': (1, 1), 'vect__stop_words': 0}\n",
      "mean: 0.371 std: (+/-0.053) for {'clf__criterion': 'gini', 'clf__max_depth': 5000, 'clf__max_features': 'auto', 'clf__min_samples_leaf': 5, 'clf__min_samples_split': 0.01, 'clf__splitter': 'random', 'tfidf__norm': 'l2', 'vect__max_features': 15000, 'vect__ngram_range': (1, 1), 'vect__stop_words': 0}\n",
      "mean: 0.486 std: (+/-0.024) for {'clf__criterion': 'gini', 'clf__max_depth': 5000, 'clf__max_features': None, 'clf__min_samples_leaf': 1, 'clf__min_samples_split': 0.01, 'clf__splitter': 'best', 'tfidf__norm': 'l2', 'vect__max_features': 10000, 'vect__ngram_range': (1, 1), 'vect__stop_words': 0}\n",
      "mean: 0.486 std: (+/-0.023) for {'clf__criterion': 'gini', 'clf__max_depth': 5000, 'clf__max_features': None, 'clf__min_samples_leaf': 1, 'clf__min_samples_split': 0.01, 'clf__splitter': 'best', 'tfidf__norm': 'l2', 'vect__max_features': 15000, 'vect__ngram_range': (1, 1), 'vect__stop_words': 0}\n",
      "mean: 0.484 std: (+/-0.019) for {'clf__criterion': 'gini', 'clf__max_depth': 5000, 'clf__max_features': None, 'clf__min_samples_leaf': 1, 'clf__min_samples_split': 0.01, 'clf__splitter': 'random', 'tfidf__norm': 'l2', 'vect__max_features': 10000, 'vect__ngram_range': (1, 1), 'vect__stop_words': 0}\n",
      "mean: 0.492 std: (+/-0.014) for {'clf__criterion': 'gini', 'clf__max_depth': 5000, 'clf__max_features': None, 'clf__min_samples_leaf': 1, 'clf__min_samples_split': 0.01, 'clf__splitter': 'random', 'tfidf__norm': 'l2', 'vect__max_features': 15000, 'vect__ngram_range': (1, 1), 'vect__stop_words': 0}\n",
      "mean: 0.484 std: (+/-0.023) for {'clf__criterion': 'gini', 'clf__max_depth': 5000, 'clf__max_features': None, 'clf__min_samples_leaf': 2, 'clf__min_samples_split': 0.01, 'clf__splitter': 'best', 'tfidf__norm': 'l2', 'vect__max_features': 10000, 'vect__ngram_range': (1, 1), 'vect__stop_words': 0}\n",
      "mean: 0.486 std: (+/-0.027) for {'clf__criterion': 'gini', 'clf__max_depth': 5000, 'clf__max_features': None, 'clf__min_samples_leaf': 2, 'clf__min_samples_split': 0.01, 'clf__splitter': 'best', 'tfidf__norm': 'l2', 'vect__max_features': 15000, 'vect__ngram_range': (1, 1), 'vect__stop_words': 0}\n",
      "mean: 0.493 std: (+/-0.018) for {'clf__criterion': 'gini', 'clf__max_depth': 5000, 'clf__max_features': None, 'clf__min_samples_leaf': 2, 'clf__min_samples_split': 0.01, 'clf__splitter': 'random', 'tfidf__norm': 'l2', 'vect__max_features': 10000, 'vect__ngram_range': (1, 1), 'vect__stop_words': 0}\n",
      "mean: 0.491 std: (+/-0.020) for {'clf__criterion': 'gini', 'clf__max_depth': 5000, 'clf__max_features': None, 'clf__min_samples_leaf': 2, 'clf__min_samples_split': 0.01, 'clf__splitter': 'random', 'tfidf__norm': 'l2', 'vect__max_features': 15000, 'vect__ngram_range': (1, 1), 'vect__stop_words': 0}\n",
      "mean: 0.472 std: (+/-0.016) for {'clf__criterion': 'gini', 'clf__max_depth': 5000, 'clf__max_features': None, 'clf__min_samples_leaf': 5, 'clf__min_samples_split': 0.01, 'clf__splitter': 'best', 'tfidf__norm': 'l2', 'vect__max_features': 10000, 'vect__ngram_range': (1, 1), 'vect__stop_words': 0}\n",
      "mean: 0.475 std: (+/-0.021) for {'clf__criterion': 'gini', 'clf__max_depth': 5000, 'clf__max_features': None, 'clf__min_samples_leaf': 5, 'clf__min_samples_split': 0.01, 'clf__splitter': 'best', 'tfidf__norm': 'l2', 'vect__max_features': 15000, 'vect__ngram_range': (1, 1), 'vect__stop_words': 0}\n",
      "mean: 0.476 std: (+/-0.013) for {'clf__criterion': 'gini', 'clf__max_depth': 5000, 'clf__max_features': None, 'clf__min_samples_leaf': 5, 'clf__min_samples_split': 0.01, 'clf__splitter': 'random', 'tfidf__norm': 'l2', 'vect__max_features': 10000, 'vect__ngram_range': (1, 1), 'vect__stop_words': 0}\n",
      "mean: 0.481 std: (+/-0.024) for {'clf__criterion': 'gini', 'clf__max_depth': 5000, 'clf__max_features': None, 'clf__min_samples_leaf': 5, 'clf__min_samples_split': 0.01, 'clf__splitter': 'random', 'tfidf__norm': 'l2', 'vect__max_features': 15000, 'vect__ngram_range': (1, 1), 'vect__stop_words': 0}\n",
      "mean: 0.441 std: (+/-0.036) for {'clf__criterion': 'gini', 'clf__max_depth': 10000, 'clf__max_features': 'auto', 'clf__min_samples_leaf': 1, 'clf__min_samples_split': 0.01, 'clf__splitter': 'best', 'tfidf__norm': 'l2', 'vect__max_features': 10000, 'vect__ngram_range': (1, 1), 'vect__stop_words': 0}\n",
      "mean: 0.434 std: (+/-0.027) for {'clf__criterion': 'gini', 'clf__max_depth': 10000, 'clf__max_features': 'auto', 'clf__min_samples_leaf': 1, 'clf__min_samples_split': 0.01, 'clf__splitter': 'best', 'tfidf__norm': 'l2', 'vect__max_features': 15000, 'vect__ngram_range': (1, 1), 'vect__stop_words': 0}\n",
      "mean: 0.425 std: (+/-0.049) for {'clf__criterion': 'gini', 'clf__max_depth': 10000, 'clf__max_features': 'auto', 'clf__min_samples_leaf': 1, 'clf__min_samples_split': 0.01, 'clf__splitter': 'random', 'tfidf__norm': 'l2', 'vect__max_features': 10000, 'vect__ngram_range': (1, 1), 'vect__stop_words': 0}\n",
      "mean: 0.431 std: (+/-0.035) for {'clf__criterion': 'gini', 'clf__max_depth': 10000, 'clf__max_features': 'auto', 'clf__min_samples_leaf': 1, 'clf__min_samples_split': 0.01, 'clf__splitter': 'random', 'tfidf__norm': 'l2', 'vect__max_features': 15000, 'vect__ngram_range': (1, 1), 'vect__stop_words': 0}\n",
      "mean: 0.438 std: (+/-0.025) for {'clf__criterion': 'gini', 'clf__max_depth': 10000, 'clf__max_features': 'auto', 'clf__min_samples_leaf': 2, 'clf__min_samples_split': 0.01, 'clf__splitter': 'best', 'tfidf__norm': 'l2', 'vect__max_features': 10000, 'vect__ngram_range': (1, 1), 'vect__stop_words': 0}\n",
      "mean: 0.423 std: (+/-0.030) for {'clf__criterion': 'gini', 'clf__max_depth': 10000, 'clf__max_features': 'auto', 'clf__min_samples_leaf': 2, 'clf__min_samples_split': 0.01, 'clf__splitter': 'best', 'tfidf__norm': 'l2', 'vect__max_features': 15000, 'vect__ngram_range': (1, 1), 'vect__stop_words': 0}\n",
      "mean: 0.415 std: (+/-0.024) for {'clf__criterion': 'gini', 'clf__max_depth': 10000, 'clf__max_features': 'auto', 'clf__min_samples_leaf': 2, 'clf__min_samples_split': 0.01, 'clf__splitter': 'random', 'tfidf__norm': 'l2', 'vect__max_features': 10000, 'vect__ngram_range': (1, 1), 'vect__stop_words': 0}\n",
      "mean: 0.418 std: (+/-0.033) for {'clf__criterion': 'gini', 'clf__max_depth': 10000, 'clf__max_features': 'auto', 'clf__min_samples_leaf': 2, 'clf__min_samples_split': 0.01, 'clf__splitter': 'random', 'tfidf__norm': 'l2', 'vect__max_features': 15000, 'vect__ngram_range': (1, 1), 'vect__stop_words': 0}\n",
      "mean: 0.406 std: (+/-0.029) for {'clf__criterion': 'gini', 'clf__max_depth': 10000, 'clf__max_features': 'auto', 'clf__min_samples_leaf': 5, 'clf__min_samples_split': 0.01, 'clf__splitter': 'best', 'tfidf__norm': 'l2', 'vect__max_features': 10000, 'vect__ngram_range': (1, 1), 'vect__stop_words': 0}\n",
      "mean: 0.413 std: (+/-0.049) for {'clf__criterion': 'gini', 'clf__max_depth': 10000, 'clf__max_features': 'auto', 'clf__min_samples_leaf': 5, 'clf__min_samples_split': 0.01, 'clf__splitter': 'best', 'tfidf__norm': 'l2', 'vect__max_features': 15000, 'vect__ngram_range': (1, 1), 'vect__stop_words': 0}\n",
      "mean: 0.391 std: (+/-0.043) for {'clf__criterion': 'gini', 'clf__max_depth': 10000, 'clf__max_features': 'auto', 'clf__min_samples_leaf': 5, 'clf__min_samples_split': 0.01, 'clf__splitter': 'random', 'tfidf__norm': 'l2', 'vect__max_features': 10000, 'vect__ngram_range': (1, 1), 'vect__stop_words': 0}\n",
      "mean: 0.377 std: (+/-0.024) for {'clf__criterion': 'gini', 'clf__max_depth': 10000, 'clf__max_features': 'auto', 'clf__min_samples_leaf': 5, 'clf__min_samples_split': 0.01, 'clf__splitter': 'random', 'tfidf__norm': 'l2', 'vect__max_features': 15000, 'vect__ngram_range': (1, 1), 'vect__stop_words': 0}\n",
      "mean: 0.485 std: (+/-0.017) for {'clf__criterion': 'gini', 'clf__max_depth': 10000, 'clf__max_features': None, 'clf__min_samples_leaf': 1, 'clf__min_samples_split': 0.01, 'clf__splitter': 'best', 'tfidf__norm': 'l2', 'vect__max_features': 10000, 'vect__ngram_range': (1, 1), 'vect__stop_words': 0}\n",
      "mean: 0.487 std: (+/-0.022) for {'clf__criterion': 'gini', 'clf__max_depth': 10000, 'clf__max_features': None, 'clf__min_samples_leaf': 1, 'clf__min_samples_split': 0.01, 'clf__splitter': 'best', 'tfidf__norm': 'l2', 'vect__max_features': 15000, 'vect__ngram_range': (1, 1), 'vect__stop_words': 0}\n",
      "mean: 0.499 std: (+/-0.019) for {'clf__criterion': 'gini', 'clf__max_depth': 10000, 'clf__max_features': None, 'clf__min_samples_leaf': 1, 'clf__min_samples_split': 0.01, 'clf__splitter': 'random', 'tfidf__norm': 'l2', 'vect__max_features': 10000, 'vect__ngram_range': (1, 1), 'vect__stop_words': 0}\n",
      "mean: 0.494 std: (+/-0.009) for {'clf__criterion': 'gini', 'clf__max_depth': 10000, 'clf__max_features': None, 'clf__min_samples_leaf': 1, 'clf__min_samples_split': 0.01, 'clf__splitter': 'random', 'tfidf__norm': 'l2', 'vect__max_features': 15000, 'vect__ngram_range': (1, 1), 'vect__stop_words': 0}\n",
      "mean: 0.482 std: (+/-0.023) for {'clf__criterion': 'gini', 'clf__max_depth': 10000, 'clf__max_features': None, 'clf__min_samples_leaf': 2, 'clf__min_samples_split': 0.01, 'clf__splitter': 'best', 'tfidf__norm': 'l2', 'vect__max_features': 10000, 'vect__ngram_range': (1, 1), 'vect__stop_words': 0}\n",
      "mean: 0.484 std: (+/-0.024) for {'clf__criterion': 'gini', 'clf__max_depth': 10000, 'clf__max_features': None, 'clf__min_samples_leaf': 2, 'clf__min_samples_split': 0.01, 'clf__splitter': 'best', 'tfidf__norm': 'l2', 'vect__max_features': 15000, 'vect__ngram_range': (1, 1), 'vect__stop_words': 0}\n",
      "mean: 0.499 std: (+/-0.014) for {'clf__criterion': 'gini', 'clf__max_depth': 10000, 'clf__max_features': None, 'clf__min_samples_leaf': 2, 'clf__min_samples_split': 0.01, 'clf__splitter': 'random', 'tfidf__norm': 'l2', 'vect__max_features': 10000, 'vect__ngram_range': (1, 1), 'vect__stop_words': 0}\n",
      "mean: 0.493 std: (+/-0.018) for {'clf__criterion': 'gini', 'clf__max_depth': 10000, 'clf__max_features': None, 'clf__min_samples_leaf': 2, 'clf__min_samples_split': 0.01, 'clf__splitter': 'random', 'tfidf__norm': 'l2', 'vect__max_features': 15000, 'vect__ngram_range': (1, 1), 'vect__stop_words': 0}\n",
      "mean: 0.471 std: (+/-0.017) for {'clf__criterion': 'gini', 'clf__max_depth': 10000, 'clf__max_features': None, 'clf__min_samples_leaf': 5, 'clf__min_samples_split': 0.01, 'clf__splitter': 'best', 'tfidf__norm': 'l2', 'vect__max_features': 10000, 'vect__ngram_range': (1, 1), 'vect__stop_words': 0}\n",
      "mean: 0.478 std: (+/-0.020) for {'clf__criterion': 'gini', 'clf__max_depth': 10000, 'clf__max_features': None, 'clf__min_samples_leaf': 5, 'clf__min_samples_split': 0.01, 'clf__splitter': 'best', 'tfidf__norm': 'l2', 'vect__max_features': 15000, 'vect__ngram_range': (1, 1), 'vect__stop_words': 0}\n",
      "mean: 0.480 std: (+/-0.012) for {'clf__criterion': 'gini', 'clf__max_depth': 10000, 'clf__max_features': None, 'clf__min_samples_leaf': 5, 'clf__min_samples_split': 0.01, 'clf__splitter': 'random', 'tfidf__norm': 'l2', 'vect__max_features': 10000, 'vect__ngram_range': (1, 1), 'vect__stop_words': 0}\n",
      "mean: 0.483 std: (+/-0.031) for {'clf__criterion': 'gini', 'clf__max_depth': 10000, 'clf__max_features': None, 'clf__min_samples_leaf': 5, 'clf__min_samples_split': 0.01, 'clf__splitter': 'random', 'tfidf__norm': 'l2', 'vect__max_features': 15000, 'vect__ngram_range': (1, 1), 'vect__stop_words': 0}\n",
      "Best score:\n",
      "0.499 (+/-0.031)\n",
      "with parameters set:\n",
      "\tclf__criterion: 'gini'\n",
      "\tclf__max_depth: 10000\n",
      "\tclf__max_features: None\n",
      "\tclf__min_samples_leaf: 1\n",
      "\tclf__min_samples_split: 0.01\n",
      "\tclf__splitter: 'random'\n",
      "\ttfidf__norm: 'l2'\n",
      "\tvect__max_features: 10000\n",
      "\tvect__ngram_range: (1, 1)\n",
      "\tvect__stop_words: 0\n"
     ]
    }
   ],
   "source": [
    "params_trial_4 = {\n",
    "                'vect__max_features': (10000, 15000),\n",
    "                'vect__ngram_range': ([(1, 1)]),\n",
    "                'vect__stop_words' : [stop_words_no_nums],\n",
    "                'tfidf__norm': (['l2']),\n",
    "                'clf__criterion': (['gini']), \n",
    "                'clf__max_depth': (1000, 5000, 10000),\n",
    "                'clf__min_samples_split': ([0.01]),\n",
    "                'clf__splitter': (['best', 'random']),\n",
    "                'clf__min_samples_leaf': (1, 2 , 5),\n",
    "                'clf__max_features': (['auto', None])\n",
    "            }\n",
    "\n",
    "clf.fit(params_trial_4,5)"
   ]
  },
  {
   "cell_type": "code",
   "execution_count": 44,
   "metadata": {},
   "outputs": [
    {
     "name": "stdout",
     "output_type": "stream",
     "text": [
      "Finding most common params for the top 15 values\n",
      "[{'gini': 15}, {5000: 6, 10000: 5, 1000: 4}, {None: 15}, {1: 8, 2: 7}, {0.01: 15}, {'best': 4, 'random': 11}, {'l2': 15}, {15000: 9, 10000: 6}, {(1, 1): 15}, {0: 15}]\n"
     ]
    }
   ],
   "source": [
    "clf.eval_best_n_params(0.8)"
   ]
  },
  {
   "cell_type": "code",
   "execution_count": 52,
   "metadata": {},
   "outputs": [
    {
     "name": "stdout",
     "output_type": "stream",
     "text": [
      "Performing grid search...\n",
      "pipeline: ['vect', 'tfidf', 'clf']\n",
      "Fitting 5 folds for each of 6 candidates, totalling 30 fits\n"
     ]
    },
    {
     "name": "stderr",
     "output_type": "stream",
     "text": [
      "[Parallel(n_jobs=-1)]: Using backend LokyBackend with 8 concurrent workers.\n",
      "[Parallel(n_jobs=-1)]: Done   2 tasks      | elapsed:    8.4s\n",
      "[Parallel(n_jobs=-1)]: Done  22 out of  30 | elapsed:   25.8s remaining:    9.4s\n",
      "[Parallel(n_jobs=-1)]: Done  30 out of  30 | elapsed:   33.5s finished\n"
     ]
    },
    {
     "name": "stdout",
     "output_type": "stream",
     "text": [
      "done in 37.839s\n",
      "\n",
      "scores!\n",
      "mean: 0.489 std: (+/-0.011) for {'clf__criterion': 'gini', 'clf__max_depth': 10000, 'clf__min_samples_split': 0.01, 'clf__splitter': 'random', 'tfidf__norm': 'l2', 'vect__max_features': 10000, 'vect__ngram_range': (1, 1), 'vect__stop_words': 0}\n",
      "mean: 0.489 std: (+/-0.017) for {'clf__criterion': 'gini', 'clf__max_depth': 10000, 'clf__min_samples_split': 0.01, 'clf__splitter': 'random', 'tfidf__norm': 'l2', 'vect__max_features': 10000, 'vect__ngram_range': (1, 1), 'vect__stop_words': 1}\n",
      "mean: 0.493 std: (+/-0.016) for {'clf__criterion': 'gini', 'clf__max_depth': 15000, 'clf__min_samples_split': 0.01, 'clf__splitter': 'random', 'tfidf__norm': 'l2', 'vect__max_features': 10000, 'vect__ngram_range': (1, 1), 'vect__stop_words': 0}\n",
      "mean: 0.492 std: (+/-0.028) for {'clf__criterion': 'gini', 'clf__max_depth': 15000, 'clf__min_samples_split': 0.01, 'clf__splitter': 'random', 'tfidf__norm': 'l2', 'vect__max_features': 10000, 'vect__ngram_range': (1, 1), 'vect__stop_words': 1}\n",
      "mean: 0.495 std: (+/-0.021) for {'clf__criterion': 'gini', 'clf__max_depth': 20000, 'clf__min_samples_split': 0.01, 'clf__splitter': 'random', 'tfidf__norm': 'l2', 'vect__max_features': 10000, 'vect__ngram_range': (1, 1), 'vect__stop_words': 0}\n",
      "mean: 0.490 std: (+/-0.022) for {'clf__criterion': 'gini', 'clf__max_depth': 20000, 'clf__min_samples_split': 0.01, 'clf__splitter': 'random', 'tfidf__norm': 'l2', 'vect__max_features': 10000, 'vect__ngram_range': (1, 1), 'vect__stop_words': 1}\n",
      "Best score:\n",
      "0.495 (+/-0.022)\n",
      "with parameters set:\n",
      "\tclf__criterion: 'gini'\n",
      "\tclf__max_depth: 20000\n",
      "\tclf__min_samples_split: 0.01\n",
      "\tclf__splitter: 'random'\n",
      "\ttfidf__norm: 'l2'\n",
      "\tvect__max_features: 10000\n",
      "\tvect__ngram_range: (1, 1)\n",
      "\tvect__stop_words: 0\n"
     ]
    }
   ],
   "source": [
    "# min_sample_leaf = 2 (Default)\n",
    "# max_features = None (Default)\n",
    "params_trial_5 = {\n",
    "                'vect__max_features': ([10000]),\n",
    "                'vect__ngram_range': ([(1, 1)]),\n",
    "                'vect__stop_words' : [stop_words_no_nums, stop_words_with_nums],\n",
    "                'tfidf__norm': (['l2']),\n",
    "                'clf__criterion': (['gini']), \n",
    "                'clf__max_depth': (10000, 15000, 20000),\n",
    "                'clf__min_samples_split': ([0.01]),\n",
    "                'clf__splitter': (['random']),\n",
    "\n",
    "            }\n",
    "\n",
    "clf.fit(params_trial_5,5)"
   ]
  },
  {
   "cell_type": "code",
   "execution_count": 53,
   "metadata": {},
   "outputs": [
    {
     "name": "stdout",
     "output_type": "stream",
     "text": [
      "Finding most common params for the top 2 values\n",
      "[{'gini': 2}, {15000: 1, 20000: 1}, {0.01: 2}, {'random': 2}, {'l2': 2}, {10000: 2}, {(1, 1): 2}, {0: 2}]\n"
     ]
    }
   ],
   "source": [
    "clf.eval_best_n_params(0.8)"
   ]
  },
  {
   "cell_type": "code",
   "execution_count": 6,
   "metadata": {},
   "outputs": [
    {
     "name": "stdout",
     "output_type": "stream",
     "text": [
      "Performing grid search...\n",
      "pipeline: ['vect', 'tfidf', 'clf']\n",
      "Fitting 5 folds for each of 1 candidates, totalling 5 fits\n"
     ]
    },
    {
     "name": "stderr",
     "output_type": "stream",
     "text": [
      "[Parallel(n_jobs=-1)]: Using backend LokyBackend with 8 concurrent workers.\n",
      "[Parallel(n_jobs=-1)]: Done   2 out of   5 | elapsed:    6.0s remaining:    8.9s\n",
      "[Parallel(n_jobs=-1)]: Done   5 out of   5 | elapsed:    7.5s finished\n"
     ]
    },
    {
     "name": "stdout",
     "output_type": "stream",
     "text": [
      "done in 11.586s\n",
      "\n",
      "scores!\n",
      "mean: 0.489 std: (+/-0.017) for {'clf__criterion': 'gini', 'clf__max_depth': 15000, 'clf__min_samples_split': 0.01, 'clf__splitter': 'random', 'tfidf__norm': 'l2', 'vect__max_features': 10000, 'vect__ngram_range': (1, 1), 'vect__stop_words': 0}\n",
      "Best score:\n",
      "0.489 (+/-0.017)\n",
      "with parameters set:\n",
      "\tclf__criterion: 'gini'\n",
      "\tclf__max_depth: 15000\n",
      "\tclf__min_samples_split: 0.01\n",
      "\tclf__splitter: 'random'\n",
      "\ttfidf__norm: 'l2'\n",
      "\tvect__max_features: 10000\n",
      "\tvect__ngram_range: (1, 1)\n",
      "\tvect__stop_words: 0\n"
     ]
    }
   ],
   "source": [
    "params_trial_final = {\n",
    "                'vect__max_features': ([10000]),\n",
    "                'vect__ngram_range': ([(1, 1)]),\n",
    "                'vect__stop_words' : [stop_words_no_nums],\n",
    "                'tfidf__norm': (['l2']),\n",
    "                'clf__criterion': (['gini']), \n",
    "                'clf__max_depth': ([15000]),\n",
    "                'clf__min_samples_split': ([0.01]),\n",
    "                'clf__splitter': (['random']),\n",
    "\n",
    "            }\n",
    "\n",
    "clf.fit(params_trial_final,5)"
   ]
  },
  {
   "cell_type": "code",
   "execution_count": 7,
   "metadata": {},
   "outputs": [
    {
     "name": "stdout",
     "output_type": "stream",
     "text": [
      "Evaluation on test set:\n",
      "\n",
      "Accuracy Score : 0.46667551779075944\n",
      "Precision Score : 0.46667551779075944\n",
      "Recall Score : 0.46667551779075944\n",
      "F1 Score : 0.46667551779075944\n",
      "Confusion Matrix\n",
      "[[ 95   5   2   5   2   2   8  25  10   6  12   1   3  11  14  55   5   9\n",
      "   19  30]\n",
      " [  3 182  35  34  10  32   7  14   5   3   4   3  22   4  14   0   3   4\n",
      "   10   0]\n",
      " [  4  37 161  49  22  22   9  27   4   9   1   3   6   6   8   1   3   9\n",
      "   13   0]\n",
      " [  2  14  31 190  35   9  15  18   2   3   7   4  47   6   0   1   2   1\n",
      "    5   0]\n",
      " [  2  16  14  48 173   4  17  32   7   2   9   3  28   8   5   0   6   2\n",
      "    6   3]\n",
      " [  4  36  50  34   8 193   2  19   0   4   1   7  12   4   6   2   2   2\n",
      "    7   2]\n",
      " [  1   7   8  29  26   1 221  34   9   3  11   4  11   4  10   2   1   0\n",
      "    5   3]\n",
      " [  6   2   8   7   8   6  11 224  28   0   8   4  31   9   9   4   7   5\n",
      "   16   3]\n",
      " [  9   4   7   6   9   5   9  42 211  12   1   3  20  12  13   4   8   6\n",
      "   15   2]\n",
      " [  8   5   2   6   3   1   2  33   9 188  91   1   4   5   9   4   5   4\n",
      "   10   7]\n",
      " [  5   0   1   2   1   3   3  28   8  45 266   1   4   3   7   3   7   2\n",
      "    9   1]\n",
      " [  6  13  12  12   7   7   3  30   5   5   4 174  22  15   5   5  20  11\n",
      "   35   5]\n",
      " [  4  15  26  40  15   6  13  43  12   5  12  16 138  18  11   4   4   3\n",
      "    5   3]\n",
      " [ 13   9   9  15   4   7  13  29  13   4   8   3  27 174  15   6   6  10\n",
      "   26   5]\n",
      " [  9  12  10   6   5   5   5  36  17   5  10   4  30   9 196   5   9   2\n",
      "   16   3]\n",
      " [ 50   1  10   5   3   4   2  24   1   3   2   0   5  11   5 226   4   6\n",
      "   10  26]\n",
      " [  9   4   7   1   2   2   4  34  11   2   5   7   9  17  13  12 151   7\n",
      "   58   9]\n",
      " [ 21   0   1   1   1   5   1  19   9  13   1   4   6  10   6  13  14 216\n",
      "   33   2]\n",
      " [  8   1   5   3   2   3   2  27   6   3  11   1  18  25   7  10  45  17\n",
      "  106  10]\n",
      " [ 38   3   6   0   5   1   3  14   8   2   5   1   6  10   6  70  20   6\n",
      "   17  30]]\n"
     ]
    },
    {
     "data": {
      "image/png": "[encoded data removed]",
      "text/plain": [
       "<Figure size 432x288 with 2 Axes>"
      ]
     },
     "metadata": {
      "needs_background": "light"
     },
     "output_type": "display_data"
    },
    {
     "data": {
      "image/png": "[encoded data removed]",
      "text/plain": [
       "<Figure size 432x288 with 1 Axes>"
      ]
     },
     "metadata": {
      "needs_background": "light"
     },
     "output_type": "display_data"
    }
   ],
   "source": [
    "clf.eval_on_test([],False)\n",
    "clf.learning_curve([0.1,0.2,0.3,0.4,0.5,0.6,0.7,0.8,0.9,1.0])"
   ]
  },
  {
   "cell_type": "code",
   "execution_count": null,
   "metadata": {},
   "outputs": [],
   "source": []
  }
 ],
 "metadata": {
  "kernelspec": {
   "display_name": "Python 3",
   "language": "python",
   "name": "python3"
  },
  "language_info": {
   "codemirror_mode": {
    "name": "ipython",
    "version": 3
   },
   "file_extension": ".py",
   "mimetype": "text/x-python",
   "name": "python",
   "nbconvert_exporter": "python",
   "pygments_lexer": "ipython3",
   "version": "3.6.9"
  }
 },
 "nbformat": 4,
 "nbformat_minor": 2
}
