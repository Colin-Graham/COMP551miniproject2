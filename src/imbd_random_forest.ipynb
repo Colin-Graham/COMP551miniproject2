{
 "cells": [
  {
   "cell_type": "code",
   "execution_count": 2,
   "metadata": {},
   "outputs": [],
   "source": [
    "from model import Classifier\n",
    "from sklearn.ensemble import RandomForestClassifier"
   ]
  },
  {
   "cell_type": "code",
   "execution_count": 3,
   "metadata": {},
   "outputs": [],
   "source": [
    "clf = Classifier(1, RandomForestClassifier())"
   ]
  },
  {
   "cell_type": "code",
   "execution_count": 4,
   "metadata": {},
   "outputs": [],
   "source": [
    "path = \"../data/stop_words_news_groups/\"\n",
    "with open(path+\"stop_words_no_numbers.txt\", 'r') as content_file:\n",
    "        content = content_file.read().replace(\" \",\"\").replace(\"\\n\",\"\").split(\",\")\n",
    "        stop_words_no_nums = frozenset(content)\n",
    "with open(path+\"stop_words_with_nums.txt\", 'r') as content_file:\n",
    "        content = content_file.read().replace(\" \",\"\").replace(\"\\n\",\"\").split(\",\")\n",
    "        stop_words_with_nums = frozenset(content)"
   ]
  },
  {
   "cell_type": "code",
   "execution_count": 6,
   "metadata": {},
   "outputs": [
    {
     "name": "stdout",
     "output_type": "stream",
     "text": [
      "Performing grid search...\n",
      "pipeline: ['vect', 'tfidf', 'clf']\n",
      "Fitting 5 folds for each of 8 candidates, totalling 40 fits\n"
     ]
    },
    {
     "name": "stderr",
     "output_type": "stream",
     "text": [
      "[Parallel(n_jobs=-1)]: Using backend LokyBackend with 8 concurrent workers.\n",
      "[Parallel(n_jobs=-1)]: Done   2 tasks      | elapsed:   59.6s\n",
      "[Parallel(n_jobs=-1)]: Done  34 out of  40 | elapsed:  4.8min remaining:   50.8s\n",
      "[Parallel(n_jobs=-1)]: Done  40 out of  40 | elapsed:  4.9min finished\n"
     ]
    },
    {
     "name": "stdout",
     "output_type": "stream",
     "text": [
      "done in 337.772s\n",
      "\n",
      "scores!\n",
      "mean: 0.646 std: (+/-0.021) for {'clf__criterion': 'gini', 'clf__max_depth': 1000, 'clf__n_estimators': 200, 'tfidf__norm': 'l2', 'vect__max_features': 10000, 'vect__ngram_range': (1, 1), 'vect__stop_words': 0}\n",
      "mean: 0.647 std: (+/-0.017) for {'clf__criterion': 'gini', 'clf__max_depth': 1000, 'clf__n_estimators': 200, 'tfidf__norm': 'l2', 'vect__max_features': 10000, 'vect__ngram_range': (1, 1), 'vect__stop_words': 1}\n",
      "mean: 0.657 std: (+/-0.015) for {'clf__criterion': 'gini', 'clf__max_depth': 1000, 'clf__n_estimators': 200, 'tfidf__norm': 'l2', 'vect__max_features': 15000, 'vect__ngram_range': (1, 1), 'vect__stop_words': 0}\n",
      "mean: 0.654 std: (+/-0.016) for {'clf__criterion': 'gini', 'clf__max_depth': 1000, 'clf__n_estimators': 200, 'tfidf__norm': 'l2', 'vect__max_features': 15000, 'vect__ngram_range': (1, 1), 'vect__stop_words': 1}\n",
      "mean: 0.649 std: (+/-0.022) for {'clf__criterion': 'gini', 'clf__max_depth': 5000, 'clf__n_estimators': 200, 'tfidf__norm': 'l2', 'vect__max_features': 10000, 'vect__ngram_range': (1, 1), 'vect__stop_words': 0}\n",
      "mean: 0.648 std: (+/-0.017) for {'clf__criterion': 'gini', 'clf__max_depth': 5000, 'clf__n_estimators': 200, 'tfidf__norm': 'l2', 'vect__max_features': 10000, 'vect__ngram_range': (1, 1), 'vect__stop_words': 1}\n",
      "mean: 0.657 std: (+/-0.014) for {'clf__criterion': 'gini', 'clf__max_depth': 5000, 'clf__n_estimators': 200, 'tfidf__norm': 'l2', 'vect__max_features': 15000, 'vect__ngram_range': (1, 1), 'vect__stop_words': 0}\n",
      "mean: 0.657 std: (+/-0.019) for {'clf__criterion': 'gini', 'clf__max_depth': 5000, 'clf__n_estimators': 200, 'tfidf__norm': 'l2', 'vect__max_features': 15000, 'vect__ngram_range': (1, 1), 'vect__stop_words': 1}\n",
      "Best score:\n",
      "0.657 (+/-0.019)\n",
      "with parameters set:\n",
      "\tclf__criterion: 'gini'\n",
      "\tclf__max_depth: 5000\n",
      "\tclf__n_estimators: 200\n",
      "\ttfidf__norm: 'l2'\n",
      "\tvect__max_features: 15000\n",
      "\tvect__ngram_range: (1, 1)\n",
      "\tvect__stop_words: 0\n"
     ]
    }
   ],
   "source": [
    "params_trial_1 = {\n",
    "                'vect__max_features': ([10000, 15000]),\n",
    "                'vect__ngram_range': ([(1, 1)]),\n",
    "                'vect__stop_words' : [stop_words_no_nums, stop_words_with_nums],\n",
    "                'tfidf__norm': (['l2']),\n",
    "                'clf__n_estimators': ([200]),\n",
    "                'clf__criterion': ['gini'],\n",
    "                'clf__max_depth': (1000, 5000)\n",
    "}\n",
    "clf.fit(params_trial_1,5)"
   ]
  },
  {
   "cell_type": "code",
   "execution_count": 7,
   "metadata": {},
   "outputs": [
    {
     "name": "stdout",
     "output_type": "stream",
     "text": [
      "Finding most common params for the top 2 values\n",
      "[{'gini': 2}, {5000: 2}, {200: 2}, {'l2': 2}, {15000: 2}, {(1, 1): 2}, {1: 1, 0: 1}]\n"
     ]
    }
   ],
   "source": [
    "clf.eval_best_n_params(0.8)"
   ]
  },
  {
   "cell_type": "code",
   "execution_count": 11,
   "metadata": {},
   "outputs": [
    {
     "name": "stdout",
     "output_type": "stream",
     "text": [
      "Performing grid search...\n",
      "pipeline: ['vect', 'tfidf', 'clf']\n",
      "Fitting 5 folds for each of 8 candidates, totalling 40 fits\n"
     ]
    },
    {
     "name": "stderr",
     "output_type": "stream",
     "text": [
      "[Parallel(n_jobs=-1)]: Using backend LokyBackend with 8 concurrent workers.\n",
      "[Parallel(n_jobs=-1)]: Done   2 tasks      | elapsed:  2.4min\n",
      "[Parallel(n_jobs=-1)]: Done  34 out of  40 | elapsed: 15.0min remaining:  2.6min\n",
      "[Parallel(n_jobs=-1)]: Done  40 out of  40 | elapsed: 16.5min finished\n"
     ]
    },
    {
     "name": "stdout",
     "output_type": "stream",
     "text": [
      "done in 1158.741s\n",
      "\n",
      "scores!\n",
      "mean: 0.649 std: (+/-0.012) for {'clf__criterion': 'gini', 'clf__max_depth': 1000, 'clf__n_estimators': 500, 'tfidf__norm': 'l2', 'vect__max_features': 12000, 'vect__ngram_range': (1, 1)}\n",
      "mean: 0.650 std: (+/-0.016) for {'clf__criterion': 'gini', 'clf__max_depth': 1000, 'clf__n_estimators': 500, 'tfidf__norm': 'l2', 'vect__max_features': 15000, 'vect__ngram_range': (1, 1)}\n",
      "mean: 0.649 std: (+/-0.010) for {'clf__criterion': 'gini', 'clf__max_depth': 1000, 'clf__n_estimators': 750, 'tfidf__norm': 'l2', 'vect__max_features': 12000, 'vect__ngram_range': (1, 1)}\n",
      "mean: 0.652 std: (+/-0.015) for {'clf__criterion': 'gini', 'clf__max_depth': 1000, 'clf__n_estimators': 750, 'tfidf__norm': 'l2', 'vect__max_features': 15000, 'vect__ngram_range': (1, 1)}\n",
      "mean: 0.643 std: (+/-0.014) for {'clf__criterion': 'gini', 'clf__max_depth': 5000, 'clf__n_estimators': 500, 'tfidf__norm': 'l2', 'vect__max_features': 12000, 'vect__ngram_range': (1, 1)}\n",
      "mean: 0.649 std: (+/-0.011) for {'clf__criterion': 'gini', 'clf__max_depth': 5000, 'clf__n_estimators': 500, 'tfidf__norm': 'l2', 'vect__max_features': 15000, 'vect__ngram_range': (1, 1)}\n",
      "mean: 0.647 std: (+/-0.020) for {'clf__criterion': 'gini', 'clf__max_depth': 5000, 'clf__n_estimators': 750, 'tfidf__norm': 'l2', 'vect__max_features': 12000, 'vect__ngram_range': (1, 1)}\n",
      "mean: 0.650 std: (+/-0.013) for {'clf__criterion': 'gini', 'clf__max_depth': 5000, 'clf__n_estimators': 750, 'tfidf__norm': 'l2', 'vect__max_features': 15000, 'vect__ngram_range': (1, 1)}\n",
      "Best score:\n",
      "0.652 (+/-0.013)\n",
      "with parameters set:\n",
      "\tclf__criterion: 'gini'\n",
      "\tclf__max_depth: 1000\n",
      "\tclf__n_estimators: 750\n",
      "\ttfidf__norm: 'l2'\n",
      "\tvect__max_features: 15000\n",
      "\tvect__ngram_range: (1, 1)\n"
     ]
    }
   ],
   "source": [
    "params_trial_2 = {\n",
    "                'vect__max_features': ([12000, 15000]),\n",
    "                'vect__ngram_range': ([(1, 1)]),\n",
    "                'vect__stop_words' : [stop_words_no_nums, stop_words_with_nums],\n",
    "                'tfidf__norm': (['l2']),\n",
    "                'clf__n_estimators': (500, 750),\n",
    "                'clf__criterion': (['gini']),\n",
    "                'clf__max_depth': (1000, 5000)\n",
    "}\n",
    "\n",
    "clf.fit(params_trial_2,5)"
   ]
  },
  {
   "cell_type": "code",
   "execution_count": 12,
   "metadata": {},
   "outputs": [
    {
     "name": "stdout",
     "output_type": "stream",
     "text": [
      "Finding most common params for the top 2 values\n",
      "[{'gini': 2}, {5000: 1, 1000: 1}, {750: 2}, {'l2': 2}, {15000: 2}, {(1, 1): 2}]\n"
     ]
    }
   ],
   "source": [
    "clf.eval_best_n_params(0.8)"
   ]
  },
  {
   "cell_type": "code",
   "execution_count": 5,
   "metadata": {},
   "outputs": [
    {
     "name": "stdout",
     "output_type": "stream",
     "text": [
      "Performing grid search...\n",
      "pipeline: ['vect', 'tfidf', 'clf']\n",
      "Fitting 5 folds for each of 2 candidates, totalling 10 fits\n"
     ]
    },
    {
     "name": "stderr",
     "output_type": "stream",
     "text": [
      "[Parallel(n_jobs=-1)]: Using backend LokyBackend with 8 concurrent workers.\n",
      "[Parallel(n_jobs=-1)]: Done   4 out of  10 | elapsed:  3.8min remaining:  5.7min\n",
      "[Parallel(n_jobs=-1)]: Done   7 out of  10 | elapsed:  4.7min remaining:  2.0min\n",
      "[Parallel(n_jobs=-1)]: Done  10 out of  10 | elapsed:  6.8min remaining:    0.0s\n",
      "[Parallel(n_jobs=-1)]: Done  10 out of  10 | elapsed:  6.8min finished\n"
     ]
    },
    {
     "name": "stdout",
     "output_type": "stream",
     "text": [
      "done in 632.930s\n",
      "\n",
      "scores!\n",
      "mean: 0.651 std: (+/-0.014) for {'clf__criterion': 'gini', 'clf__max_depth': 1000, 'clf__n_estimators': 750, 'tfidf__norm': 'l2', 'vect__max_features': 15000, 'vect__ngram_range': (1, 1)}\n",
      "mean: 0.654 std: (+/-0.014) for {'clf__criterion': 'gini', 'clf__max_depth': 1000, 'clf__n_estimators': 1000, 'tfidf__norm': 'l2', 'vect__max_features': 15000, 'vect__ngram_range': (1, 1)}\n",
      "Best score:\n",
      "0.654 (+/-0.014)\n",
      "with parameters set:\n",
      "\tclf__criterion: 'gini'\n",
      "\tclf__max_depth: 1000\n",
      "\tclf__n_estimators: 1000\n",
      "\ttfidf__norm: 'l2'\n",
      "\tvect__max_features: 15000\n",
      "\tvect__ngram_range: (1, 1)\n"
     ]
    }
   ],
   "source": [
    "params_trial_3 = {\n",
    "                'vect__max_features': ([15000]),\n",
    "                'vect__ngram_range': ([(1, 1)]),\n",
    "                'vect__stop_words' : [stop_words_no_nums, stop_words_with_nums],\n",
    "                'tfidf__norm': (['l2']),\n",
    "                'clf__n_estimators': (750, 1000),\n",
    "                'clf__criterion': (['gini']),\n",
    "                'clf__max_depth': ([1000])\n",
    "}\n",
    "\n",
    "clf.fit(params_trial_3,5)"
   ]
  },
  {
   "cell_type": "code",
   "execution_count": 6,
   "metadata": {},
   "outputs": [
    {
     "name": "stdout",
     "output_type": "stream",
     "text": [
      "Finding most common params for the top 1 values\n",
      "[{'gini': 1}, {1000: 1}, {1000: 1}, {'l2': 1}, {15000: 1}, {(1, 1): 1}]\n"
     ]
    }
   ],
   "source": [
    "clf.eval_best_n_params(0.8)"
   ]
  },
  {
   "cell_type": "code",
   "execution_count": 10,
   "metadata": {
    "scrolled": false
   },
   "outputs": [
    {
     "name": "stdout",
     "output_type": "stream",
     "text": [
      "Performing grid search...\n",
      "pipeline: ['vect', 'tfidf', 'clf']\n",
      "Fitting 5 folds for each of 1 candidates, totalling 5 fits\n"
     ]
    },
    {
     "name": "stderr",
     "output_type": "stream",
     "text": [
      "[Parallel(n_jobs=-1)]: Using backend LokyBackend with 8 concurrent workers.\n",
      "[Parallel(n_jobs=-1)]: Done   2 out of   5 | elapsed:  3.1min remaining:  4.7min\n",
      "[Parallel(n_jobs=-1)]: Done   5 out of   5 | elapsed:  3.4min finished\n"
     ]
    },
    {
     "name": "stdout",
     "output_type": "stream",
     "text": [
      "done in 392.895s\n",
      "\n",
      "scores!\n",
      "mean: 0.656 std: (+/-0.018) for {'clf__criterion': 'gini', 'clf__max_depth': 1000, 'clf__n_estimators': 1000, 'tfidf__norm': 'l2', 'vect__max_features': 12000, 'vect__ngram_range': (1, 1), 'vect__stop_words': 0}\n",
      "Best score:\n",
      "0.656 (+/-0.018)\n",
      "with parameters set:\n",
      "\tclf__criterion: 'gini'\n",
      "\tclf__max_depth: 1000\n",
      "\tclf__n_estimators: 1000\n",
      "\ttfidf__norm: 'l2'\n",
      "\tvect__max_features: 12000\n",
      "\tvect__ngram_range: (1, 1)\n",
      "\tvect__stop_words: 0\n"
     ]
    }
   ],
   "source": [
    "params_trial_4 = {\n",
    "                'vect__max_features': ([12000]),\n",
    "                'vect__ngram_range': ([(1, 1)]),\n",
    "                'tfidf__norm': (['l2']),\n",
    "                'vect__stop_words' : [stop_words_no_nums],\n",
    "                'clf__n_estimators': ([1000]),\n",
    "                'clf__criterion': (['gini']),\n",
    "                'clf__max_depth': ([1000])\n",
    "}\n",
    "\n",
    "clf.fit(params_trial_4,5)"
   ]
  },
  {
   "cell_type": "code",
   "execution_count": 11,
   "metadata": {},
   "outputs": [
    {
     "name": "stdout",
     "output_type": "stream",
     "text": [
      "Finding most common params for the top 1 values\n",
      "[{'gini': 1}, {1000: 1}, {1000: 1}, {'l2': 1}, {12000: 1}, {(1, 1): 1}, {0: 1}]\n"
     ]
    }
   ],
   "source": [
    "clf.eval_best_n_params(0.8)"
   ]
  },
  {
   "cell_type": "code",
   "execution_count": 12,
   "metadata": {},
   "outputs": [
    {
     "name": "stdout",
     "output_type": "stream",
     "text": [
      "Evaluation on test set:\n",
      "\n",
      "Accuracy Score : 0.6125862984599044\n",
      "Precision Score : 0.6125862984599044\n",
      "Recall Score : 0.6125862984599044\n",
      "F1 Score : 0.6125862984599044\n",
      "Confusion Matrix\n",
      "[[121   3   2   1   1   3   9  18   6   4   6   5   2   8  16  82   9   7\n",
      "   10   6]\n",
      " [  3 229  35  14  10  34   6  10   7   6   3   3  11   2  14   0   1   0\n",
      "    1   0]\n",
      " [  1  17 249  30  18  18   1  17   8   5   3   4   3   3   8   0   3   3\n",
      "    3   0]\n",
      " [  1  13  41 223  23  15  14  11   1   4   3   2  34   2   4   0   0   0\n",
      "    0   1]\n",
      " [  1   3  12  34 251   8  14  19   3   3   2   2  23   3   2   0   1   0\n",
      "    2   2]\n",
      " [  3  33  41   7   7 260   6   9   2   2   2   3   5   3   8   0   2   0\n",
      "    1   1]\n",
      " [  0   5   8  17  15   1 284  20   3   5   1   1   9   2   7   1   5   2\n",
      "    3   1]\n",
      " [  4   5   7   3   6   7  14 267  23   5   4   1  23   4   6   3   7   1\n",
      "    6   0]\n",
      " [  3   1   3   2   1   4  10  48 263  17   1   2  10   3   5   5   7   2\n",
      "    5   6]\n",
      " [  2   3   3   2   0   2   2  25   9 300  28   2   1   3   3   3   0   1\n",
      "    7   1]\n",
      " [  1   0   2   1   1   2   1  12   7  31 324   0   1   4   4   0   1   0\n",
      "    5   2]\n",
      " [  7   6   5   5   6  11   8  21   5   3   2 248  15   4   6   2  28   2\n",
      "   10   2]\n",
      " [  3  23   8  29  19  12  15  35   5  10   9  15 170  14  13   2   1   2\n",
      "    7   1]\n",
      " [  7  11   6   1   2   8  16  28   9   8   1   0  13 261   5   7   3   2\n",
      "    5   3]\n",
      " [  4   9   3   5   1   3   6  30   6  10   4   4  18  10 262   4   6   0\n",
      "    9   0]\n",
      " [ 14   3   3   0   0   4   3  15   5   1   3   0   4   4   4 314   1   6\n",
      "    8   6]\n",
      " [  7   2   4   1   2   4   2  22  10   8   2  14  10  11   7  13 212   5\n",
      "   20   8]\n",
      " [ 25   1   2   0   1   3   1  11   7  10   2   4   5   4   6  13  10 256\n",
      "   15   0]\n",
      " [ 13   1   1   1   1   1   2  13   7   7   6   4   9  23  11  11  85   2\n",
      "  104   8]\n",
      " [ 45   4   2   1   2   2   2  17   4   2   2   3   2   8   2  96  23   8\n",
      "   10  16]]\n"
     ]
    },
    {
     "data": {
      "image/png": "[encoded data removed]",
      "text/plain": [
       "<Figure size 432x288 with 2 Axes>"
      ]
     },
     "metadata": {
      "needs_background": "light"
     },
     "output_type": "display_data"
    }
   ],
   "source": [
    "clf.eval_on_test([],False)"
   ]
  },
  {
   "cell_type": "code",
   "execution_count": null,
   "metadata": {},
   "outputs": [],
   "source": []
  }
 ],
 "metadata": {
  "kernelspec": {
   "display_name": "Python 3",
   "language": "python",
   "name": "python3"
  },
  "language_info": {
   "codemirror_mode": {
    "name": "ipython",
    "version": 3
   },
   "file_extension": ".py",
   "mimetype": "text/x-python",
   "name": "python",
   "nbconvert_exporter": "python",
   "pygments_lexer": "ipython3",
   "version": "3.6.9"
  }
 },
 "nbformat": 4,
 "nbformat_minor": 2
}
