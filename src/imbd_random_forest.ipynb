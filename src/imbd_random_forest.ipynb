{
 "cells": [
  {
   "cell_type": "code",
   "execution_count": 2,
   "metadata": {},
   "outputs": [],
   "source": [
    "from model import Classifier\n",
    "from sklearn.ensemble import RandomForestClassifier"
   ]
  },
  {
   "cell_type": "code",
   "execution_count": 3,
   "metadata": {},
   "outputs": [],
   "source": [
    "clf = Classifier(1, RandomForestClassifier())"
   ]
  },
  {
   "cell_type": "code",
   "execution_count": 4,
   "metadata": {},
   "outputs": [
    {
     "name": "stdout",
     "output_type": "stream",
     "text": [
      "Performing grid search...\n",
      "pipeline: ['vect', 'tfidf', 'clf']\n",
      "Fitting 5 folds for each of 8 candidates, totalling 40 fits\n"
     ]
    },
    {
     "name": "stderr",
     "output_type": "stream",
     "text": [
      "[Parallel(n_jobs=-1)]: Using backend LokyBackend with 8 concurrent workers.\n",
      "[Parallel(n_jobs=-1)]: Done   2 tasks      | elapsed:  1.0min\n",
      "[Parallel(n_jobs=-1)]: Done  34 out of  40 | elapsed:  7.9min remaining:  1.4min\n",
      "[Parallel(n_jobs=-1)]: Done  40 out of  40 | elapsed:  9.4min finished\n"
     ]
    },
    {
     "name": "stdout",
     "output_type": "stream",
     "text": [
      "done in 672.288s\n",
      "\n",
      "scores!\n",
      "mean: 0.639 std: (+/-0.021) for {'clf__criterion': 'gini', 'clf__max_depth': 1000, 'clf__n_estimators': 200, 'tfidf__norm': 'l2', 'vect__max_features': 10000, 'vect__ngram_range': (1, 1)}\n",
      "mean: 0.640 std: (+/-0.013) for {'clf__criterion': 'gini', 'clf__max_depth': 1000, 'clf__n_estimators': 200, 'tfidf__norm': 'l2', 'vect__max_features': 12000, 'vect__ngram_range': (1, 1)}\n",
      "mean: 0.645 std: (+/-0.017) for {'clf__criterion': 'gini', 'clf__max_depth': 1000, 'clf__n_estimators': 500, 'tfidf__norm': 'l2', 'vect__max_features': 10000, 'vect__ngram_range': (1, 1)}\n",
      "mean: 0.647 std: (+/-0.013) for {'clf__criterion': 'gini', 'clf__max_depth': 1000, 'clf__n_estimators': 500, 'tfidf__norm': 'l2', 'vect__max_features': 12000, 'vect__ngram_range': (1, 1)}\n",
      "mean: 0.636 std: (+/-0.016) for {'clf__criterion': 'gini', 'clf__max_depth': 5000, 'clf__n_estimators': 200, 'tfidf__norm': 'l2', 'vect__max_features': 10000, 'vect__ngram_range': (1, 1)}\n",
      "mean: 0.639 std: (+/-0.014) for {'clf__criterion': 'gini', 'clf__max_depth': 5000, 'clf__n_estimators': 200, 'tfidf__norm': 'l2', 'vect__max_features': 12000, 'vect__ngram_range': (1, 1)}\n",
      "mean: 0.643 std: (+/-0.011) for {'clf__criterion': 'gini', 'clf__max_depth': 5000, 'clf__n_estimators': 500, 'tfidf__norm': 'l2', 'vect__max_features': 10000, 'vect__ngram_range': (1, 1)}\n",
      "mean: 0.649 std: (+/-0.013) for {'clf__criterion': 'gini', 'clf__max_depth': 5000, 'clf__n_estimators': 500, 'tfidf__norm': 'l2', 'vect__max_features': 12000, 'vect__ngram_range': (1, 1)}\n",
      "Best score:\n",
      "0.649 (+/-0.013)\n",
      "with parameters set:\n",
      "\tclf__criterion: 'gini'\n",
      "\tclf__max_depth: 5000\n",
      "\tclf__n_estimators: 500\n",
      "\ttfidf__norm: 'l2'\n",
      "\tvect__max_features: 12000\n",
      "\tvect__ngram_range: (1, 1)\n"
     ]
    }
   ],
   "source": [
    "params_trial_1 = {\n",
    "                'vect__max_features': ([10000, 12000]),\n",
    "                'vect__ngram_range': ([(1, 1)]),\n",
    "                'tfidf__norm': (['l2']),\n",
    "                'clf__n_estimators': (200, 500),\n",
    "                'clf__criterion': (['gini']),\n",
    "                'clf__max_depth': (1000, 5000)\n",
    "}\n",
    "\n",
    "clf.fit(params_trial_1,5)"
   ]
  },
  {
   "cell_type": "code",
   "execution_count": 10,
   "metadata": {},
   "outputs": [
    {
     "name": "stdout",
     "output_type": "stream",
     "text": [
      "Finding most common params for the top 2 values\n",
      "[{'gini': 2}, {1000: 1, 5000: 1}, {500: 2}, {'l2': 2}, {12000: 2}, {(1, 1): 2}]\n"
     ]
    }
   ],
   "source": [
    "clf.eval_best_n_params(0.8)"
   ]
  },
  {
   "cell_type": "code",
   "execution_count": 11,
   "metadata": {},
   "outputs": [
    {
     "name": "stdout",
     "output_type": "stream",
     "text": [
      "Performing grid search...\n",
      "pipeline: ['vect', 'tfidf', 'clf']\n",
      "Fitting 5 folds for each of 8 candidates, totalling 40 fits\n"
     ]
    },
    {
     "name": "stderr",
     "output_type": "stream",
     "text": [
      "[Parallel(n_jobs=-1)]: Using backend LokyBackend with 8 concurrent workers.\n",
      "[Parallel(n_jobs=-1)]: Done   2 tasks      | elapsed:  2.4min\n",
      "[Parallel(n_jobs=-1)]: Done  34 out of  40 | elapsed: 15.0min remaining:  2.6min\n",
      "[Parallel(n_jobs=-1)]: Done  40 out of  40 | elapsed: 16.5min finished\n"
     ]
    },
    {
     "name": "stdout",
     "output_type": "stream",
     "text": [
      "done in 1158.741s\n",
      "\n",
      "scores!\n",
      "mean: 0.649 std: (+/-0.012) for {'clf__criterion': 'gini', 'clf__max_depth': 1000, 'clf__n_estimators': 500, 'tfidf__norm': 'l2', 'vect__max_features': 12000, 'vect__ngram_range': (1, 1)}\n",
      "mean: 0.650 std: (+/-0.016) for {'clf__criterion': 'gini', 'clf__max_depth': 1000, 'clf__n_estimators': 500, 'tfidf__norm': 'l2', 'vect__max_features': 15000, 'vect__ngram_range': (1, 1)}\n",
      "mean: 0.649 std: (+/-0.010) for {'clf__criterion': 'gini', 'clf__max_depth': 1000, 'clf__n_estimators': 750, 'tfidf__norm': 'l2', 'vect__max_features': 12000, 'vect__ngram_range': (1, 1)}\n",
      "mean: 0.652 std: (+/-0.015) for {'clf__criterion': 'gini', 'clf__max_depth': 1000, 'clf__n_estimators': 750, 'tfidf__norm': 'l2', 'vect__max_features': 15000, 'vect__ngram_range': (1, 1)}\n",
      "mean: 0.643 std: (+/-0.014) for {'clf__criterion': 'gini', 'clf__max_depth': 5000, 'clf__n_estimators': 500, 'tfidf__norm': 'l2', 'vect__max_features': 12000, 'vect__ngram_range': (1, 1)}\n",
      "mean: 0.649 std: (+/-0.011) for {'clf__criterion': 'gini', 'clf__max_depth': 5000, 'clf__n_estimators': 500, 'tfidf__norm': 'l2', 'vect__max_features': 15000, 'vect__ngram_range': (1, 1)}\n",
      "mean: 0.647 std: (+/-0.020) for {'clf__criterion': 'gini', 'clf__max_depth': 5000, 'clf__n_estimators': 750, 'tfidf__norm': 'l2', 'vect__max_features': 12000, 'vect__ngram_range': (1, 1)}\n",
      "mean: 0.650 std: (+/-0.013) for {'clf__criterion': 'gini', 'clf__max_depth': 5000, 'clf__n_estimators': 750, 'tfidf__norm': 'l2', 'vect__max_features': 15000, 'vect__ngram_range': (1, 1)}\n",
      "Best score:\n",
      "0.652 (+/-0.013)\n",
      "with parameters set:\n",
      "\tclf__criterion: 'gini'\n",
      "\tclf__max_depth: 1000\n",
      "\tclf__n_estimators: 750\n",
      "\ttfidf__norm: 'l2'\n",
      "\tvect__max_features: 15000\n",
      "\tvect__ngram_range: (1, 1)\n"
     ]
    }
   ],
   "source": [
    "params_trial_2 = {\n",
    "                'vect__max_features': ([12000, 15000]),\n",
    "                'vect__ngram_range': ([(1, 1)]),\n",
    "                'tfidf__norm': (['l2']),\n",
    "                'clf__n_estimators': (500, 750),\n",
    "                'clf__criterion': (['gini']),\n",
    "                'clf__max_depth': (1000, 5000)\n",
    "}\n",
    "\n",
    "clf.fit(params_trial_2,5)"
   ]
  },
  {
   "cell_type": "code",
   "execution_count": 12,
   "metadata": {},
   "outputs": [
    {
     "name": "stdout",
     "output_type": "stream",
     "text": [
      "Finding most common params for the top 2 values\n",
      "[{'gini': 2}, {5000: 1, 1000: 1}, {750: 2}, {'l2': 2}, {15000: 2}, {(1, 1): 2}]\n"
     ]
    }
   ],
   "source": [
    "clf.eval_best_n_params(0.8)"
   ]
  },
  {
   "cell_type": "code",
   "execution_count": 5,
   "metadata": {},
   "outputs": [
    {
     "name": "stdout",
     "output_type": "stream",
     "text": [
      "Performing grid search...\n",
      "pipeline: ['vect', 'tfidf', 'clf']\n",
      "Fitting 5 folds for each of 2 candidates, totalling 10 fits\n"
     ]
    },
    {
     "name": "stderr",
     "output_type": "stream",
     "text": [
      "[Parallel(n_jobs=-1)]: Using backend LokyBackend with 8 concurrent workers.\n",
      "[Parallel(n_jobs=-1)]: Done   4 out of  10 | elapsed:  3.8min remaining:  5.7min\n",
      "[Parallel(n_jobs=-1)]: Done   7 out of  10 | elapsed:  4.7min remaining:  2.0min\n",
      "[Parallel(n_jobs=-1)]: Done  10 out of  10 | elapsed:  6.8min remaining:    0.0s\n",
      "[Parallel(n_jobs=-1)]: Done  10 out of  10 | elapsed:  6.8min finished\n"
     ]
    },
    {
     "name": "stdout",
     "output_type": "stream",
     "text": [
      "done in 632.930s\n",
      "\n",
      "scores!\n",
      "mean: 0.651 std: (+/-0.014) for {'clf__criterion': 'gini', 'clf__max_depth': 1000, 'clf__n_estimators': 750, 'tfidf__norm': 'l2', 'vect__max_features': 15000, 'vect__ngram_range': (1, 1)}\n",
      "mean: 0.654 std: (+/-0.014) for {'clf__criterion': 'gini', 'clf__max_depth': 1000, 'clf__n_estimators': 1000, 'tfidf__norm': 'l2', 'vect__max_features': 15000, 'vect__ngram_range': (1, 1)}\n",
      "Best score:\n",
      "0.654 (+/-0.014)\n",
      "with parameters set:\n",
      "\tclf__criterion: 'gini'\n",
      "\tclf__max_depth: 1000\n",
      "\tclf__n_estimators: 1000\n",
      "\ttfidf__norm: 'l2'\n",
      "\tvect__max_features: 15000\n",
      "\tvect__ngram_range: (1, 1)\n"
     ]
    }
   ],
   "source": [
    "params_trial_3 = {\n",
    "                'vect__max_features': ([15000]),\n",
    "                'vect__ngram_range': ([(1, 1)]),\n",
    "                'tfidf__norm': (['l2']),\n",
    "                'clf__n_estimators': (750, 1000),\n",
    "                'clf__criterion': (['gini']),\n",
    "                'clf__max_depth': ([1000])\n",
    "}\n",
    "\n",
    "clf.fit(params_trial_3,5)"
   ]
  },
  {
   "cell_type": "code",
   "execution_count": 6,
   "metadata": {},
   "outputs": [
    {
     "name": "stdout",
     "output_type": "stream",
     "text": [
      "Finding most common params for the top 1 values\n",
      "[{'gini': 1}, {1000: 1}, {1000: 1}, {'l2': 1}, {15000: 1}, {(1, 1): 1}]\n"
     ]
    }
   ],
   "source": [
    "clf.eval_best_n_params(0.8)"
   ]
  },
  {
   "cell_type": "code",
   "execution_count": 5,
   "metadata": {
    "scrolled": false
   },
   "outputs": [
    {
     "name": "stdout",
     "output_type": "stream",
     "text": [
      "Performing grid search...\n",
      "pipeline: ['vect', 'tfidf', 'clf']\n",
      "Fitting 5 folds for each of 1 candidates, totalling 5 fits\n"
     ]
    },
    {
     "name": "stderr",
     "output_type": "stream",
     "text": [
      "[Parallel(n_jobs=-1)]: Using backend LokyBackend with 8 concurrent workers.\n",
      "[Parallel(n_jobs=-1)]: Done   2 out of   5 | elapsed:  3.7min remaining:  5.6min\n",
      "[Parallel(n_jobs=-1)]: Done   5 out of   5 | elapsed:  3.7min finished\n"
     ]
    },
    {
     "name": "stdout",
     "output_type": "stream",
     "text": [
      "done in 448.684s\n",
      "\n",
      "scores!\n",
      "mean: 0.648 std: (+/-0.011) for {'clf__criterion': 'gini', 'clf__max_depth': 1000, 'clf__n_estimators': 1000, 'tfidf__norm': 'l2', 'vect__max_features': 12000, 'vect__ngram_range': (1, 1)}\n",
      "Best score:\n",
      "0.648 (+/-0.011)\n",
      "with parameters set:\n",
      "\tclf__criterion: 'gini'\n",
      "\tclf__max_depth: 1000\n",
      "\tclf__n_estimators: 1000\n",
      "\ttfidf__norm: 'l2'\n",
      "\tvect__max_features: 12000\n",
      "\tvect__ngram_range: (1, 1)\n"
     ]
    }
   ],
   "source": [
    "params_trial_final = {\n",
    "                'vect__max_features': ([12000]),\n",
    "                'vect__ngram_range': ([(1, 1)]),\n",
    "                'tfidf__norm': (['l2']),\n",
    "                'clf__n_estimators': ([1000]),\n",
    "                'clf__criterion': (['gini']),\n",
    "                'clf__max_depth': ([1000])\n",
    "}\n",
    "\n",
    "clf.fit(params_trial_final,5)"
   ]
  },
  {
   "cell_type": "code",
   "execution_count": 8,
   "metadata": {},
   "outputs": [
    {
     "name": "stdout",
     "output_type": "stream",
     "text": [
      "Evaluation on test set:\n",
      "\n",
      "Accuracy Score : 0.6046202867764207\n",
      "Precision Score : 0.6046202867764207\n",
      "Recall Score : 0.6046202867764207\n",
      "F1 Score : 0.6046202867764207\n",
      "Confusion Matrix\n",
      "[[102   2   2   0   2   3   8  14  13  15   7   5   5   9  16  88   8   9\n",
      "    8   3]\n",
      " [  4 230  34  10  10  28   7   8   8  10   2   3  17   2  11   1   2   0\n",
      "    2   0]\n",
      " [  3  21 238  27  19  18   3  18   4  12   3   3   6   5   8   0   2   2\n",
      "    2   0]\n",
      " [  2  18  44 220  26   9  12  11   2   2   0   3  35   0   6   0   1   1\n",
      "    0   0]\n",
      " [  1   7   8  40 240   4  15  22   3   7   3   4  26   0   3   0   0   1\n",
      "    0   1]\n",
      " [  2  33  41   8   4 254   3   8   5   6   2   8   7   1   8   3   0   0\n",
      "    2   0]\n",
      " [  0   5   5  15  10   1 303  13  10   4   1   1   7   1   5   1   6   1\n",
      "    1   0]\n",
      " [  4   7   5   5   8   4  12 262  26  12   2   1  24   5   6   1   7   1\n",
      "    4   0]\n",
      " [  4   1   4   3   8   2  10  37 260  24   1   2  15   4   7   4   5   1\n",
      "    5   1]\n",
      " [  3   3   3   1   1   2   2  22   3 300  43   1   5   2   1   1   0   1\n",
      "    3   0]\n",
      " [  3   0   1   1   2   1   1  14   3  38 323   0   1   4   2   0   1   1\n",
      "    2   1]\n",
      " [  3  13   4   5   7   2   6  20   4  11   4 249  20   4   6   2  20   3\n",
      "   11   2]\n",
      " [  4  24  12  26  16  14  17  32  10   9   7  16 180  12   8   1   3   0\n",
      "    2   0]\n",
      " [  5  24   0   2   4   4  12  26  13   9   2   0  20 252   4   9   2   3\n",
      "    4   1]\n",
      " [  5   9   2   4   6   3   5  24   9   9   6   4  17  12 262   6   3   2\n",
      "    6   0]\n",
      " [ 17   4   4   0   0   0   2  17   7  12   1   0   6   9   7 304   0   1\n",
      "    4   3]\n",
      " [  8   4   2   1   2   2   4  22   9  14   3  10   8   7  11  15 212   3\n",
      "   23   4]\n",
      " [ 19   2   1   0   1   3   1  10   7  19   1   4   1   5   7  12  13 253\n",
      "   15   2]\n",
      " [ 18   4   1   0   2   0   2  11   5  14   6   1   9  22  10  10  88   6\n",
      "   99   2]\n",
      " [ 41   5   3   0   2   0   0  11   4  12   2   3   4  13   4  94  23   9\n",
      "   10  11]]\n"
     ]
    },
    {
     "data": {
      "image/png": "[encoded data removed]",
      "text/plain": [
       "<Figure size 432x288 with 2 Axes>"
      ]
     },
     "metadata": {
      "needs_background": "light"
     },
     "output_type": "display_data"
    }
   ],
   "source": [
    "clf.eval_on_test([],False)"
   ]
  },
  {
   "cell_type": "code",
   "execution_count": null,
   "metadata": {},
   "outputs": [],
   "source": []
  }
 ],
 "metadata": {
  "kernelspec": {
   "display_name": "Python 3",
   "language": "python",
   "name": "python3"
  },
  "language_info": {
   "codemirror_mode": {
    "name": "ipython",
    "version": 3
   },
   "file_extension": ".py",
   "mimetype": "text/x-python",
   "name": "python",
   "nbconvert_exporter": "python",
   "pygments_lexer": "ipython3",
   "version": "3.6.9"
  }
 },
 "nbformat": 4,
 "nbformat_minor": 2
}
