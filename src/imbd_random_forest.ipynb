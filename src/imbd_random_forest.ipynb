{
 "cells": [
  {
   "cell_type": "code",
   "execution_count": 4,
   "metadata": {},
   "outputs": [],
   "source": [
    "from model import Classifier\n",
    "from sklearn.ensemble import RandomForestClassifier"
   ]
  },
  {
   "cell_type": "code",
   "execution_count": 5,
   "metadata": {},
   "outputs": [],
   "source": [
    "clf = Classifier(1, RandomForestClassifier())"
   ]
  },
  {
   "cell_type": "code",
   "execution_count": 6,
   "metadata": {},
   "outputs": [],
   "source": [
    "#stop word sets specified for this data set\n",
    "path = \"../data/stop_words_imbd/\"\n",
    "with open(path+\"stop_words_no_nums.txt\", 'r') as content_file:\n",
    "        content = content_file.read().replace(\" \",\"\").replace(\"\\n\",\"\").split(\",\")\n",
    "        stop_words_no_nums = frozenset(content)\n",
    "with open(path+\"stop_words_with_nums.txt\", 'r') as content_file:\n",
    "        content = content_file.read().replace(\" \",\"\").replace(\"\\n\",\"\").split(\",\")\n",
    "        stop_words_with_nums = frozenset(content)"
   ]
  },
  {
   "cell_type": "code",
   "execution_count": 7,
   "metadata": {},
   "outputs": [
    {
     "name": "stdout",
     "output_type": "stream",
     "text": [
      "Performing grid search...\n",
      "pipeline: ['vect', 'tfidf', 'clf']\n",
      "Fitting 5 folds for each of 8 candidates, totalling 40 fits\n"
     ]
    },
    {
     "name": "stderr",
     "output_type": "stream",
     "text": [
      "[Parallel(n_jobs=-1)]: Using backend LokyBackend with 8 concurrent workers.\n",
      "[Parallel(n_jobs=-1)]: Done   2 tasks      | elapsed:   54.9s\n",
      "[Parallel(n_jobs=-1)]: Done  34 out of  40 | elapsed:  4.6min remaining:   49.2s\n",
      "[Parallel(n_jobs=-1)]: Done  40 out of  40 | elapsed:  4.7min finished\n"
     ]
    },
    {
     "name": "stdout",
     "output_type": "stream",
     "text": [
      "done in 326.592s\n",
      "\n",
      "scores!\n",
      "mean: 0.647 std: (+/-0.018) for {'clf__criterion': 'gini', 'clf__max_depth': 1000, 'clf__n_estimators': 200, 'tfidf__norm': 'l2', 'vect__max_features': 10000, 'vect__ngram_range': (1, 1), 'vect__stop_words': 0}\n",
      "mean: 0.648 std: (+/-0.024) for {'clf__criterion': 'gini', 'clf__max_depth': 1000, 'clf__n_estimators': 200, 'tfidf__norm': 'l2', 'vect__max_features': 10000, 'vect__ngram_range': (1, 1), 'vect__stop_words': 1}\n",
      "mean: 0.652 std: (+/-0.016) for {'clf__criterion': 'gini', 'clf__max_depth': 1000, 'clf__n_estimators': 200, 'tfidf__norm': 'l2', 'vect__max_features': 15000, 'vect__ngram_range': (1, 1), 'vect__stop_words': 0}\n",
      "mean: 0.655 std: (+/-0.021) for {'clf__criterion': 'gini', 'clf__max_depth': 1000, 'clf__n_estimators': 200, 'tfidf__norm': 'l2', 'vect__max_features': 15000, 'vect__ngram_range': (1, 1), 'vect__stop_words': 1}\n",
      "mean: 0.650 std: (+/-0.012) for {'clf__criterion': 'gini', 'clf__max_depth': 5000, 'clf__n_estimators': 200, 'tfidf__norm': 'l2', 'vect__max_features': 10000, 'vect__ngram_range': (1, 1), 'vect__stop_words': 0}\n",
      "mean: 0.649 std: (+/-0.014) for {'clf__criterion': 'gini', 'clf__max_depth': 5000, 'clf__n_estimators': 200, 'tfidf__norm': 'l2', 'vect__max_features': 10000, 'vect__ngram_range': (1, 1), 'vect__stop_words': 1}\n",
      "mean: 0.655 std: (+/-0.015) for {'clf__criterion': 'gini', 'clf__max_depth': 5000, 'clf__n_estimators': 200, 'tfidf__norm': 'l2', 'vect__max_features': 15000, 'vect__ngram_range': (1, 1), 'vect__stop_words': 0}\n",
      "mean: 0.651 std: (+/-0.021) for {'clf__criterion': 'gini', 'clf__max_depth': 5000, 'clf__n_estimators': 200, 'tfidf__norm': 'l2', 'vect__max_features': 15000, 'vect__ngram_range': (1, 1), 'vect__stop_words': 1}\n",
      "Best score:\n",
      "0.655 (+/-0.021)\n",
      "with parameters set:\n",
      "\tclf__criterion: 'gini'\n",
      "\tclf__max_depth: 5000\n",
      "\tclf__n_estimators: 200\n",
      "\ttfidf__norm: 'l2'\n",
      "\tvect__max_features: 15000\n",
      "\tvect__ngram_range: (1, 1)\n",
      "\tvect__stop_words: 0\n"
     ]
    }
   ],
   "source": [
    "params_trial_1 = {\n",
    "                'vect__max_features': ([10000, 15000]),\n",
    "                'vect__ngram_range': ([(1, 1)]),\n",
    "                'vect__stop_words' : [stop_words_no_nums, stop_words_with_nums],\n",
    "                'tfidf__norm': (['l2']),\n",
    "                'clf__n_estimators': ([200]),\n",
    "                'clf__criterion': ['gini'],\n",
    "                'clf__max_depth': (1000, 5000)\n",
    "}\n",
    "\n",
    "clf.fit(params_trial_1,5)"
   ]
  },
  {
   "cell_type": "code",
   "execution_count": 8,
   "metadata": {},
   "outputs": [
    {
     "name": "stdout",
     "output_type": "stream",
     "text": [
      "Finding most common params for the top 2 values\n",
      "[{'gini': 2}, {1000: 1, 5000: 1}, {200: 2}, {'l2': 2}, {15000: 2}, {(1, 1): 2}, {1: 1, 0: 1}]\n"
     ]
    }
   ],
   "source": [
    "clf.eval_best_n_params(0.8)"
   ]
  },
  {
   "cell_type": "code",
   "execution_count": 16,
   "metadata": {},
   "outputs": [
    {
     "name": "stdout",
     "output_type": "stream",
     "text": [
      "Performing grid search...\n",
      "pipeline: ['vect', 'tfidf', 'clf']\n",
      "Fitting 5 folds for each of 8 candidates, totalling 40 fits\n"
     ]
    },
    {
     "name": "stderr",
     "output_type": "stream",
     "text": [
      "[Parallel(n_jobs=-1)]: Using backend LokyBackend with 8 concurrent workers.\n",
      "[Parallel(n_jobs=-1)]: Done   2 tasks      | elapsed:   49.8s\n",
      "[Parallel(n_jobs=-1)]: Done  34 out of  40 | elapsed:  7.0min remaining:  1.2min\n",
      "[Parallel(n_jobs=-1)]: Done  40 out of  40 | elapsed:  8.2min finished\n"
     ]
    },
    {
     "name": "stdout",
     "output_type": "stream",
     "text": [
      "done in 588.070s\n",
      "\n",
      "scores!\n",
      "mean: 0.647 std: (+/-0.016) for {'clf__criterion': 'gini', 'clf__max_depth': 5000, 'clf__n_estimators': 200, 'tfidf__norm': 'l2', 'vect__max_features': 10000, 'vect__ngram_range': (1, 1), 'vect__stop_words': 0}\n",
      "mean: 0.647 std: (+/-0.020) for {'clf__criterion': 'gini', 'clf__max_depth': 5000, 'clf__n_estimators': 200, 'tfidf__norm': 'l2', 'vect__max_features': 10000, 'vect__ngram_range': (1, 1), 'vect__stop_words': 1}\n",
      "mean: 0.652 std: (+/-0.016) for {'clf__criterion': 'gini', 'clf__max_depth': 5000, 'clf__n_estimators': 500, 'tfidf__norm': 'l2', 'vect__max_features': 10000, 'vect__ngram_range': (1, 1), 'vect__stop_words': 0}\n",
      "mean: 0.651 std: (+/-0.020) for {'clf__criterion': 'gini', 'clf__max_depth': 5000, 'clf__n_estimators': 500, 'tfidf__norm': 'l2', 'vect__max_features': 10000, 'vect__ngram_range': (1, 1), 'vect__stop_words': 1}\n",
      "mean: 0.649 std: (+/-0.015) for {'clf__criterion': 'gini', 'clf__max_depth': 10000, 'clf__n_estimators': 200, 'tfidf__norm': 'l2', 'vect__max_features': 10000, 'vect__ngram_range': (1, 1), 'vect__stop_words': 0}\n",
      "mean: 0.646 std: (+/-0.021) for {'clf__criterion': 'gini', 'clf__max_depth': 10000, 'clf__n_estimators': 200, 'tfidf__norm': 'l2', 'vect__max_features': 10000, 'vect__ngram_range': (1, 1), 'vect__stop_words': 1}\n",
      "mean: 0.655 std: (+/-0.017) for {'clf__criterion': 'gini', 'clf__max_depth': 10000, 'clf__n_estimators': 500, 'tfidf__norm': 'l2', 'vect__max_features': 10000, 'vect__ngram_range': (1, 1), 'vect__stop_words': 0}\n",
      "mean: 0.648 std: (+/-0.016) for {'clf__criterion': 'gini', 'clf__max_depth': 10000, 'clf__n_estimators': 500, 'tfidf__norm': 'l2', 'vect__max_features': 10000, 'vect__ngram_range': (1, 1), 'vect__stop_words': 1}\n",
      "Best score:\n",
      "0.655 (+/-0.016)\n",
      "with parameters set:\n",
      "\tclf__criterion: 'gini'\n",
      "\tclf__max_depth: 10000\n",
      "\tclf__n_estimators: 500\n",
      "\ttfidf__norm: 'l2'\n",
      "\tvect__max_features: 10000\n",
      "\tvect__ngram_range: (1, 1)\n",
      "\tvect__stop_words: 0\n"
     ]
    }
   ],
   "source": [
    "params_trial_2 = {\n",
    "                'vect__max_features': ([10000]),\n",
    "                'vect__ngram_range': ([(1, 1)]),\n",
    "                'vect__stop_words' : [stop_words_no_nums, stop_words_with_nums],\n",
    "                'tfidf__norm': (['l2']),\n",
    "                'clf__n_estimators': (200, 500),\n",
    "                'clf__criterion': (['gini']),\n",
    "                'clf__max_depth': (5000, 10000)\n",
    "}\n",
    "\n",
    "clf.fit(params_trial_2,5)"
   ]
  },
  {
   "cell_type": "code",
   "execution_count": 28,
   "metadata": {},
   "outputs": [
    {
     "name": "stdout",
     "output_type": "stream",
     "text": [
      "Performing grid search...\n",
      "pipeline: ['vect', 'tfidf', 'clf']\n",
      "Fitting 5 folds for each of 8 candidates, totalling 40 fits\n"
     ]
    },
    {
     "name": "stderr",
     "output_type": "stream",
     "text": [
      "[Parallel(n_jobs=-1)]: Using backend LokyBackend with 8 concurrent workers.\n",
      "[Parallel(n_jobs=-1)]: Done   2 tasks      | elapsed:  1.9min\n",
      "[Parallel(n_jobs=-1)]: Done  34 out of  40 | elapsed: 11.9min remaining:  2.1min\n",
      "[Parallel(n_jobs=-1)]: Done  40 out of  40 | elapsed: 13.2min finished\n"
     ]
    },
    {
     "name": "stdout",
     "output_type": "stream",
     "text": [
      "done in 937.025s\n",
      "\n",
      "scores!\n",
      "mean: 0.651 std: (+/-0.017) for {'clf__criterion': 'gini', 'clf__max_depth': 10000, 'clf__n_estimators': 500, 'tfidf__norm': 'l2', 'vect__max_features': 10000, 'vect__ngram_range': (1, 1), 'vect__stop_words': 0}\n",
      "mean: 0.652 std: (+/-0.014) for {'clf__criterion': 'gini', 'clf__max_depth': 10000, 'clf__n_estimators': 500, 'tfidf__norm': 'l2', 'vect__max_features': 10000, 'vect__ngram_range': (1, 1), 'vect__stop_words': 1}\n",
      "mean: 0.653 std: (+/-0.018) for {'clf__criterion': 'gini', 'clf__max_depth': 10000, 'clf__n_estimators': 750, 'tfidf__norm': 'l2', 'vect__max_features': 10000, 'vect__ngram_range': (1, 1), 'vect__stop_words': 0}\n",
      "mean: 0.652 std: (+/-0.022) for {'clf__criterion': 'gini', 'clf__max_depth': 10000, 'clf__n_estimators': 750, 'tfidf__norm': 'l2', 'vect__max_features': 10000, 'vect__ngram_range': (1, 1), 'vect__stop_words': 1}\n",
      "mean: 0.650 std: (+/-0.017) for {'clf__criterion': 'gini', 'clf__max_depth': 12500, 'clf__n_estimators': 500, 'tfidf__norm': 'l2', 'vect__max_features': 10000, 'vect__ngram_range': (1, 1), 'vect__stop_words': 0}\n",
      "mean: 0.652 std: (+/-0.017) for {'clf__criterion': 'gini', 'clf__max_depth': 12500, 'clf__n_estimators': 500, 'tfidf__norm': 'l2', 'vect__max_features': 10000, 'vect__ngram_range': (1, 1), 'vect__stop_words': 1}\n",
      "mean: 0.652 std: (+/-0.017) for {'clf__criterion': 'gini', 'clf__max_depth': 12500, 'clf__n_estimators': 750, 'tfidf__norm': 'l2', 'vect__max_features': 10000, 'vect__ngram_range': (1, 1), 'vect__stop_words': 0}\n",
      "mean: 0.653 std: (+/-0.014) for {'clf__criterion': 'gini', 'clf__max_depth': 12500, 'clf__n_estimators': 750, 'tfidf__norm': 'l2', 'vect__max_features': 10000, 'vect__ngram_range': (1, 1), 'vect__stop_words': 1}\n",
      "Best score:\n",
      "0.653 (+/-0.014)\n",
      "with parameters set:\n",
      "\tclf__criterion: 'gini'\n",
      "\tclf__max_depth: 12500\n",
      "\tclf__n_estimators: 750\n",
      "\ttfidf__norm: 'l2'\n",
      "\tvect__max_features: 10000\n",
      "\tvect__ngram_range: (1, 1)\n",
      "\tvect__stop_words: 1\n"
     ]
    }
   ],
   "source": [
    "params_trial_3 = {\n",
    "                'vect__max_features': ([10000]),\n",
    "                'vect__ngram_range': ([(1, 1)]),\n",
    "                'vect__stop_words' : [stop_words_no_nums, stop_words_with_nums],\n",
    "                'tfidf__norm': (['l2']),\n",
    "                'clf__n_estimators': (500, 750),\n",
    "                'clf__criterion': (['gini']),\n",
    "                'clf__max_depth': (10000, 12500)\n",
    "}\n",
    "\n",
    "clf.fit(params_trial_3,5)"
   ]
  },
  {
   "cell_type": "code",
   "execution_count": null,
   "metadata": {},
   "outputs": [],
   "source": [
    "params_trial_4 = {\n",
    "                'vect__max_features': ([10000]),\n",
    "                'vect__ngram_range': ([(1, 1)]),\n",
    "                'vect__stop_words' : [stop_words_with_nums],\n",
    "                'tfidf__norm': (['l2']),\n",
    "                'clf__n_estimators': (750, 1200),\n",
    "                'clf__criterion': (['gini']),\n",
    "                'clf__max_depth': (12500)\n",
    "}\n",
    "\n",
    "clf.fit(params_trial_4,5)"
   ]
  },
  {
   "cell_type": "code",
   "execution_count": 6,
   "metadata": {},
   "outputs": [
    {
     "name": "stdout",
     "output_type": "stream",
     "text": [
      "Performing grid search...\n",
      "pipeline: ['vect', 'tfidf', 'clf']\n",
      "Fitting 5 folds for each of 1 candidates, totalling 5 fits\n"
     ]
    },
    {
     "name": "stderr",
     "output_type": "stream",
     "text": [
      "[Parallel(n_jobs=-1)]: Using backend LokyBackend with 8 concurrent workers.\n",
      "[Parallel(n_jobs=-1)]: Done   2 out of   5 | elapsed:  2.4min remaining:  3.6min\n",
      "[Parallel(n_jobs=-1)]: Done   5 out of   5 | elapsed:  2.5min finished\n"
     ]
    },
    {
     "name": "stdout",
     "output_type": "stream",
     "text": [
      "done in 290.529s\n",
      "\n",
      "scores!\n",
      "mean: 0.652 std: (+/-0.016) for {'clf__criterion': 'gini', 'clf__max_depth': 12500, 'clf__n_estimators': 750, 'tfidf__norm': 'l2', 'vect__max_features': 10000, 'vect__ngram_range': (1, 1), 'vect__stop_words': 0}\n",
      "Best score:\n",
      "0.652 (+/-0.016)\n",
      "with parameters set:\n",
      "\tclf__criterion: 'gini'\n",
      "\tclf__max_depth: 12500\n",
      "\tclf__n_estimators: 750\n",
      "\ttfidf__norm: 'l2'\n",
      "\tvect__max_features: 10000\n",
      "\tvect__ngram_range: (1, 1)\n",
      "\tvect__stop_words: 0\n"
     ]
    }
   ],
   "source": [
    "params_trial_final = {\n",
    "                'vect__max_features': ([10000]),\n",
    "                'vect__ngram_range': ([(1, 1)]),\n",
    "                'vect__stop_words' : [stop_words_with_nums],\n",
    "                'tfidf__norm': (['l2']),\n",
    "                'clf__n_estimators': ([750]),\n",
    "                'clf__criterion': (['gini']),\n",
    "                'clf__max_depth': ([12500])\n",
    "}\n",
    "\n",
    "clf.fit(params_trial_final,5)"
   ]
  },
  {
   "cell_type": "code",
   "execution_count": 8,
   "metadata": {},
   "outputs": [
    {
     "name": "stdout",
     "output_type": "stream",
     "text": [
      "Evaluation on test set:\n",
      "\n",
      "Accuracy Score : 0.6078066914498141\n",
      "Precision Score : 0.6078066914498141\n",
      "Recall Score : 0.6078066914498141\n",
      "F1 Score : 0.6078066914498141\n",
      "Confusion Matrix\n",
      "[[113   2   2   1   1   3   9  15   8   5   6   6   2  13  15  85  10   7\n",
      "   10   6]\n",
      " [  1 230  35  10  10  33   7  12   6   7   3   4  10   2  14   1   1   0\n",
      "    2   1]\n",
      " [  2  22 244  31  16  19   2  17   7   4   2   4   3   2   8   1   3   2\n",
      "    4   1]\n",
      " [  1  12  41 226  26  14  13  11   1   4   2   2  32   1   5   0   0   0\n",
      "    0   1]\n",
      " [  1   6  12  38 239   9  14  18   4   8   0   2  22   4   2   0   0   1\n",
      "    3   2]\n",
      " [  2  33  44   8   9 255   5   9   1   3   1   5   7   3   6   0   1   1\n",
      "    1   1]\n",
      " [  0   9   3  16  16   2 284  19   5   7   2   1   7   2   4   1   5   2\n",
      "    4   1]\n",
      " [  6   5   5   4   2   8  14 269  21   5   2   1  22   3   7   3   7   3\n",
      "    7   2]\n",
      " [  3   1   3   2   0   4   9  44 262  20   0   2  12   3   7   5   6   3\n",
      "    8   4]\n",
      " [  1   3   2   3   0   2   1  26   8 298  32   2   1   3   5   2   1   1\n",
      "    5   1]\n",
      " [  1   1   2   2   1   3   1  14   5  26 325   0   3   5   3   0   1   1\n",
      "    4   1]\n",
      " [  5   8   8   5   8   8   7  23   5   3   2 246  15   4   5   1  30   2\n",
      "    9   2]\n",
      " [  3  20   9  33  18  14  12  36   5   9   7  14 174  13  11   3   2   2\n",
      "    7   1]\n",
      " [  8  11   5   1   3   7  14  28   9   5   4   0  14 257   8   7   3   3\n",
      "    6   3]\n",
      " [  5   8   4   7   4   4   6  29   6   9   3   2  19  10 253   6   6   1\n",
      "   12   0]\n",
      " [ 15   2   6   0   0   4   4  15   6   1   3   0   5   3   2 310   1   6\n",
      "    8   7]\n",
      " [  6   3   4   1   1   5   2  24   7   8   2  15   9   9   8  12 212   5\n",
      "   21  10]\n",
      " [ 27   1   0   0   1   4   1  10   6  10   2   4   5   4   7  11  10 255\n",
      "   18   0]\n",
      " [ 14   2   1   2   1   1   3  14   8   7   4   5   7  21   9  11  83   2\n",
      "  109   6]\n",
      " [ 40   3   2   2   2   1   2  17   4   3   2   3   2   8   3  98  24   8\n",
      "   10  17]]\n"
     ]
    },
    {
     "data": {
      "image/png": "[encoded data removed]",
      "text/plain": [
       "<Figure size 432x288 with 2 Axes>"
      ]
     },
     "metadata": {
      "needs_background": "light"
     },
     "output_type": "display_data"
    },
    {
     "data": {
      "image/png": "[encoded data removed]",
      "text/plain": [
       "<Figure size 432x288 with 1 Axes>"
      ]
     },
     "metadata": {
      "needs_background": "light"
     },
     "output_type": "display_data"
    }
   ],
   "source": [
    "clf.eval_on_test([],False)\n",
    "clf.learning_curve([0.1,0.2,0.3,0.4,0.5,0.6,0.7,0.8,0.9,1.0])"
   ]
  },
  {
   "cell_type": "code",
   "execution_count": null,
   "metadata": {},
   "outputs": [],
   "source": []
  }
 ],
 "metadata": {
  "kernelspec": {
   "display_name": "Python 3",
   "language": "python",
   "name": "python3"
  },
  "language_info": {
   "codemirror_mode": {
    "name": "ipython",
    "version": 3
   },
   "file_extension": ".py",
   "mimetype": "text/x-python",
   "name": "python",
   "nbconvert_exporter": "python",
   "pygments_lexer": "ipython3",
   "version": "3.6.9"
  }
 },
 "nbformat": 4,
 "nbformat_minor": 2
}