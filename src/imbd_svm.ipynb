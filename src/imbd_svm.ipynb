{
 "cells": [
  {
   "cell_type": "code",
   "execution_count": 5,
   "metadata": {
    "collapsed": true,
    "pycharm": {
     "is_executing": false
    }
   },
   "outputs": [],
   "source": [
    "import model as m\n",
    "from sklearn.svm import LinearSVC\n",
    "\n",
    "clf_linear = m.Classifier(0,LinearSVC())"
   ]
  },
  {
   "cell_type": "code",
   "execution_count": 6,
   "outputs": [],
   "source": [
    "#stop word sets specified for this data set\n",
    "path = \"../data/stop_words_imbd/\"\n",
    "with open(path+\"stop_words_no_nums.txt\", 'r') as content_file:\n",
    "        content = content_file.read().replace(\" \",\"\").replace(\"\\n\",\"\").split(\",\")\n",
    "        stop_words_no_nums = frozenset(content)\n",
    "with open(path+\"stop_words_with_nums.txt\", 'r') as content_file:\n",
    "        content = content_file.read().replace(\" \",\"\").replace(\"\\n\",\"\").split(\",\")\n",
    "        stop_words_with_nums = frozenset(content)"
   ],
   "metadata": {
    "collapsed": false,
    "pycharm": {
     "name": "#%%\n",
     "is_executing": false
    }
   }
  },
  {
   "cell_type": "code",
   "execution_count": 13,
   "outputs": [
    {
     "name": "stdout",
     "text": [
      "Performing grid search...\n",
      "pipeline: ['vect', 'tfidf', 'clf']\n",
      "Fitting 5 folds for each of 1 candidates, totalling 5 fits\n",
      "done in 15.545s\n",
      "\n",
      "scores!\n",
      "mean: 0.892 std: (+/-0.007) for {}\n",
      "Best score:\n",
      "0.892 (+/-0.007)\n",
      "with parameters set:\n"
     ],
     "output_type": "stream"
    },
    {
     "name": "stderr",
     "text": [
      "[Parallel(n_jobs=-1)]: Using backend LokyBackend with 12 concurrent workers.\n",
      "[Parallel(n_jobs=-1)]: Done   2 out of   5 | elapsed:   10.4s remaining:   15.7s\n",
      "[Parallel(n_jobs=-1)]: Done   5 out of   5 | elapsed:   10.7s finished\n"
     ],
     "output_type": "stream"
    }
   ],
   "source": [
    "#base model with default hyper parameters \n",
    "\n",
    "params = {}\n",
    "clf_linear.fit(params,5)"
   ],
   "metadata": {
    "collapsed": false,
    "pycharm": {
     "name": "#%%\n",
     "is_executing": false
    }
   }
  },
  {
   "cell_type": "code",
   "execution_count": 14,
   "outputs": [
    {
     "data": {
      "text/plain": "{'mean_fit_time': array([4.19744945]),\n 'std_fit_time': array([0.03724658]),\n 'mean_score_time': array([0.89590116]),\n 'std_score_time': array([0.03830492]),\n 'params': [{}],\n 'split0_test_score': array([0.8962]),\n 'split1_test_score': array([0.8896]),\n 'split2_test_score': array([0.895]),\n 'split3_test_score': array([0.8908]),\n 'split4_test_score': array([0.8862]),\n 'mean_test_score': array([0.89156]),\n 'std_test_score': array([0.00364725]),\n 'rank_test_score': array([1], dtype=int32),\n 'split0_train_score': array([0.99145]),\n 'split1_train_score': array([0.9932]),\n 'split2_train_score': array([0.99215]),\n 'split3_train_score': array([0.99285]),\n 'split4_train_score': array([0.99185]),\n 'mean_train_score': array([0.9923]),\n 'std_train_score': array([0.00064187])}"
     },
     "metadata": {},
     "output_type": "execute_result",
     "execution_count": 14
    }
   ],
   "source": [
    "clf_linear.clf.cv_results_"
   ],
   "metadata": {
    "collapsed": false,
    "pycharm": {
     "name": "#%%\n",
     "is_executing": false
    }
   }
  },
  {
   "cell_type": "code",
   "execution_count": 6,
   "outputs": [
    {
     "name": "stdout",
     "text": [
      "Performing grid search...\n",
      "pipeline: ['vect', 'tfidf', 'clf']\n",
      "Fitting 5 folds for each of 144 candidates, totalling 720 fits\n",
      "done in 2109.137s\n",
      "\n",
      "scores!\n",
      "mean: 0.861 std: (+/-0.009) for {'clf__C': 0.5, 'tfidf__norm': 'l1', 'vect__max_df': 0.2, 'vect__max_features': 30000, 'vect__ngram_range': (1, 1), 'vect__stop_words': 0}\n",
      "mean: 0.860 std: (+/-0.010) for {'clf__C': 0.5, 'tfidf__norm': 'l1', 'vect__max_df': 0.2, 'vect__max_features': 30000, 'vect__ngram_range': (1, 1), 'vect__stop_words': 1}\n",
      "mean: 0.862 std: (+/-0.007) for {'clf__C': 0.5, 'tfidf__norm': 'l1', 'vect__max_df': 0.2, 'vect__max_features': 30000, 'vect__ngram_range': (1, 1), 'vect__stop_words': None}\n",
      "mean: 0.865 std: (+/-0.011) for {'clf__C': 0.5, 'tfidf__norm': 'l1', 'vect__max_df': 0.2, 'vect__max_features': 30000, 'vect__ngram_range': (1, 2), 'vect__stop_words': 0}\n",
      "mean: 0.865 std: (+/-0.012) for {'clf__C': 0.5, 'tfidf__norm': 'l1', 'vect__max_df': 0.2, 'vect__max_features': 30000, 'vect__ngram_range': (1, 2), 'vect__stop_words': 1}\n",
      "mean: 0.868 std: (+/-0.008) for {'clf__C': 0.5, 'tfidf__norm': 'l1', 'vect__max_df': 0.2, 'vect__max_features': 30000, 'vect__ngram_range': (1, 2), 'vect__stop_words': None}\n",
      "mean: 0.860 std: (+/-0.009) for {'clf__C': 0.5, 'tfidf__norm': 'l1', 'vect__max_df': 0.2, 'vect__max_features': 50000, 'vect__ngram_range': (1, 1), 'vect__stop_words': 0}\n",
      "mean: 0.860 std: (+/-0.010) for {'clf__C': 0.5, 'tfidf__norm': 'l1', 'vect__max_df': 0.2, 'vect__max_features': 50000, 'vect__ngram_range': (1, 1), 'vect__stop_words': 1}\n",
      "mean: 0.861 std: (+/-0.007) for {'clf__C': 0.5, 'tfidf__norm': 'l1', 'vect__max_df': 0.2, 'vect__max_features': 50000, 'vect__ngram_range': (1, 1), 'vect__stop_words': None}\n",
      "mean: 0.865 std: (+/-0.012) for {'clf__C': 0.5, 'tfidf__norm': 'l1', 'vect__max_df': 0.2, 'vect__max_features': 50000, 'vect__ngram_range': (1, 2), 'vect__stop_words': 0}\n",
      "mean: 0.864 std: (+/-0.012) for {'clf__C': 0.5, 'tfidf__norm': 'l1', 'vect__max_df': 0.2, 'vect__max_features': 50000, 'vect__ngram_range': (1, 2), 'vect__stop_words': 1}\n",
      "mean: 0.867 std: (+/-0.007) for {'clf__C': 0.5, 'tfidf__norm': 'l1', 'vect__max_df': 0.2, 'vect__max_features': 50000, 'vect__ngram_range': (1, 2), 'vect__stop_words': None}\n",
      "mean: 0.861 std: (+/-0.014) for {'clf__C': 0.5, 'tfidf__norm': 'l1', 'vect__max_df': 0.3, 'vect__max_features': 30000, 'vect__ngram_range': (1, 1), 'vect__stop_words': 0}\n",
      "mean: 0.861 std: (+/-0.013) for {'clf__C': 0.5, 'tfidf__norm': 'l1', 'vect__max_df': 0.3, 'vect__max_features': 30000, 'vect__ngram_range': (1, 1), 'vect__stop_words': 1}\n",
      "mean: 0.858 std: (+/-0.009) for {'clf__C': 0.5, 'tfidf__norm': 'l1', 'vect__max_df': 0.3, 'vect__max_features': 30000, 'vect__ngram_range': (1, 1), 'vect__stop_words': None}\n",
      "mean: 0.863 std: (+/-0.011) for {'clf__C': 0.5, 'tfidf__norm': 'l1', 'vect__max_df': 0.3, 'vect__max_features': 30000, 'vect__ngram_range': (1, 2), 'vect__stop_words': 0}\n",
      "mean: 0.863 std: (+/-0.012) for {'clf__C': 0.5, 'tfidf__norm': 'l1', 'vect__max_df': 0.3, 'vect__max_features': 30000, 'vect__ngram_range': (1, 2), 'vect__stop_words': 1}\n",
      "mean: 0.861 std: (+/-0.006) for {'clf__C': 0.5, 'tfidf__norm': 'l1', 'vect__max_df': 0.3, 'vect__max_features': 30000, 'vect__ngram_range': (1, 2), 'vect__stop_words': None}\n",
      "mean: 0.860 std: (+/-0.013) for {'clf__C': 0.5, 'tfidf__norm': 'l1', 'vect__max_df': 0.3, 'vect__max_features': 50000, 'vect__ngram_range': (1, 1), 'vect__stop_words': 0}\n",
      "mean: 0.860 std: (+/-0.013) for {'clf__C': 0.5, 'tfidf__norm': 'l1', 'vect__max_df': 0.3, 'vect__max_features': 50000, 'vect__ngram_range': (1, 1), 'vect__stop_words': 1}\n",
      "mean: 0.857 std: (+/-0.009) for {'clf__C': 0.5, 'tfidf__norm': 'l1', 'vect__max_df': 0.3, 'vect__max_features': 50000, 'vect__ngram_range': (1, 1), 'vect__stop_words': None}\n",
      "mean: 0.862 std: (+/-0.011) for {'clf__C': 0.5, 'tfidf__norm': 'l1', 'vect__max_df': 0.3, 'vect__max_features': 50000, 'vect__ngram_range': (1, 2), 'vect__stop_words': 0}\n",
      "mean: 0.862 std: (+/-0.012) for {'clf__C': 0.5, 'tfidf__norm': 'l1', 'vect__max_df': 0.3, 'vect__max_features': 50000, 'vect__ngram_range': (1, 2), 'vect__stop_words': 1}\n",
      "mean: 0.860 std: (+/-0.005) for {'clf__C': 0.5, 'tfidf__norm': 'l1', 'vect__max_df': 0.3, 'vect__max_features': 50000, 'vect__ngram_range': (1, 2), 'vect__stop_words': None}\n",
      "mean: 0.860 std: (+/-0.015) for {'clf__C': 0.5, 'tfidf__norm': 'l1', 'vect__max_df': 0.4, 'vect__max_features': 30000, 'vect__ngram_range': (1, 1), 'vect__stop_words': 0}\n",
      "mean: 0.861 std: (+/-0.016) for {'clf__C': 0.5, 'tfidf__norm': 'l1', 'vect__max_df': 0.4, 'vect__max_features': 30000, 'vect__ngram_range': (1, 1), 'vect__stop_words': 1}\n",
      "mean: 0.858 std: (+/-0.011) for {'clf__C': 0.5, 'tfidf__norm': 'l1', 'vect__max_df': 0.4, 'vect__max_features': 30000, 'vect__ngram_range': (1, 1), 'vect__stop_words': None}\n",
      "mean: 0.863 std: (+/-0.014) for {'clf__C': 0.5, 'tfidf__norm': 'l1', 'vect__max_df': 0.4, 'vect__max_features': 30000, 'vect__ngram_range': (1, 2), 'vect__stop_words': 0}\n",
      "mean: 0.863 std: (+/-0.015) for {'clf__C': 0.5, 'tfidf__norm': 'l1', 'vect__max_df': 0.4, 'vect__max_features': 30000, 'vect__ngram_range': (1, 2), 'vect__stop_words': 1}\n",
      "mean: 0.860 std: (+/-0.008) for {'clf__C': 0.5, 'tfidf__norm': 'l1', 'vect__max_df': 0.4, 'vect__max_features': 30000, 'vect__ngram_range': (1, 2), 'vect__stop_words': None}\n",
      "mean: 0.860 std: (+/-0.015) for {'clf__C': 0.5, 'tfidf__norm': 'l1', 'vect__max_df': 0.4, 'vect__max_features': 50000, 'vect__ngram_range': (1, 1), 'vect__stop_words': 0}\n",
      "mean: 0.860 std: (+/-0.016) for {'clf__C': 0.5, 'tfidf__norm': 'l1', 'vect__max_df': 0.4, 'vect__max_features': 50000, 'vect__ngram_range': (1, 1), 'vect__stop_words': 1}\n",
      "mean: 0.858 std: (+/-0.011) for {'clf__C': 0.5, 'tfidf__norm': 'l1', 'vect__max_df': 0.4, 'vect__max_features': 50000, 'vect__ngram_range': (1, 1), 'vect__stop_words': None}\n",
      "mean: 0.862 std: (+/-0.014) for {'clf__C': 0.5, 'tfidf__norm': 'l1', 'vect__max_df': 0.4, 'vect__max_features': 50000, 'vect__ngram_range': (1, 2), 'vect__stop_words': 0}\n",
      "mean: 0.862 std: (+/-0.015) for {'clf__C': 0.5, 'tfidf__norm': 'l1', 'vect__max_df': 0.4, 'vect__max_features': 50000, 'vect__ngram_range': (1, 2), 'vect__stop_words': 1}\n",
      "mean: 0.859 std: (+/-0.010) for {'clf__C': 0.5, 'tfidf__norm': 'l1', 'vect__max_df': 0.4, 'vect__max_features': 50000, 'vect__ngram_range': (1, 2), 'vect__stop_words': None}\n",
      "mean: 0.890 std: (+/-0.010) for {'clf__C': 0.5, 'tfidf__norm': 'l2', 'vect__max_df': 0.2, 'vect__max_features': 30000, 'vect__ngram_range': (1, 1), 'vect__stop_words': 0}\n",
      "mean: 0.890 std: (+/-0.011) for {'clf__C': 0.5, 'tfidf__norm': 'l2', 'vect__max_df': 0.2, 'vect__max_features': 30000, 'vect__ngram_range': (1, 1), 'vect__stop_words': 1}\n",
      "mean: 0.890 std: (+/-0.011) for {'clf__C': 0.5, 'tfidf__norm': 'l2', 'vect__max_df': 0.2, 'vect__max_features': 30000, 'vect__ngram_range': (1, 1), 'vect__stop_words': None}\n",
      "mean: 0.898 std: (+/-0.009) for {'clf__C': 0.5, 'tfidf__norm': 'l2', 'vect__max_df': 0.2, 'vect__max_features': 30000, 'vect__ngram_range': (1, 2), 'vect__stop_words': 0}\n",
      "mean: 0.898 std: (+/-0.009) for {'clf__C': 0.5, 'tfidf__norm': 'l2', 'vect__max_df': 0.2, 'vect__max_features': 30000, 'vect__ngram_range': (1, 2), 'vect__stop_words': 1}\n",
      "mean: 0.902 std: (+/-0.010) for {'clf__C': 0.5, 'tfidf__norm': 'l2', 'vect__max_df': 0.2, 'vect__max_features': 30000, 'vect__ngram_range': (1, 2), 'vect__stop_words': None}\n",
      "mean: 0.890 std: (+/-0.010) for {'clf__C': 0.5, 'tfidf__norm': 'l2', 'vect__max_df': 0.2, 'vect__max_features': 50000, 'vect__ngram_range': (1, 1), 'vect__stop_words': 0}\n",
      "mean: 0.891 std: (+/-0.010) for {'clf__C': 0.5, 'tfidf__norm': 'l2', 'vect__max_df': 0.2, 'vect__max_features': 50000, 'vect__ngram_range': (1, 1), 'vect__stop_words': 1}\n",
      "mean: 0.891 std: (+/-0.011) for {'clf__C': 0.5, 'tfidf__norm': 'l2', 'vect__max_df': 0.2, 'vect__max_features': 50000, 'vect__ngram_range': (1, 1), 'vect__stop_words': None}\n",
      "mean: 0.900 std: (+/-0.010) for {'clf__C': 0.5, 'tfidf__norm': 'l2', 'vect__max_df': 0.2, 'vect__max_features': 50000, 'vect__ngram_range': (1, 2), 'vect__stop_words': 0}\n",
      "mean: 0.900 std: (+/-0.008) for {'clf__C': 0.5, 'tfidf__norm': 'l2', 'vect__max_df': 0.2, 'vect__max_features': 50000, 'vect__ngram_range': (1, 2), 'vect__stop_words': 1}\n",
      "mean: 0.905 std: (+/-0.011) for {'clf__C': 0.5, 'tfidf__norm': 'l2', 'vect__max_df': 0.2, 'vect__max_features': 50000, 'vect__ngram_range': (1, 2), 'vect__stop_words': None}\n",
      "mean: 0.892 std: (+/-0.013) for {'clf__C': 0.5, 'tfidf__norm': 'l2', 'vect__max_df': 0.3, 'vect__max_features': 30000, 'vect__ngram_range': (1, 1), 'vect__stop_words': 0}\n",
      "mean: 0.892 std: (+/-0.013) for {'clf__C': 0.5, 'tfidf__norm': 'l2', 'vect__max_df': 0.3, 'vect__max_features': 30000, 'vect__ngram_range': (1, 1), 'vect__stop_words': 1}\n",
      "mean: 0.892 std: (+/-0.014) for {'clf__C': 0.5, 'tfidf__norm': 'l2', 'vect__max_df': 0.3, 'vect__max_features': 30000, 'vect__ngram_range': (1, 1), 'vect__stop_words': None}\n",
      "mean: 0.900 std: (+/-0.010) for {'clf__C': 0.5, 'tfidf__norm': 'l2', 'vect__max_df': 0.3, 'vect__max_features': 30000, 'vect__ngram_range': (1, 2), 'vect__stop_words': 0}\n",
      "mean: 0.899 std: (+/-0.010) for {'clf__C': 0.5, 'tfidf__norm': 'l2', 'vect__max_df': 0.3, 'vect__max_features': 30000, 'vect__ngram_range': (1, 2), 'vect__stop_words': 1}\n",
      "mean: 0.903 std: (+/-0.011) for {'clf__C': 0.5, 'tfidf__norm': 'l2', 'vect__max_df': 0.3, 'vect__max_features': 30000, 'vect__ngram_range': (1, 2), 'vect__stop_words': None}\n",
      "mean: 0.892 std: (+/-0.012) for {'clf__C': 0.5, 'tfidf__norm': 'l2', 'vect__max_df': 0.3, 'vect__max_features': 50000, 'vect__ngram_range': (1, 1), 'vect__stop_words': 0}\n",
      "mean: 0.892 std: (+/-0.011) for {'clf__C': 0.5, 'tfidf__norm': 'l2', 'vect__max_df': 0.3, 'vect__max_features': 50000, 'vect__ngram_range': (1, 1), 'vect__stop_words': 1}\n",
      "mean: 0.893 std: (+/-0.015) for {'clf__C': 0.5, 'tfidf__norm': 'l2', 'vect__max_df': 0.3, 'vect__max_features': 50000, 'vect__ngram_range': (1, 1), 'vect__stop_words': None}\n",
      "mean: 0.901 std: (+/-0.010) for {'clf__C': 0.5, 'tfidf__norm': 'l2', 'vect__max_df': 0.3, 'vect__max_features': 50000, 'vect__ngram_range': (1, 2), 'vect__stop_words': 0}\n",
      "mean: 0.900 std: (+/-0.010) for {'clf__C': 0.5, 'tfidf__norm': 'l2', 'vect__max_df': 0.3, 'vect__max_features': 50000, 'vect__ngram_range': (1, 2), 'vect__stop_words': 1}\n",
      "mean: 0.904 std: (+/-0.015) for {'clf__C': 0.5, 'tfidf__norm': 'l2', 'vect__max_df': 0.3, 'vect__max_features': 50000, 'vect__ngram_range': (1, 2), 'vect__stop_words': None}\n",
      "mean: 0.892 std: (+/-0.013) for {'clf__C': 0.5, 'tfidf__norm': 'l2', 'vect__max_df': 0.4, 'vect__max_features': 30000, 'vect__ngram_range': (1, 1), 'vect__stop_words': 0}\n",
      "mean: 0.892 std: (+/-0.011) for {'clf__C': 0.5, 'tfidf__norm': 'l2', 'vect__max_df': 0.4, 'vect__max_features': 30000, 'vect__ngram_range': (1, 1), 'vect__stop_words': 1}\n",
      "mean: 0.895 std: (+/-0.015) for {'clf__C': 0.5, 'tfidf__norm': 'l2', 'vect__max_df': 0.4, 'vect__max_features': 30000, 'vect__ngram_range': (1, 1), 'vect__stop_words': None}\n",
      "mean: 0.899 std: (+/-0.010) for {'clf__C': 0.5, 'tfidf__norm': 'l2', 'vect__max_df': 0.4, 'vect__max_features': 30000, 'vect__ngram_range': (1, 2), 'vect__stop_words': 0}\n",
      "mean: 0.900 std: (+/-0.010) for {'clf__C': 0.5, 'tfidf__norm': 'l2', 'vect__max_df': 0.4, 'vect__max_features': 30000, 'vect__ngram_range': (1, 2), 'vect__stop_words': 1}\n",
      "mean: 0.901 std: (+/-0.013) for {'clf__C': 0.5, 'tfidf__norm': 'l2', 'vect__max_df': 0.4, 'vect__max_features': 30000, 'vect__ngram_range': (1, 2), 'vect__stop_words': None}\n",
      "mean: 0.892 std: (+/-0.011) for {'clf__C': 0.5, 'tfidf__norm': 'l2', 'vect__max_df': 0.4, 'vect__max_features': 50000, 'vect__ngram_range': (1, 1), 'vect__stop_words': 0}\n",
      "mean: 0.893 std: (+/-0.012) for {'clf__C': 0.5, 'tfidf__norm': 'l2', 'vect__max_df': 0.4, 'vect__max_features': 50000, 'vect__ngram_range': (1, 1), 'vect__stop_words': 1}\n",
      "mean: 0.894 std: (+/-0.016) for {'clf__C': 0.5, 'tfidf__norm': 'l2', 'vect__max_df': 0.4, 'vect__max_features': 50000, 'vect__ngram_range': (1, 1), 'vect__stop_words': None}\n",
      "mean: 0.901 std: (+/-0.011) for {'clf__C': 0.5, 'tfidf__norm': 'l2', 'vect__max_df': 0.4, 'vect__max_features': 50000, 'vect__ngram_range': (1, 2), 'vect__stop_words': 0}\n",
      "mean: 0.900 std: (+/-0.011) for {'clf__C': 0.5, 'tfidf__norm': 'l2', 'vect__max_df': 0.4, 'vect__max_features': 50000, 'vect__ngram_range': (1, 2), 'vect__stop_words': 1}\n",
      "mean: 0.903 std: (+/-0.015) for {'clf__C': 0.5, 'tfidf__norm': 'l2', 'vect__max_df': 0.4, 'vect__max_features': 50000, 'vect__ngram_range': (1, 2), 'vect__stop_words': None}\n",
      "mean: 0.870 std: (+/-0.010) for {'clf__C': 1, 'tfidf__norm': 'l1', 'vect__max_df': 0.2, 'vect__max_features': 30000, 'vect__ngram_range': (1, 1), 'vect__stop_words': 0}\n",
      "mean: 0.871 std: (+/-0.010) for {'clf__C': 1, 'tfidf__norm': 'l1', 'vect__max_df': 0.2, 'vect__max_features': 30000, 'vect__ngram_range': (1, 1), 'vect__stop_words': 1}\n",
      "mean: 0.870 std: (+/-0.008) for {'clf__C': 1, 'tfidf__norm': 'l1', 'vect__max_df': 0.2, 'vect__max_features': 30000, 'vect__ngram_range': (1, 1), 'vect__stop_words': None}\n",
      "mean: 0.873 std: (+/-0.011) for {'clf__C': 1, 'tfidf__norm': 'l1', 'vect__max_df': 0.2, 'vect__max_features': 30000, 'vect__ngram_range': (1, 2), 'vect__stop_words': 0}\n",
      "mean: 0.873 std: (+/-0.012) for {'clf__C': 1, 'tfidf__norm': 'l1', 'vect__max_df': 0.2, 'vect__max_features': 30000, 'vect__ngram_range': (1, 2), 'vect__stop_words': 1}\n",
      "mean: 0.874 std: (+/-0.008) for {'clf__C': 1, 'tfidf__norm': 'l1', 'vect__max_df': 0.2, 'vect__max_features': 30000, 'vect__ngram_range': (1, 2), 'vect__stop_words': None}\n",
      "mean: 0.870 std: (+/-0.009) for {'clf__C': 1, 'tfidf__norm': 'l1', 'vect__max_df': 0.2, 'vect__max_features': 50000, 'vect__ngram_range': (1, 1), 'vect__stop_words': 0}\n",
      "mean: 0.870 std: (+/-0.010) for {'clf__C': 1, 'tfidf__norm': 'l1', 'vect__max_df': 0.2, 'vect__max_features': 50000, 'vect__ngram_range': (1, 1), 'vect__stop_words': 1}\n",
      "mean: 0.870 std: (+/-0.007) for {'clf__C': 1, 'tfidf__norm': 'l1', 'vect__max_df': 0.2, 'vect__max_features': 50000, 'vect__ngram_range': (1, 1), 'vect__stop_words': None}\n",
      "mean: 0.872 std: (+/-0.012) for {'clf__C': 1, 'tfidf__norm': 'l1', 'vect__max_df': 0.2, 'vect__max_features': 50000, 'vect__ngram_range': (1, 2), 'vect__stop_words': 0}\n",
      "mean: 0.871 std: (+/-0.012) for {'clf__C': 1, 'tfidf__norm': 'l1', 'vect__max_df': 0.2, 'vect__max_features': 50000, 'vect__ngram_range': (1, 2), 'vect__stop_words': 1}\n",
      "mean: 0.873 std: (+/-0.009) for {'clf__C': 1, 'tfidf__norm': 'l1', 'vect__max_df': 0.2, 'vect__max_features': 50000, 'vect__ngram_range': (1, 2), 'vect__stop_words': None}\n",
      "mean: 0.871 std: (+/-0.012) for {'clf__C': 1, 'tfidf__norm': 'l1', 'vect__max_df': 0.3, 'vect__max_features': 30000, 'vect__ngram_range': (1, 1), 'vect__stop_words': 0}\n",
      "mean: 0.871 std: (+/-0.014) for {'clf__C': 1, 'tfidf__norm': 'l1', 'vect__max_df': 0.3, 'vect__max_features': 30000, 'vect__ngram_range': (1, 1), 'vect__stop_words': 1}\n",
      "mean: 0.869 std: (+/-0.008) for {'clf__C': 1, 'tfidf__norm': 'l1', 'vect__max_df': 0.3, 'vect__max_features': 30000, 'vect__ngram_range': (1, 1), 'vect__stop_words': None}\n",
      "mean: 0.871 std: (+/-0.013) for {'clf__C': 1, 'tfidf__norm': 'l1', 'vect__max_df': 0.3, 'vect__max_features': 30000, 'vect__ngram_range': (1, 2), 'vect__stop_words': 0}\n",
      "mean: 0.872 std: (+/-0.013) for {'clf__C': 1, 'tfidf__norm': 'l1', 'vect__max_df': 0.3, 'vect__max_features': 30000, 'vect__ngram_range': (1, 2), 'vect__stop_words': 1}\n",
      "mean: 0.869 std: (+/-0.009) for {'clf__C': 1, 'tfidf__norm': 'l1', 'vect__max_df': 0.3, 'vect__max_features': 30000, 'vect__ngram_range': (1, 2), 'vect__stop_words': None}\n",
      "mean: 0.870 std: (+/-0.012) for {'clf__C': 1, 'tfidf__norm': 'l1', 'vect__max_df': 0.3, 'vect__max_features': 50000, 'vect__ngram_range': (1, 1), 'vect__stop_words': 0}\n",
      "mean: 0.870 std: (+/-0.013) for {'clf__C': 1, 'tfidf__norm': 'l1', 'vect__max_df': 0.3, 'vect__max_features': 50000, 'vect__ngram_range': (1, 1), 'vect__stop_words': 1}\n",
      "mean: 0.868 std: (+/-0.008) for {'clf__C': 1, 'tfidf__norm': 'l1', 'vect__max_df': 0.3, 'vect__max_features': 50000, 'vect__ngram_range': (1, 1), 'vect__stop_words': None}\n",
      "mean: 0.869 std: (+/-0.013) for {'clf__C': 1, 'tfidf__norm': 'l1', 'vect__max_df': 0.3, 'vect__max_features': 50000, 'vect__ngram_range': (1, 2), 'vect__stop_words': 0}\n",
      "mean: 0.869 std: (+/-0.014) for {'clf__C': 1, 'tfidf__norm': 'l1', 'vect__max_df': 0.3, 'vect__max_features': 50000, 'vect__ngram_range': (1, 2), 'vect__stop_words': 1}\n",
      "mean: 0.867 std: (+/-0.007) for {'clf__C': 1, 'tfidf__norm': 'l1', 'vect__max_df': 0.3, 'vect__max_features': 50000, 'vect__ngram_range': (1, 2), 'vect__stop_words': None}\n",
      "mean: 0.869 std: (+/-0.012) for {'clf__C': 1, 'tfidf__norm': 'l1', 'vect__max_df': 0.4, 'vect__max_features': 30000, 'vect__ngram_range': (1, 1), 'vect__stop_words': 0}\n",
      "mean: 0.870 std: (+/-0.013) for {'clf__C': 1, 'tfidf__norm': 'l1', 'vect__max_df': 0.4, 'vect__max_features': 30000, 'vect__ngram_range': (1, 1), 'vect__stop_words': 1}\n",
      "mean: 0.868 std: (+/-0.010) for {'clf__C': 1, 'tfidf__norm': 'l1', 'vect__max_df': 0.4, 'vect__max_features': 30000, 'vect__ngram_range': (1, 1), 'vect__stop_words': None}\n",
      "mean: 0.871 std: (+/-0.014) for {'clf__C': 1, 'tfidf__norm': 'l1', 'vect__max_df': 0.4, 'vect__max_features': 30000, 'vect__ngram_range': (1, 2), 'vect__stop_words': 0}\n",
      "mean: 0.872 std: (+/-0.015) for {'clf__C': 1, 'tfidf__norm': 'l1', 'vect__max_df': 0.4, 'vect__max_features': 30000, 'vect__ngram_range': (1, 2), 'vect__stop_words': 1}\n",
      "mean: 0.867 std: (+/-0.009) for {'clf__C': 1, 'tfidf__norm': 'l1', 'vect__max_df': 0.4, 'vect__max_features': 30000, 'vect__ngram_range': (1, 2), 'vect__stop_words': None}\n",
      "mean: 0.869 std: (+/-0.012) for {'clf__C': 1, 'tfidf__norm': 'l1', 'vect__max_df': 0.4, 'vect__max_features': 50000, 'vect__ngram_range': (1, 1), 'vect__stop_words': 0}\n",
      "mean: 0.870 std: (+/-0.012) for {'clf__C': 1, 'tfidf__norm': 'l1', 'vect__max_df': 0.4, 'vect__max_features': 50000, 'vect__ngram_range': (1, 1), 'vect__stop_words': 1}\n",
      "mean: 0.868 std: (+/-0.010) for {'clf__C': 1, 'tfidf__norm': 'l1', 'vect__max_df': 0.4, 'vect__max_features': 50000, 'vect__ngram_range': (1, 1), 'vect__stop_words': None}\n",
      "mean: 0.870 std: (+/-0.016) for {'clf__C': 1, 'tfidf__norm': 'l1', 'vect__max_df': 0.4, 'vect__max_features': 50000, 'vect__ngram_range': (1, 2), 'vect__stop_words': 0}\n",
      "mean: 0.870 std: (+/-0.015) for {'clf__C': 1, 'tfidf__norm': 'l1', 'vect__max_df': 0.4, 'vect__max_features': 50000, 'vect__ngram_range': (1, 2), 'vect__stop_words': 1}\n",
      "mean: 0.866 std: (+/-0.009) for {'clf__C': 1, 'tfidf__norm': 'l1', 'vect__max_df': 0.4, 'vect__max_features': 50000, 'vect__ngram_range': (1, 2), 'vect__stop_words': None}\n",
      "mean: 0.884 std: (+/-0.011) for {'clf__C': 1, 'tfidf__norm': 'l2', 'vect__max_df': 0.2, 'vect__max_features': 30000, 'vect__ngram_range': (1, 1), 'vect__stop_words': 0}\n",
      "mean: 0.884 std: (+/-0.011) for {'clf__C': 1, 'tfidf__norm': 'l2', 'vect__max_df': 0.2, 'vect__max_features': 30000, 'vect__ngram_range': (1, 1), 'vect__stop_words': 1}\n",
      "mean: 0.887 std: (+/-0.011) for {'clf__C': 1, 'tfidf__norm': 'l2', 'vect__max_df': 0.2, 'vect__max_features': 30000, 'vect__ngram_range': (1, 1), 'vect__stop_words': None}\n",
      "mean: 0.894 std: (+/-0.009) for {'clf__C': 1, 'tfidf__norm': 'l2', 'vect__max_df': 0.2, 'vect__max_features': 30000, 'vect__ngram_range': (1, 2), 'vect__stop_words': 0}\n",
      "mean: 0.894 std: (+/-0.011) for {'clf__C': 1, 'tfidf__norm': 'l2', 'vect__max_df': 0.2, 'vect__max_features': 30000, 'vect__ngram_range': (1, 2), 'vect__stop_words': 1}\n",
      "mean: 0.899 std: (+/-0.012) for {'clf__C': 1, 'tfidf__norm': 'l2', 'vect__max_df': 0.2, 'vect__max_features': 30000, 'vect__ngram_range': (1, 2), 'vect__stop_words': None}\n",
      "mean: 0.885 std: (+/-0.011) for {'clf__C': 1, 'tfidf__norm': 'l2', 'vect__max_df': 0.2, 'vect__max_features': 50000, 'vect__ngram_range': (1, 1), 'vect__stop_words': 0}\n",
      "mean: 0.885 std: (+/-0.010) for {'clf__C': 1, 'tfidf__norm': 'l2', 'vect__max_df': 0.2, 'vect__max_features': 50000, 'vect__ngram_range': (1, 1), 'vect__stop_words': 1}\n",
      "mean: 0.887 std: (+/-0.011) for {'clf__C': 1, 'tfidf__norm': 'l2', 'vect__max_df': 0.2, 'vect__max_features': 50000, 'vect__ngram_range': (1, 1), 'vect__stop_words': None}\n",
      "mean: 0.897 std: (+/-0.008) for {'clf__C': 1, 'tfidf__norm': 'l2', 'vect__max_df': 0.2, 'vect__max_features': 50000, 'vect__ngram_range': (1, 2), 'vect__stop_words': 0}\n",
      "mean: 0.897 std: (+/-0.008) for {'clf__C': 1, 'tfidf__norm': 'l2', 'vect__max_df': 0.2, 'vect__max_features': 50000, 'vect__ngram_range': (1, 2), 'vect__stop_words': 1}\n",
      "mean: 0.904 std: (+/-0.012) for {'clf__C': 1, 'tfidf__norm': 'l2', 'vect__max_df': 0.2, 'vect__max_features': 50000, 'vect__ngram_range': (1, 2), 'vect__stop_words': None}\n",
      "mean: 0.888 std: (+/-0.014) for {'clf__C': 1, 'tfidf__norm': 'l2', 'vect__max_df': 0.3, 'vect__max_features': 30000, 'vect__ngram_range': (1, 1), 'vect__stop_words': 0}\n",
      "mean: 0.888 std: (+/-0.015) for {'clf__C': 1, 'tfidf__norm': 'l2', 'vect__max_df': 0.3, 'vect__max_features': 30000, 'vect__ngram_range': (1, 1), 'vect__stop_words': 1}\n",
      "mean: 0.889 std: (+/-0.014) for {'clf__C': 1, 'tfidf__norm': 'l2', 'vect__max_df': 0.3, 'vect__max_features': 30000, 'vect__ngram_range': (1, 1), 'vect__stop_words': None}\n",
      "mean: 0.895 std: (+/-0.012) for {'clf__C': 1, 'tfidf__norm': 'l2', 'vect__max_df': 0.3, 'vect__max_features': 30000, 'vect__ngram_range': (1, 2), 'vect__stop_words': 0}\n",
      "mean: 0.895 std: (+/-0.013) for {'clf__C': 1, 'tfidf__norm': 'l2', 'vect__max_df': 0.3, 'vect__max_features': 30000, 'vect__ngram_range': (1, 2), 'vect__stop_words': 1}\n",
      "mean: 0.900 std: (+/-0.012) for {'clf__C': 1, 'tfidf__norm': 'l2', 'vect__max_df': 0.3, 'vect__max_features': 30000, 'vect__ngram_range': (1, 2), 'vect__stop_words': None}\n",
      "mean: 0.889 std: (+/-0.014) for {'clf__C': 1, 'tfidf__norm': 'l2', 'vect__max_df': 0.3, 'vect__max_features': 50000, 'vect__ngram_range': (1, 1), 'vect__stop_words': 0}\n",
      "mean: 0.888 std: (+/-0.014) for {'clf__C': 1, 'tfidf__norm': 'l2', 'vect__max_df': 0.3, 'vect__max_features': 50000, 'vect__ngram_range': (1, 1), 'vect__stop_words': 1}\n",
      "mean: 0.890 std: (+/-0.013) for {'clf__C': 1, 'tfidf__norm': 'l2', 'vect__max_df': 0.3, 'vect__max_features': 50000, 'vect__ngram_range': (1, 1), 'vect__stop_words': None}\n",
      "mean: 0.898 std: (+/-0.010) for {'clf__C': 1, 'tfidf__norm': 'l2', 'vect__max_df': 0.3, 'vect__max_features': 50000, 'vect__ngram_range': (1, 2), 'vect__stop_words': 0}\n",
      "mean: 0.898 std: (+/-0.011) for {'clf__C': 1, 'tfidf__norm': 'l2', 'vect__max_df': 0.3, 'vect__max_features': 50000, 'vect__ngram_range': (1, 2), 'vect__stop_words': 1}\n",
      "mean: 0.903 std: (+/-0.012) for {'clf__C': 1, 'tfidf__norm': 'l2', 'vect__max_df': 0.3, 'vect__max_features': 50000, 'vect__ngram_range': (1, 2), 'vect__stop_words': None}\n",
      "mean: 0.890 std: (+/-0.010) for {'clf__C': 1, 'tfidf__norm': 'l2', 'vect__max_df': 0.4, 'vect__max_features': 30000, 'vect__ngram_range': (1, 1), 'vect__stop_words': 0}\n",
      "mean: 0.889 std: (+/-0.012) for {'clf__C': 1, 'tfidf__norm': 'l2', 'vect__max_df': 0.4, 'vect__max_features': 30000, 'vect__ngram_range': (1, 1), 'vect__stop_words': 1}\n",
      "mean: 0.889 std: (+/-0.013) for {'clf__C': 1, 'tfidf__norm': 'l2', 'vect__max_df': 0.4, 'vect__max_features': 30000, 'vect__ngram_range': (1, 1), 'vect__stop_words': None}\n",
      "mean: 0.895 std: (+/-0.011) for {'clf__C': 1, 'tfidf__norm': 'l2', 'vect__max_df': 0.4, 'vect__max_features': 30000, 'vect__ngram_range': (1, 2), 'vect__stop_words': 0}\n",
      "mean: 0.896 std: (+/-0.011) for {'clf__C': 1, 'tfidf__norm': 'l2', 'vect__max_df': 0.4, 'vect__max_features': 30000, 'vect__ngram_range': (1, 2), 'vect__stop_words': 1}\n",
      "mean: 0.899 std: (+/-0.012) for {'clf__C': 1, 'tfidf__norm': 'l2', 'vect__max_df': 0.4, 'vect__max_features': 30000, 'vect__ngram_range': (1, 2), 'vect__stop_words': None}\n",
      "mean: 0.890 std: (+/-0.011) for {'clf__C': 1, 'tfidf__norm': 'l2', 'vect__max_df': 0.4, 'vect__max_features': 50000, 'vect__ngram_range': (1, 1), 'vect__stop_words': 0}\n",
      "mean: 0.889 std: (+/-0.011) for {'clf__C': 1, 'tfidf__norm': 'l2', 'vect__max_df': 0.4, 'vect__max_features': 50000, 'vect__ngram_range': (1, 1), 'vect__stop_words': 1}\n",
      "mean: 0.891 std: (+/-0.014) for {'clf__C': 1, 'tfidf__norm': 'l2', 'vect__max_df': 0.4, 'vect__max_features': 50000, 'vect__ngram_range': (1, 1), 'vect__stop_words': None}\n",
      "mean: 0.899 std: (+/-0.011) for {'clf__C': 1, 'tfidf__norm': 'l2', 'vect__max_df': 0.4, 'vect__max_features': 50000, 'vect__ngram_range': (1, 2), 'vect__stop_words': 0}\n",
      "mean: 0.898 std: (+/-0.012) for {'clf__C': 1, 'tfidf__norm': 'l2', 'vect__max_df': 0.4, 'vect__max_features': 50000, 'vect__ngram_range': (1, 2), 'vect__stop_words': 1}\n",
      "mean: 0.902 std: (+/-0.014) for {'clf__C': 1, 'tfidf__norm': 'l2', 'vect__max_df': 0.4, 'vect__max_features': 50000, 'vect__ngram_range': (1, 2), 'vect__stop_words': None}\n",
      "Best score:\n",
      "0.905 (+/-0.014)\n",
      "with parameters set:\n",
      "\tclf__C: 0.5\n",
      "\ttfidf__norm: 'l2'\n",
      "\tvect__max_df: 0.2\n",
      "\tvect__max_features: 50000\n",
      "\tvect__ngram_range: (1, 2)\n",
      "\tvect__stop_words: None\n"
     ],
     "output_type": "stream"
    },
    {
     "name": "stderr",
     "text": [
      "[Parallel(n_jobs=-1)]: Using backend LokyBackend with 12 concurrent workers.\n",
      "[Parallel(n_jobs=-1)]: Done  48 tasks      | elapsed:  2.5min\n",
      "[Parallel(n_jobs=-1)]: Done 138 tasks      | elapsed:  6.5min\n",
      "[Parallel(n_jobs=-1)]: Done 264 tasks      | elapsed: 12.2min\n",
      "[Parallel(n_jobs=-1)]: Done 426 tasks      | elapsed: 20.4min\n",
      "[Parallel(n_jobs=-1)]: Done 624 tasks      | elapsed: 30.2min\n",
      "[Parallel(n_jobs=-1)]: Done 720 out of 720 | elapsed: 34.8min finished\n"
     ],
     "output_type": "stream"
    }
   ],
   "source": [
    "params_trial_1_linear = { \n",
    "    'vect__max_features': (30000,50000),\n",
    "    'vect__ngram_range': ((1, 1), (1, 2)),\n",
    "    'tfidf__norm': ('l1','l2'),\n",
    "    'vect__stop_words' : [stop_words_no_nums, stop_words_with_nums,None],\n",
    "    'vect__max_df':(0.2,0.3,0.4),\n",
    "    'clf__C': (0.5,1),\n",
    "}\n",
    "#### TEST 1 looking at linear kernel function ####\n",
    "clf_linear.fit(params_trial_1_linear,5)"
   ],
   "metadata": {
    "collapsed": false,
    "pycharm": {
     "name": "#%%\n",
     "is_executing": false
    }
   }
  },
  {
   "cell_type": "code",
   "execution_count": 7,
   "outputs": [
    {
     "name": "stdout",
     "text": [
      "Finding most common params for the top 29 values\n",
      "[{1: 11, 0.5: 18}, {'l2': 29}, {0.2: 9, 0.3: 10, 0.4: 10}, {50000: 17, 30000: 12}, {(1, 2): 29}, {0: 9, 1: 8, None: 12}]\n",
      "Finding most common params for the top 15 values\n",
      "[{0.5: 12, 1: 3}, {'l2': 15}, {0.2: 5, 0.3: 5, 0.4: 5}, {50000: 12, 30000: 3}, {(1, 2): 15}, {1: 3, 0: 3, None: 9}]\n",
      "Finding most common params for the top 8 values\n",
      "[{1: 3, 0.5: 5}, {'l2': 8}, {0.4: 2, 0.2: 3, 0.3: 3}, {50000: 6, 30000: 2}, {(1, 2): 8}, {None: 8}]\n"
     ],
     "output_type": "stream"
    }
   ],
   "source": [
    "clf_linear.eval_best_n_params(0.8)\n",
    "clf_linear.eval_best_n_params(0.9)\n",
    "clf_linear.eval_best_n_params(0.95)\n"
   ],
   "metadata": {
    "collapsed": false,
    "pycharm": {
     "name": "#%%\n",
     "is_executing": false
    }
   }
  },
  {
   "cell_type": "code",
   "execution_count": 11,
   "outputs": [
    {
     "name": "stdout",
     "text": [
      "Performing grid search...\n",
      "pipeline: ['vect', 'tfidf', 'clf']\n",
      "Fitting 5 folds for each of 48 candidates, totalling 240 fits\n",
      "done in 1185.038s\n",
      "\n",
      "scores!\n",
      "mean: 0.901 std: (+/-0.010) for {'clf__C': 0.3, 'tfidf__norm': 'l2', 'vect__max_df': 0.1, 'vect__max_features': 30000, 'vect__ngram_range': (1, 2)}\n",
      "mean: 0.903 std: (+/-0.011) for {'clf__C': 0.3, 'tfidf__norm': 'l2', 'vect__max_df': 0.1, 'vect__max_features': 50000, 'vect__ngram_range': (1, 2)}\n",
      "mean: 0.905 std: (+/-0.011) for {'clf__C': 0.3, 'tfidf__norm': 'l2', 'vect__max_df': 0.1, 'vect__max_features': 100000, 'vect__ngram_range': (1, 2)}\n",
      "mean: 0.903 std: (+/-0.015) for {'clf__C': 0.3, 'tfidf__norm': 'l2', 'vect__max_df': 0.15, 'vect__max_features': 30000, 'vect__ngram_range': (1, 2)}\n",
      "mean: 0.905 std: (+/-0.010) for {'clf__C': 0.3, 'tfidf__norm': 'l2', 'vect__max_df': 0.15, 'vect__max_features': 50000, 'vect__ngram_range': (1, 2)}\n",
      "mean: 0.906 std: (+/-0.011) for {'clf__C': 0.3, 'tfidf__norm': 'l2', 'vect__max_df': 0.15, 'vect__max_features': 100000, 'vect__ngram_range': (1, 2)}\n",
      "mean: 0.902 std: (+/-0.014) for {'clf__C': 0.3, 'tfidf__norm': 'l2', 'vect__max_df': 0.2, 'vect__max_features': 30000, 'vect__ngram_range': (1, 2)}\n",
      "mean: 0.905 std: (+/-0.013) for {'clf__C': 0.3, 'tfidf__norm': 'l2', 'vect__max_df': 0.2, 'vect__max_features': 50000, 'vect__ngram_range': (1, 2)}\n",
      "mean: 0.906 std: (+/-0.013) for {'clf__C': 0.3, 'tfidf__norm': 'l2', 'vect__max_df': 0.2, 'vect__max_features': 100000, 'vect__ngram_range': (1, 2)}\n",
      "mean: 0.903 std: (+/-0.011) for {'clf__C': 0.3, 'tfidf__norm': 'l2', 'vect__max_df': 0.25, 'vect__max_features': 30000, 'vect__ngram_range': (1, 2)}\n",
      "mean: 0.905 std: (+/-0.011) for {'clf__C': 0.3, 'tfidf__norm': 'l2', 'vect__max_df': 0.25, 'vect__max_features': 50000, 'vect__ngram_range': (1, 2)}\n",
      "mean: 0.906 std: (+/-0.012) for {'clf__C': 0.3, 'tfidf__norm': 'l2', 'vect__max_df': 0.25, 'vect__max_features': 100000, 'vect__ngram_range': (1, 2)}\n",
      "mean: 0.901 std: (+/-0.010) for {'clf__C': 0.4, 'tfidf__norm': 'l2', 'vect__max_df': 0.1, 'vect__max_features': 30000, 'vect__ngram_range': (1, 2)}\n",
      "mean: 0.903 std: (+/-0.012) for {'clf__C': 0.4, 'tfidf__norm': 'l2', 'vect__max_df': 0.1, 'vect__max_features': 50000, 'vect__ngram_range': (1, 2)}\n",
      "mean: 0.905 std: (+/-0.010) for {'clf__C': 0.4, 'tfidf__norm': 'l2', 'vect__max_df': 0.1, 'vect__max_features': 100000, 'vect__ngram_range': (1, 2)}\n",
      "mean: 0.902 std: (+/-0.014) for {'clf__C': 0.4, 'tfidf__norm': 'l2', 'vect__max_df': 0.15, 'vect__max_features': 30000, 'vect__ngram_range': (1, 2)}\n",
      "mean: 0.905 std: (+/-0.012) for {'clf__C': 0.4, 'tfidf__norm': 'l2', 'vect__max_df': 0.15, 'vect__max_features': 50000, 'vect__ngram_range': (1, 2)}\n",
      "mean: 0.907 std: (+/-0.010) for {'clf__C': 0.4, 'tfidf__norm': 'l2', 'vect__max_df': 0.15, 'vect__max_features': 100000, 'vect__ngram_range': (1, 2)}\n",
      "mean: 0.902 std: (+/-0.012) for {'clf__C': 0.4, 'tfidf__norm': 'l2', 'vect__max_df': 0.2, 'vect__max_features': 30000, 'vect__ngram_range': (1, 2)}\n",
      "mean: 0.904 std: (+/-0.013) for {'clf__C': 0.4, 'tfidf__norm': 'l2', 'vect__max_df': 0.2, 'vect__max_features': 50000, 'vect__ngram_range': (1, 2)}\n",
      "mean: 0.906 std: (+/-0.011) for {'clf__C': 0.4, 'tfidf__norm': 'l2', 'vect__max_df': 0.2, 'vect__max_features': 100000, 'vect__ngram_range': (1, 2)}\n",
      "mean: 0.903 std: (+/-0.010) for {'clf__C': 0.4, 'tfidf__norm': 'l2', 'vect__max_df': 0.25, 'vect__max_features': 30000, 'vect__ngram_range': (1, 2)}\n",
      "mean: 0.905 std: (+/-0.011) for {'clf__C': 0.4, 'tfidf__norm': 'l2', 'vect__max_df': 0.25, 'vect__max_features': 50000, 'vect__ngram_range': (1, 2)}\n",
      "mean: 0.907 std: (+/-0.009) for {'clf__C': 0.4, 'tfidf__norm': 'l2', 'vect__max_df': 0.25, 'vect__max_features': 100000, 'vect__ngram_range': (1, 2)}\n",
      "mean: 0.901 std: (+/-0.010) for {'clf__C': 0.5, 'tfidf__norm': 'l2', 'vect__max_df': 0.1, 'vect__max_features': 30000, 'vect__ngram_range': (1, 2)}\n",
      "mean: 0.902 std: (+/-0.012) for {'clf__C': 0.5, 'tfidf__norm': 'l2', 'vect__max_df': 0.1, 'vect__max_features': 50000, 'vect__ngram_range': (1, 2)}\n",
      "mean: 0.905 std: (+/-0.009) for {'clf__C': 0.5, 'tfidf__norm': 'l2', 'vect__max_df': 0.1, 'vect__max_features': 100000, 'vect__ngram_range': (1, 2)}\n",
      "mean: 0.901 std: (+/-0.015) for {'clf__C': 0.5, 'tfidf__norm': 'l2', 'vect__max_df': 0.15, 'vect__max_features': 30000, 'vect__ngram_range': (1, 2)}\n",
      "mean: 0.904 std: (+/-0.012) for {'clf__C': 0.5, 'tfidf__norm': 'l2', 'vect__max_df': 0.15, 'vect__max_features': 50000, 'vect__ngram_range': (1, 2)}\n",
      "mean: 0.906 std: (+/-0.011) for {'clf__C': 0.5, 'tfidf__norm': 'l2', 'vect__max_df': 0.15, 'vect__max_features': 100000, 'vect__ngram_range': (1, 2)}\n",
      "mean: 0.902 std: (+/-0.011) for {'clf__C': 0.5, 'tfidf__norm': 'l2', 'vect__max_df': 0.2, 'vect__max_features': 30000, 'vect__ngram_range': (1, 2)}\n",
      "mean: 0.903 std: (+/-0.012) for {'clf__C': 0.5, 'tfidf__norm': 'l2', 'vect__max_df': 0.2, 'vect__max_features': 50000, 'vect__ngram_range': (1, 2)}\n",
      "mean: 0.906 std: (+/-0.012) for {'clf__C': 0.5, 'tfidf__norm': 'l2', 'vect__max_df': 0.2, 'vect__max_features': 100000, 'vect__ngram_range': (1, 2)}\n",
      "mean: 0.902 std: (+/-0.010) for {'clf__C': 0.5, 'tfidf__norm': 'l2', 'vect__max_df': 0.25, 'vect__max_features': 30000, 'vect__ngram_range': (1, 2)}\n",
      "mean: 0.905 std: (+/-0.011) for {'clf__C': 0.5, 'tfidf__norm': 'l2', 'vect__max_df': 0.25, 'vect__max_features': 50000, 'vect__ngram_range': (1, 2)}\n",
      "mean: 0.908 std: (+/-0.009) for {'clf__C': 0.5, 'tfidf__norm': 'l2', 'vect__max_df': 0.25, 'vect__max_features': 100000, 'vect__ngram_range': (1, 2)}\n",
      "mean: 0.896 std: (+/-0.009) for {'clf__C': 1, 'tfidf__norm': 'l2', 'vect__max_df': 0.1, 'vect__max_features': 30000, 'vect__ngram_range': (1, 2)}\n",
      "mean: 0.899 std: (+/-0.011) for {'clf__C': 1, 'tfidf__norm': 'l2', 'vect__max_df': 0.1, 'vect__max_features': 50000, 'vect__ngram_range': (1, 2)}\n",
      "mean: 0.904 std: (+/-0.009) for {'clf__C': 1, 'tfidf__norm': 'l2', 'vect__max_df': 0.1, 'vect__max_features': 100000, 'vect__ngram_range': (1, 2)}\n",
      "mean: 0.897 std: (+/-0.012) for {'clf__C': 1, 'tfidf__norm': 'l2', 'vect__max_df': 0.15, 'vect__max_features': 30000, 'vect__ngram_range': (1, 2)}\n",
      "mean: 0.901 std: (+/-0.010) for {'clf__C': 1, 'tfidf__norm': 'l2', 'vect__max_df': 0.15, 'vect__max_features': 50000, 'vect__ngram_range': (1, 2)}\n",
      "mean: 0.904 std: (+/-0.011) for {'clf__C': 1, 'tfidf__norm': 'l2', 'vect__max_df': 0.15, 'vect__max_features': 100000, 'vect__ngram_range': (1, 2)}\n",
      "mean: 0.898 std: (+/-0.011) for {'clf__C': 1, 'tfidf__norm': 'l2', 'vect__max_df': 0.2, 'vect__max_features': 30000, 'vect__ngram_range': (1, 2)}\n",
      "mean: 0.901 std: (+/-0.012) for {'clf__C': 1, 'tfidf__norm': 'l2', 'vect__max_df': 0.2, 'vect__max_features': 50000, 'vect__ngram_range': (1, 2)}\n",
      "mean: 0.904 std: (+/-0.011) for {'clf__C': 1, 'tfidf__norm': 'l2', 'vect__max_df': 0.2, 'vect__max_features': 100000, 'vect__ngram_range': (1, 2)}\n",
      "mean: 0.899 std: (+/-0.008) for {'clf__C': 1, 'tfidf__norm': 'l2', 'vect__max_df': 0.25, 'vect__max_features': 30000, 'vect__ngram_range': (1, 2)}\n",
      "mean: 0.903 std: (+/-0.012) for {'clf__C': 1, 'tfidf__norm': 'l2', 'vect__max_df': 0.25, 'vect__max_features': 50000, 'vect__ngram_range': (1, 2)}\n",
      "mean: 0.906 std: (+/-0.009) for {'clf__C': 1, 'tfidf__norm': 'l2', 'vect__max_df': 0.25, 'vect__max_features': 100000, 'vect__ngram_range': (1, 2)}\n",
      "Best score:\n",
      "0.908 (+/-0.009)\n",
      "with parameters set:\n",
      "\tclf__C: 0.5\n",
      "\ttfidf__norm: 'l2'\n",
      "\tvect__max_df: 0.25\n",
      "\tvect__max_features: 100000\n",
      "\tvect__ngram_range: (1, 2)\n"
     ],
     "output_type": "stream"
    },
    {
     "name": "stderr",
     "text": [
      "[Parallel(n_jobs=-1)]: Using backend LokyBackend with 12 concurrent workers.\n",
      "[Parallel(n_jobs=-1)]: Done  48 tasks      | elapsed:  3.5min\n",
      "[Parallel(n_jobs=-1)]: Done 138 tasks      | elapsed: 11.4min\n",
      "[Parallel(n_jobs=-1)]: Done 240 out of 240 | elapsed: 19.4min finished\n"
     ],
     "output_type": "stream"
    }
   ],
   "source": [
    "params_trial_2_linear = { \n",
    "    'vect__max_features': (30000,50000,100000),\n",
    "    'vect__ngram_range': [(1, 2)],\n",
    "    'tfidf__norm': [('l2')],\n",
    "    'vect__max_df':(0.1,0.15,0.2,0.25),\n",
    "    'clf__C': (0.3,0.4,0.5,1),\n",
    "}\n",
    "#### TEST 1 looking at linear kernel function ####\n",
    "clf_linear.fit(params_trial_2_linear,5)"
   ],
   "metadata": {
    "collapsed": false,
    "pycharm": {
     "name": "#%%\n",
     "is_executing": false
    }
   }
  },
  {
   "cell_type": "code",
   "execution_count": 12,
   "outputs": [
    {
     "name": "stdout",
     "text": [
      "Finding most common params for the top 10 values\n",
      "[{1: 1, 0.3: 3, 0.4: 3, 0.5: 3}, {'l2': 10}, {0.25: 4, 0.2: 3, 0.15: 3}, {100000: 10}, {(1, 2): 10}]\n",
      "Finding most common params for the top 5 values\n",
      "[{0.3: 1, 0.5: 2, 0.4: 2}, {'l2': 5}, {0.15: 3, 0.25: 2}, {100000: 5}, {(1, 2): 5}]\n",
      "Finding most common params for the top 3 values\n",
      "[{0.4: 2, 0.5: 1}, {'l2': 3}, {0.15: 1, 0.25: 2}, {100000: 3}, {(1, 2): 3}]\n"
     ],
     "output_type": "stream"
    }
   ],
   "source": [
    "clf_linear.eval_best_n_params(0.8)\n",
    "clf_linear.eval_best_n_params(0.9)\n",
    "clf_linear.eval_best_n_params(0.95)\n"
   ],
   "metadata": {
    "collapsed": false,
    "pycharm": {
     "name": "#%%\n",
     "is_executing": false
    }
   }
  },
  {
   "cell_type": "code",
   "execution_count": 7,
   "outputs": [
    {
     "name": "stdout",
     "text": [
      "Performing grid search...\n",
      "pipeline: ['vect', 'tfidf', 'clf']\n",
      "Fitting 5 folds for each of 108 candidates, totalling 540 fits\n",
      "done in 2701.771s\n",
      "\n",
      "scores!\n",
      "mean: 0.907 std: (+/-0.003) for {'clf__C': 0.3, 'tfidf__norm': 'l2', 'vect__max_df': 0.2, 'vect__max_features': 100000, 'vect__ngram_range': (1, 2)}\n",
      "mean: 0.907 std: (+/-0.002) for {'clf__C': 0.3, 'tfidf__norm': 'l2', 'vect__max_df': 0.2, 'vect__max_features': 150000, 'vect__ngram_range': (1, 2)}\n",
      "mean: 0.907 std: (+/-0.002) for {'clf__C': 0.3, 'tfidf__norm': 'l2', 'vect__max_df': 0.2, 'vect__max_features': 200000, 'vect__ngram_range': (1, 2)}\n",
      "mean: 0.906 std: (+/-0.004) for {'clf__C': 0.3, 'tfidf__norm': 'l2', 'vect__max_df': 0.25, 'vect__max_features': 100000, 'vect__ngram_range': (1, 2)}\n",
      "mean: 0.906 std: (+/-0.003) for {'clf__C': 0.3, 'tfidf__norm': 'l2', 'vect__max_df': 0.25, 'vect__max_features': 150000, 'vect__ngram_range': (1, 2)}\n",
      "mean: 0.906 std: (+/-0.003) for {'clf__C': 0.3, 'tfidf__norm': 'l2', 'vect__max_df': 0.25, 'vect__max_features': 200000, 'vect__ngram_range': (1, 2)}\n",
      "mean: 0.905 std: (+/-0.006) for {'clf__C': 0.3, 'tfidf__norm': 'l2', 'vect__max_df': 0.3, 'vect__max_features': 100000, 'vect__ngram_range': (1, 2)}\n",
      "mean: 0.905 std: (+/-0.003) for {'clf__C': 0.3, 'tfidf__norm': 'l2', 'vect__max_df': 0.3, 'vect__max_features': 150000, 'vect__ngram_range': (1, 2)}\n",
      "mean: 0.905 std: (+/-0.004) for {'clf__C': 0.3, 'tfidf__norm': 'l2', 'vect__max_df': 0.3, 'vect__max_features': 200000, 'vect__ngram_range': (1, 2)}\n",
      "mean: 0.905 std: (+/-0.005) for {'clf__C': 0.3, 'tfidf__norm': 'l2', 'vect__max_df': 0.35, 'vect__max_features': 100000, 'vect__ngram_range': (1, 2)}\n",
      "mean: 0.905 std: (+/-0.006) for {'clf__C': 0.3, 'tfidf__norm': 'l2', 'vect__max_df': 0.35, 'vect__max_features': 150000, 'vect__ngram_range': (1, 2)}\n",
      "mean: 0.905 std: (+/-0.006) for {'clf__C': 0.3, 'tfidf__norm': 'l2', 'vect__max_df': 0.35, 'vect__max_features': 200000, 'vect__ngram_range': (1, 2)}\n",
      "mean: 0.907 std: (+/-0.003) for {'clf__C': 0.35, 'tfidf__norm': 'l2', 'vect__max_df': 0.2, 'vect__max_features': 100000, 'vect__ngram_range': (1, 2)}\n",
      "mean: 0.908 std: (+/-0.003) for {'clf__C': 0.35, 'tfidf__norm': 'l2', 'vect__max_df': 0.2, 'vect__max_features': 150000, 'vect__ngram_range': (1, 2)}\n",
      "mean: 0.908 std: (+/-0.003) for {'clf__C': 0.35, 'tfidf__norm': 'l2', 'vect__max_df': 0.2, 'vect__max_features': 200000, 'vect__ngram_range': (1, 2)}\n",
      "mean: 0.907 std: (+/-0.003) for {'clf__C': 0.35, 'tfidf__norm': 'l2', 'vect__max_df': 0.25, 'vect__max_features': 100000, 'vect__ngram_range': (1, 2)}\n",
      "mean: 0.906 std: (+/-0.003) for {'clf__C': 0.35, 'tfidf__norm': 'l2', 'vect__max_df': 0.25, 'vect__max_features': 150000, 'vect__ngram_range': (1, 2)}\n",
      "mean: 0.907 std: (+/-0.003) for {'clf__C': 0.35, 'tfidf__norm': 'l2', 'vect__max_df': 0.25, 'vect__max_features': 200000, 'vect__ngram_range': (1, 2)}\n",
      "mean: 0.905 std: (+/-0.005) for {'clf__C': 0.35, 'tfidf__norm': 'l2', 'vect__max_df': 0.3, 'vect__max_features': 100000, 'vect__ngram_range': (1, 2)}\n",
      "mean: 0.905 std: (+/-0.003) for {'clf__C': 0.35, 'tfidf__norm': 'l2', 'vect__max_df': 0.3, 'vect__max_features': 150000, 'vect__ngram_range': (1, 2)}\n",
      "mean: 0.906 std: (+/-0.003) for {'clf__C': 0.35, 'tfidf__norm': 'l2', 'vect__max_df': 0.3, 'vect__max_features': 200000, 'vect__ngram_range': (1, 2)}\n",
      "mean: 0.906 std: (+/-0.004) for {'clf__C': 0.35, 'tfidf__norm': 'l2', 'vect__max_df': 0.35, 'vect__max_features': 100000, 'vect__ngram_range': (1, 2)}\n",
      "mean: 0.905 std: (+/-0.006) for {'clf__C': 0.35, 'tfidf__norm': 'l2', 'vect__max_df': 0.35, 'vect__max_features': 150000, 'vect__ngram_range': (1, 2)}\n",
      "mean: 0.906 std: (+/-0.005) for {'clf__C': 0.35, 'tfidf__norm': 'l2', 'vect__max_df': 0.35, 'vect__max_features': 200000, 'vect__ngram_range': (1, 2)}\n",
      "mean: 0.908 std: (+/-0.001) for {'clf__C': 0.4, 'tfidf__norm': 'l2', 'vect__max_df': 0.2, 'vect__max_features': 100000, 'vect__ngram_range': (1, 2)}\n",
      "mean: 0.908 std: (+/-0.003) for {'clf__C': 0.4, 'tfidf__norm': 'l2', 'vect__max_df': 0.2, 'vect__max_features': 150000, 'vect__ngram_range': (1, 2)}\n",
      "mean: 0.908 std: (+/-0.003) for {'clf__C': 0.4, 'tfidf__norm': 'l2', 'vect__max_df': 0.2, 'vect__max_features': 200000, 'vect__ngram_range': (1, 2)}\n",
      "mean: 0.907 std: (+/-0.003) for {'clf__C': 0.4, 'tfidf__norm': 'l2', 'vect__max_df': 0.25, 'vect__max_features': 100000, 'vect__ngram_range': (1, 2)}\n",
      "mean: 0.906 std: (+/-0.004) for {'clf__C': 0.4, 'tfidf__norm': 'l2', 'vect__max_df': 0.25, 'vect__max_features': 150000, 'vect__ngram_range': (1, 2)}\n",
      "mean: 0.907 std: (+/-0.002) for {'clf__C': 0.4, 'tfidf__norm': 'l2', 'vect__max_df': 0.25, 'vect__max_features': 200000, 'vect__ngram_range': (1, 2)}\n",
      "mean: 0.906 std: (+/-0.005) for {'clf__C': 0.4, 'tfidf__norm': 'l2', 'vect__max_df': 0.3, 'vect__max_features': 100000, 'vect__ngram_range': (1, 2)}\n",
      "mean: 0.906 std: (+/-0.005) for {'clf__C': 0.4, 'tfidf__norm': 'l2', 'vect__max_df': 0.3, 'vect__max_features': 150000, 'vect__ngram_range': (1, 2)}\n",
      "mean: 0.906 std: (+/-0.003) for {'clf__C': 0.4, 'tfidf__norm': 'l2', 'vect__max_df': 0.3, 'vect__max_features': 200000, 'vect__ngram_range': (1, 2)}\n",
      "mean: 0.905 std: (+/-0.005) for {'clf__C': 0.4, 'tfidf__norm': 'l2', 'vect__max_df': 0.35, 'vect__max_features': 100000, 'vect__ngram_range': (1, 2)}\n",
      "mean: 0.906 std: (+/-0.004) for {'clf__C': 0.4, 'tfidf__norm': 'l2', 'vect__max_df': 0.35, 'vect__max_features': 150000, 'vect__ngram_range': (1, 2)}\n",
      "mean: 0.906 std: (+/-0.005) for {'clf__C': 0.4, 'tfidf__norm': 'l2', 'vect__max_df': 0.35, 'vect__max_features': 200000, 'vect__ngram_range': (1, 2)}\n",
      "mean: 0.908 std: (+/-0.002) for {'clf__C': 0.45, 'tfidf__norm': 'l2', 'vect__max_df': 0.2, 'vect__max_features': 100000, 'vect__ngram_range': (1, 2)}\n",
      "mean: 0.908 std: (+/-0.003) for {'clf__C': 0.45, 'tfidf__norm': 'l2', 'vect__max_df': 0.2, 'vect__max_features': 150000, 'vect__ngram_range': (1, 2)}\n",
      "mean: 0.908 std: (+/-0.003) for {'clf__C': 0.45, 'tfidf__norm': 'l2', 'vect__max_df': 0.2, 'vect__max_features': 200000, 'vect__ngram_range': (1, 2)}\n",
      "mean: 0.907 std: (+/-0.004) for {'clf__C': 0.45, 'tfidf__norm': 'l2', 'vect__max_df': 0.25, 'vect__max_features': 100000, 'vect__ngram_range': (1, 2)}\n",
      "mean: 0.907 std: (+/-0.004) for {'clf__C': 0.45, 'tfidf__norm': 'l2', 'vect__max_df': 0.25, 'vect__max_features': 150000, 'vect__ngram_range': (1, 2)}\n",
      "mean: 0.907 std: (+/-0.003) for {'clf__C': 0.45, 'tfidf__norm': 'l2', 'vect__max_df': 0.25, 'vect__max_features': 200000, 'vect__ngram_range': (1, 2)}\n",
      "mean: 0.906 std: (+/-0.006) for {'clf__C': 0.45, 'tfidf__norm': 'l2', 'vect__max_df': 0.3, 'vect__max_features': 100000, 'vect__ngram_range': (1, 2)}\n",
      "mean: 0.906 std: (+/-0.004) for {'clf__C': 0.45, 'tfidf__norm': 'l2', 'vect__max_df': 0.3, 'vect__max_features': 150000, 'vect__ngram_range': (1, 2)}\n",
      "mean: 0.906 std: (+/-0.004) for {'clf__C': 0.45, 'tfidf__norm': 'l2', 'vect__max_df': 0.3, 'vect__max_features': 200000, 'vect__ngram_range': (1, 2)}\n",
      "mean: 0.906 std: (+/-0.005) for {'clf__C': 0.45, 'tfidf__norm': 'l2', 'vect__max_df': 0.35, 'vect__max_features': 100000, 'vect__ngram_range': (1, 2)}\n",
      "mean: 0.907 std: (+/-0.003) for {'clf__C': 0.45, 'tfidf__norm': 'l2', 'vect__max_df': 0.35, 'vect__max_features': 150000, 'vect__ngram_range': (1, 2)}\n",
      "mean: 0.906 std: (+/-0.004) for {'clf__C': 0.45, 'tfidf__norm': 'l2', 'vect__max_df': 0.35, 'vect__max_features': 200000, 'vect__ngram_range': (1, 2)}\n",
      "mean: 0.908 std: (+/-0.002) for {'clf__C': 0.5, 'tfidf__norm': 'l2', 'vect__max_df': 0.2, 'vect__max_features': 100000, 'vect__ngram_range': (1, 2)}\n",
      "mean: 0.908 std: (+/-0.002) for {'clf__C': 0.5, 'tfidf__norm': 'l2', 'vect__max_df': 0.2, 'vect__max_features': 150000, 'vect__ngram_range': (1, 2)}\n",
      "mean: 0.908 std: (+/-0.003) for {'clf__C': 0.5, 'tfidf__norm': 'l2', 'vect__max_df': 0.2, 'vect__max_features': 200000, 'vect__ngram_range': (1, 2)}\n",
      "mean: 0.907 std: (+/-0.003) for {'clf__C': 0.5, 'tfidf__norm': 'l2', 'vect__max_df': 0.25, 'vect__max_features': 100000, 'vect__ngram_range': (1, 2)}\n",
      "mean: 0.907 std: (+/-0.004) for {'clf__C': 0.5, 'tfidf__norm': 'l2', 'vect__max_df': 0.25, 'vect__max_features': 150000, 'vect__ngram_range': (1, 2)}\n",
      "mean: 0.907 std: (+/-0.004) for {'clf__C': 0.5, 'tfidf__norm': 'l2', 'vect__max_df': 0.25, 'vect__max_features': 200000, 'vect__ngram_range': (1, 2)}\n",
      "mean: 0.906 std: (+/-0.006) for {'clf__C': 0.5, 'tfidf__norm': 'l2', 'vect__max_df': 0.3, 'vect__max_features': 100000, 'vect__ngram_range': (1, 2)}\n",
      "mean: 0.906 std: (+/-0.005) for {'clf__C': 0.5, 'tfidf__norm': 'l2', 'vect__max_df': 0.3, 'vect__max_features': 150000, 'vect__ngram_range': (1, 2)}\n",
      "mean: 0.907 std: (+/-0.004) for {'clf__C': 0.5, 'tfidf__norm': 'l2', 'vect__max_df': 0.3, 'vect__max_features': 200000, 'vect__ngram_range': (1, 2)}\n",
      "mean: 0.905 std: (+/-0.005) for {'clf__C': 0.5, 'tfidf__norm': 'l2', 'vect__max_df': 0.35, 'vect__max_features': 100000, 'vect__ngram_range': (1, 2)}\n",
      "mean: 0.907 std: (+/-0.003) for {'clf__C': 0.5, 'tfidf__norm': 'l2', 'vect__max_df': 0.35, 'vect__max_features': 150000, 'vect__ngram_range': (1, 2)}\n",
      "mean: 0.907 std: (+/-0.003) for {'clf__C': 0.5, 'tfidf__norm': 'l2', 'vect__max_df': 0.35, 'vect__max_features': 200000, 'vect__ngram_range': (1, 2)}\n",
      "mean: 0.907 std: (+/-0.002) for {'clf__C': 0.55, 'tfidf__norm': 'l2', 'vect__max_df': 0.2, 'vect__max_features': 100000, 'vect__ngram_range': (1, 2)}\n",
      "mean: 0.908 std: (+/-0.002) for {'clf__C': 0.55, 'tfidf__norm': 'l2', 'vect__max_df': 0.2, 'vect__max_features': 150000, 'vect__ngram_range': (1, 2)}\n",
      "mean: 0.909 std: (+/-0.003) for {'clf__C': 0.55, 'tfidf__norm': 'l2', 'vect__max_df': 0.2, 'vect__max_features': 200000, 'vect__ngram_range': (1, 2)}\n",
      "mean: 0.907 std: (+/-0.003) for {'clf__C': 0.55, 'tfidf__norm': 'l2', 'vect__max_df': 0.25, 'vect__max_features': 100000, 'vect__ngram_range': (1, 2)}\n",
      "mean: 0.907 std: (+/-0.004) for {'clf__C': 0.55, 'tfidf__norm': 'l2', 'vect__max_df': 0.25, 'vect__max_features': 150000, 'vect__ngram_range': (1, 2)}\n",
      "mean: 0.908 std: (+/-0.004) for {'clf__C': 0.55, 'tfidf__norm': 'l2', 'vect__max_df': 0.25, 'vect__max_features': 200000, 'vect__ngram_range': (1, 2)}\n",
      "mean: 0.906 std: (+/-0.006) for {'clf__C': 0.55, 'tfidf__norm': 'l2', 'vect__max_df': 0.3, 'vect__max_features': 100000, 'vect__ngram_range': (1, 2)}\n",
      "mean: 0.907 std: (+/-0.005) for {'clf__C': 0.55, 'tfidf__norm': 'l2', 'vect__max_df': 0.3, 'vect__max_features': 150000, 'vect__ngram_range': (1, 2)}\n",
      "mean: 0.907 std: (+/-0.003) for {'clf__C': 0.55, 'tfidf__norm': 'l2', 'vect__max_df': 0.3, 'vect__max_features': 200000, 'vect__ngram_range': (1, 2)}\n",
      "mean: 0.905 std: (+/-0.005) for {'clf__C': 0.55, 'tfidf__norm': 'l2', 'vect__max_df': 0.35, 'vect__max_features': 100000, 'vect__ngram_range': (1, 2)}\n",
      "mean: 0.906 std: (+/-0.003) for {'clf__C': 0.55, 'tfidf__norm': 'l2', 'vect__max_df': 0.35, 'vect__max_features': 150000, 'vect__ngram_range': (1, 2)}\n",
      "mean: 0.907 std: (+/-0.003) for {'clf__C': 0.55, 'tfidf__norm': 'l2', 'vect__max_df': 0.35, 'vect__max_features': 200000, 'vect__ngram_range': (1, 2)}\n",
      "mean: 0.907 std: (+/-0.003) for {'clf__C': 0.6, 'tfidf__norm': 'l2', 'vect__max_df': 0.2, 'vect__max_features': 100000, 'vect__ngram_range': (1, 2)}\n",
      "mean: 0.908 std: (+/-0.002) for {'clf__C': 0.6, 'tfidf__norm': 'l2', 'vect__max_df': 0.2, 'vect__max_features': 150000, 'vect__ngram_range': (1, 2)}\n",
      "mean: 0.909 std: (+/-0.003) for {'clf__C': 0.6, 'tfidf__norm': 'l2', 'vect__max_df': 0.2, 'vect__max_features': 200000, 'vect__ngram_range': (1, 2)}\n",
      "mean: 0.907 std: (+/-0.003) for {'clf__C': 0.6, 'tfidf__norm': 'l2', 'vect__max_df': 0.25, 'vect__max_features': 100000, 'vect__ngram_range': (1, 2)}\n",
      "mean: 0.907 std: (+/-0.005) for {'clf__C': 0.6, 'tfidf__norm': 'l2', 'vect__max_df': 0.25, 'vect__max_features': 150000, 'vect__ngram_range': (1, 2)}\n",
      "mean: 0.908 std: (+/-0.004) for {'clf__C': 0.6, 'tfidf__norm': 'l2', 'vect__max_df': 0.25, 'vect__max_features': 200000, 'vect__ngram_range': (1, 2)}\n",
      "mean: 0.906 std: (+/-0.006) for {'clf__C': 0.6, 'tfidf__norm': 'l2', 'vect__max_df': 0.3, 'vect__max_features': 100000, 'vect__ngram_range': (1, 2)}\n",
      "mean: 0.907 std: (+/-0.005) for {'clf__C': 0.6, 'tfidf__norm': 'l2', 'vect__max_df': 0.3, 'vect__max_features': 150000, 'vect__ngram_range': (1, 2)}\n",
      "mean: 0.908 std: (+/-0.004) for {'clf__C': 0.6, 'tfidf__norm': 'l2', 'vect__max_df': 0.3, 'vect__max_features': 200000, 'vect__ngram_range': (1, 2)}\n",
      "mean: 0.905 std: (+/-0.005) for {'clf__C': 0.6, 'tfidf__norm': 'l2', 'vect__max_df': 0.35, 'vect__max_features': 100000, 'vect__ngram_range': (1, 2)}\n",
      "mean: 0.906 std: (+/-0.003) for {'clf__C': 0.6, 'tfidf__norm': 'l2', 'vect__max_df': 0.35, 'vect__max_features': 150000, 'vect__ngram_range': (1, 2)}\n",
      "mean: 0.907 std: (+/-0.002) for {'clf__C': 0.6, 'tfidf__norm': 'l2', 'vect__max_df': 0.35, 'vect__max_features': 200000, 'vect__ngram_range': (1, 2)}\n",
      "mean: 0.907 std: (+/-0.003) for {'clf__C': 0.65, 'tfidf__norm': 'l2', 'vect__max_df': 0.2, 'vect__max_features': 100000, 'vect__ngram_range': (1, 2)}\n",
      "mean: 0.908 std: (+/-0.003) for {'clf__C': 0.65, 'tfidf__norm': 'l2', 'vect__max_df': 0.2, 'vect__max_features': 150000, 'vect__ngram_range': (1, 2)}\n",
      "mean: 0.909 std: (+/-0.003) for {'clf__C': 0.65, 'tfidf__norm': 'l2', 'vect__max_df': 0.2, 'vect__max_features': 200000, 'vect__ngram_range': (1, 2)}\n",
      "mean: 0.907 std: (+/-0.003) for {'clf__C': 0.65, 'tfidf__norm': 'l2', 'vect__max_df': 0.25, 'vect__max_features': 100000, 'vect__ngram_range': (1, 2)}\n",
      "mean: 0.907 std: (+/-0.004) for {'clf__C': 0.65, 'tfidf__norm': 'l2', 'vect__max_df': 0.25, 'vect__max_features': 150000, 'vect__ngram_range': (1, 2)}\n",
      "mean: 0.908 std: (+/-0.004) for {'clf__C': 0.65, 'tfidf__norm': 'l2', 'vect__max_df': 0.25, 'vect__max_features': 200000, 'vect__ngram_range': (1, 2)}\n",
      "mean: 0.906 std: (+/-0.006) for {'clf__C': 0.65, 'tfidf__norm': 'l2', 'vect__max_df': 0.3, 'vect__max_features': 100000, 'vect__ngram_range': (1, 2)}\n",
      "mean: 0.907 std: (+/-0.006) for {'clf__C': 0.65, 'tfidf__norm': 'l2', 'vect__max_df': 0.3, 'vect__max_features': 150000, 'vect__ngram_range': (1, 2)}\n",
      "mean: 0.908 std: (+/-0.004) for {'clf__C': 0.65, 'tfidf__norm': 'l2', 'vect__max_df': 0.3, 'vect__max_features': 200000, 'vect__ngram_range': (1, 2)}\n",
      "mean: 0.905 std: (+/-0.005) for {'clf__C': 0.65, 'tfidf__norm': 'l2', 'vect__max_df': 0.35, 'vect__max_features': 100000, 'vect__ngram_range': (1, 2)}\n",
      "mean: 0.906 std: (+/-0.004) for {'clf__C': 0.65, 'tfidf__norm': 'l2', 'vect__max_df': 0.35, 'vect__max_features': 150000, 'vect__ngram_range': (1, 2)}\n",
      "mean: 0.907 std: (+/-0.003) for {'clf__C': 0.65, 'tfidf__norm': 'l2', 'vect__max_df': 0.35, 'vect__max_features': 200000, 'vect__ngram_range': (1, 2)}\n",
      "mean: 0.907 std: (+/-0.004) for {'clf__C': 0.7, 'tfidf__norm': 'l2', 'vect__max_df': 0.2, 'vect__max_features': 100000, 'vect__ngram_range': (1, 2)}\n",
      "mean: 0.908 std: (+/-0.002) for {'clf__C': 0.7, 'tfidf__norm': 'l2', 'vect__max_df': 0.2, 'vect__max_features': 150000, 'vect__ngram_range': (1, 2)}\n",
      "mean: 0.909 std: (+/-0.003) for {'clf__C': 0.7, 'tfidf__norm': 'l2', 'vect__max_df': 0.2, 'vect__max_features': 200000, 'vect__ngram_range': (1, 2)}\n",
      "mean: 0.907 std: (+/-0.003) for {'clf__C': 0.7, 'tfidf__norm': 'l2', 'vect__max_df': 0.25, 'vect__max_features': 100000, 'vect__ngram_range': (1, 2)}\n",
      "mean: 0.907 std: (+/-0.004) for {'clf__C': 0.7, 'tfidf__norm': 'l2', 'vect__max_df': 0.25, 'vect__max_features': 150000, 'vect__ngram_range': (1, 2)}\n",
      "mean: 0.908 std: (+/-0.004) for {'clf__C': 0.7, 'tfidf__norm': 'l2', 'vect__max_df': 0.25, 'vect__max_features': 200000, 'vect__ngram_range': (1, 2)}\n",
      "mean: 0.906 std: (+/-0.005) for {'clf__C': 0.7, 'tfidf__norm': 'l2', 'vect__max_df': 0.3, 'vect__max_features': 100000, 'vect__ngram_range': (1, 2)}\n",
      "mean: 0.907 std: (+/-0.006) for {'clf__C': 0.7, 'tfidf__norm': 'l2', 'vect__max_df': 0.3, 'vect__max_features': 150000, 'vect__ngram_range': (1, 2)}\n",
      "mean: 0.908 std: (+/-0.004) for {'clf__C': 0.7, 'tfidf__norm': 'l2', 'vect__max_df': 0.3, 'vect__max_features': 200000, 'vect__ngram_range': (1, 2)}\n",
      "mean: 0.905 std: (+/-0.005) for {'clf__C': 0.7, 'tfidf__norm': 'l2', 'vect__max_df': 0.35, 'vect__max_features': 100000, 'vect__ngram_range': (1, 2)}\n",
      "mean: 0.906 std: (+/-0.004) for {'clf__C': 0.7, 'tfidf__norm': 'l2', 'vect__max_df': 0.35, 'vect__max_features': 150000, 'vect__ngram_range': (1, 2)}\n",
      "mean: 0.907 std: (+/-0.003) for {'clf__C': 0.7, 'tfidf__norm': 'l2', 'vect__max_df': 0.35, 'vect__max_features': 200000, 'vect__ngram_range': (1, 2)}\n",
      "Best score:\n",
      "0.909 (+/-0.003)\n",
      "with parameters set:\n",
      "\tclf__C: 0.6\n",
      "\ttfidf__norm: 'l2'\n",
      "\tvect__max_df: 0.2\n",
      "\tvect__max_features: 200000\n",
      "\tvect__ngram_range: (1, 2)\n"
     ],
     "output_type": "stream"
    },
    {
     "name": "stderr",
     "text": [
      "[Parallel(n_jobs=-1)]: Using backend LokyBackend with 12 concurrent workers.\n",
      "[Parallel(n_jobs=-1)]: Done  48 tasks      | elapsed:  4.8min\n",
      "[Parallel(n_jobs=-1)]: Done 138 tasks      | elapsed: 12.8min\n",
      "[Parallel(n_jobs=-1)]: Done 264 tasks      | elapsed: 23.1min\n",
      "[Parallel(n_jobs=-1)]: Done 426 tasks      | elapsed: 35.8min\n",
      "[Parallel(n_jobs=-1)]: Done 540 out of 540 | elapsed: 44.8min finished\n"
     ],
     "output_type": "stream"
    }
   ],
   "source": [
    "params_trial_3_linear = { \n",
    "    'vect__max_features': (100000,150000,200000),\n",
    "    'vect__ngram_range': [(1, 2)],\n",
    "    'tfidf__norm': [('l2')],\n",
    "    'vect__max_df':(0.2,0.25,0.3,0.35),\n",
    "    'clf__C': (0.3,0.35,0.4,0.45,0.5,0.55,0.6,0.65,0.7),\n",
    "}\n",
    "#### TEST 1 looking at linear kernel function ####\n",
    "clf_linear.fit(params_trial_3_linear,5)\n"
   ],
   "metadata": {
    "collapsed": false,
    "pycharm": {
     "name": "#%%\n",
     "is_executing": false
    }
   }
  },
  {
   "cell_type": "code",
   "execution_count": 8,
   "outputs": [
    {
     "name": "stdout",
     "text": [
      "Finding most common params for the top 22 values\n",
      "[{0.6: 4, 0.35: 1, 0.55: 3, 0.4: 2, 0.7: 4, 0.65: 4, 0.5: 2, 0.45: 2}, {'l2': 22}, {0.3: 3, 0.2: 15, 0.25: 4}, {200000: 15, 150000: 7}, {(1, 2): 22}]\n",
      "Finding most common params for the top 11 values\n",
      "[{0.65: 3, 0.5: 1, 0.6: 2, 0.7: 2, 0.45: 1, 0.55: 2}, {'l2': 11}, {0.2: 9, 0.25: 2}, {150000: 3, 200000: 8}, {(1, 2): 11}]\n",
      "Finding most common params for the top 6 values\n",
      "[{0.45: 1, 0.55: 2, 0.7: 1, 0.6: 1, 0.65: 1}, {'l2': 6}, {0.2: 6}, {200000: 5, 150000: 1}, {(1, 2): 6}]\n"
     ],
     "output_type": "stream"
    }
   ],
   "source": [
    "clf_linear.eval_best_n_params(0.8)\n",
    "clf_linear.eval_best_n_params(0.9)\n",
    "clf_linear.eval_best_n_params(0.95)\n"
   ],
   "metadata": {
    "collapsed": false,
    "pycharm": {
     "name": "#%%\n",
     "is_executing": false
    }
   }
  },
  {
   "cell_type": "code",
   "execution_count": 10,
   "outputs": [
    {
     "name": "stdout",
     "text": [
      "Performing grid search...\n",
      "pipeline: ['vect', 'tfidf', 'clf']\n",
      "Fitting 5 folds for each of 36 candidates, totalling 180 fits\n",
      "done in 985.434s\n",
      "\n",
      "scores!\n",
      "mean: 0.908 std: (+/-0.005) for {'clf__C': 0.45, 'tfidf__norm': 'l2', 'vect__max_df': 0.1, 'vect__max_features': 200000, 'vect__ngram_range': (1, 2)}\n",
      "mean: 0.907 std: (+/-0.003) for {'clf__C': 0.45, 'tfidf__norm': 'l2', 'vect__max_df': 0.1, 'vect__max_features': None, 'vect__ngram_range': (1, 2)}\n",
      "mean: 0.908 std: (+/-0.004) for {'clf__C': 0.45, 'tfidf__norm': 'l2', 'vect__max_df': 0.15, 'vect__max_features': 200000, 'vect__ngram_range': (1, 2)}\n",
      "mean: 0.907 std: (+/-0.002) for {'clf__C': 0.45, 'tfidf__norm': 'l2', 'vect__max_df': 0.15, 'vect__max_features': None, 'vect__ngram_range': (1, 2)}\n",
      "mean: 0.908 std: (+/-0.003) for {'clf__C': 0.45, 'tfidf__norm': 'l2', 'vect__max_df': 0.2, 'vect__max_features': 200000, 'vect__ngram_range': (1, 2)}\n",
      "mean: 0.907 std: (+/-0.003) for {'clf__C': 0.45, 'tfidf__norm': 'l2', 'vect__max_df': 0.2, 'vect__max_features': None, 'vect__ngram_range': (1, 2)}\n",
      "mean: 0.908 std: (+/-0.005) for {'clf__C': 0.5, 'tfidf__norm': 'l2', 'vect__max_df': 0.1, 'vect__max_features': 200000, 'vect__ngram_range': (1, 2)}\n",
      "mean: 0.908 std: (+/-0.003) for {'clf__C': 0.5, 'tfidf__norm': 'l2', 'vect__max_df': 0.1, 'vect__max_features': None, 'vect__ngram_range': (1, 2)}\n",
      "mean: 0.908 std: (+/-0.004) for {'clf__C': 0.5, 'tfidf__norm': 'l2', 'vect__max_df': 0.15, 'vect__max_features': 200000, 'vect__ngram_range': (1, 2)}\n",
      "mean: 0.907 std: (+/-0.003) for {'clf__C': 0.5, 'tfidf__norm': 'l2', 'vect__max_df': 0.15, 'vect__max_features': None, 'vect__ngram_range': (1, 2)}\n",
      "mean: 0.908 std: (+/-0.003) for {'clf__C': 0.5, 'tfidf__norm': 'l2', 'vect__max_df': 0.2, 'vect__max_features': 200000, 'vect__ngram_range': (1, 2)}\n",
      "mean: 0.907 std: (+/-0.004) for {'clf__C': 0.5, 'tfidf__norm': 'l2', 'vect__max_df': 0.2, 'vect__max_features': None, 'vect__ngram_range': (1, 2)}\n",
      "mean: 0.909 std: (+/-0.005) for {'clf__C': 0.55, 'tfidf__norm': 'l2', 'vect__max_df': 0.1, 'vect__max_features': 200000, 'vect__ngram_range': (1, 2)}\n",
      "mean: 0.908 std: (+/-0.004) for {'clf__C': 0.55, 'tfidf__norm': 'l2', 'vect__max_df': 0.1, 'vect__max_features': None, 'vect__ngram_range': (1, 2)}\n",
      "mean: 0.908 std: (+/-0.003) for {'clf__C': 0.55, 'tfidf__norm': 'l2', 'vect__max_df': 0.15, 'vect__max_features': 200000, 'vect__ngram_range': (1, 2)}\n",
      "mean: 0.907 std: (+/-0.004) for {'clf__C': 0.55, 'tfidf__norm': 'l2', 'vect__max_df': 0.15, 'vect__max_features': None, 'vect__ngram_range': (1, 2)}\n",
      "mean: 0.909 std: (+/-0.003) for {'clf__C': 0.55, 'tfidf__norm': 'l2', 'vect__max_df': 0.2, 'vect__max_features': 200000, 'vect__ngram_range': (1, 2)}\n",
      "mean: 0.908 std: (+/-0.004) for {'clf__C': 0.55, 'tfidf__norm': 'l2', 'vect__max_df': 0.2, 'vect__max_features': None, 'vect__ngram_range': (1, 2)}\n",
      "mean: 0.908 std: (+/-0.004) for {'clf__C': 0.6, 'tfidf__norm': 'l2', 'vect__max_df': 0.1, 'vect__max_features': 200000, 'vect__ngram_range': (1, 2)}\n",
      "mean: 0.909 std: (+/-0.004) for {'clf__C': 0.6, 'tfidf__norm': 'l2', 'vect__max_df': 0.1, 'vect__max_features': None, 'vect__ngram_range': (1, 2)}\n",
      "mean: 0.907 std: (+/-0.003) for {'clf__C': 0.6, 'tfidf__norm': 'l2', 'vect__max_df': 0.15, 'vect__max_features': 200000, 'vect__ngram_range': (1, 2)}\n",
      "mean: 0.907 std: (+/-0.004) for {'clf__C': 0.6, 'tfidf__norm': 'l2', 'vect__max_df': 0.15, 'vect__max_features': None, 'vect__ngram_range': (1, 2)}\n",
      "mean: 0.909 std: (+/-0.003) for {'clf__C': 0.6, 'tfidf__norm': 'l2', 'vect__max_df': 0.2, 'vect__max_features': 200000, 'vect__ngram_range': (1, 2)}\n",
      "mean: 0.908 std: (+/-0.003) for {'clf__C': 0.6, 'tfidf__norm': 'l2', 'vect__max_df': 0.2, 'vect__max_features': None, 'vect__ngram_range': (1, 2)}\n",
      "mean: 0.908 std: (+/-0.004) for {'clf__C': 0.65, 'tfidf__norm': 'l2', 'vect__max_df': 0.1, 'vect__max_features': 200000, 'vect__ngram_range': (1, 2)}\n",
      "mean: 0.909 std: (+/-0.004) for {'clf__C': 0.65, 'tfidf__norm': 'l2', 'vect__max_df': 0.1, 'vect__max_features': None, 'vect__ngram_range': (1, 2)}\n",
      "mean: 0.907 std: (+/-0.004) for {'clf__C': 0.65, 'tfidf__norm': 'l2', 'vect__max_df': 0.15, 'vect__max_features': 200000, 'vect__ngram_range': (1, 2)}\n",
      "mean: 0.908 std: (+/-0.004) for {'clf__C': 0.65, 'tfidf__norm': 'l2', 'vect__max_df': 0.15, 'vect__max_features': None, 'vect__ngram_range': (1, 2)}\n",
      "mean: 0.909 std: (+/-0.003) for {'clf__C': 0.65, 'tfidf__norm': 'l2', 'vect__max_df': 0.2, 'vect__max_features': 200000, 'vect__ngram_range': (1, 2)}\n",
      "mean: 0.908 std: (+/-0.004) for {'clf__C': 0.65, 'tfidf__norm': 'l2', 'vect__max_df': 0.2, 'vect__max_features': None, 'vect__ngram_range': (1, 2)}\n",
      "mean: 0.908 std: (+/-0.004) for {'clf__C': 0.7, 'tfidf__norm': 'l2', 'vect__max_df': 0.1, 'vect__max_features': 200000, 'vect__ngram_range': (1, 2)}\n",
      "mean: 0.909 std: (+/-0.004) for {'clf__C': 0.7, 'tfidf__norm': 'l2', 'vect__max_df': 0.1, 'vect__max_features': None, 'vect__ngram_range': (1, 2)}\n",
      "mean: 0.908 std: (+/-0.004) for {'clf__C': 0.7, 'tfidf__norm': 'l2', 'vect__max_df': 0.15, 'vect__max_features': 200000, 'vect__ngram_range': (1, 2)}\n",
      "mean: 0.908 std: (+/-0.004) for {'clf__C': 0.7, 'tfidf__norm': 'l2', 'vect__max_df': 0.15, 'vect__max_features': None, 'vect__ngram_range': (1, 2)}\n",
      "mean: 0.909 std: (+/-0.003) for {'clf__C': 0.7, 'tfidf__norm': 'l2', 'vect__max_df': 0.2, 'vect__max_features': 200000, 'vect__ngram_range': (1, 2)}\n",
      "mean: 0.908 std: (+/-0.004) for {'clf__C': 0.7, 'tfidf__norm': 'l2', 'vect__max_df': 0.2, 'vect__max_features': None, 'vect__ngram_range': (1, 2)}\n",
      "Best score:\n",
      "0.909 (+/-0.004)\n",
      "with parameters set:\n",
      "\tclf__C: 0.7\n",
      "\ttfidf__norm: 'l2'\n",
      "\tvect__max_df: 0.1\n",
      "\tvect__max_features: None\n",
      "\tvect__ngram_range: (1, 2)\n"
     ],
     "output_type": "stream"
    },
    {
     "name": "stderr",
     "text": [
      "[Parallel(n_jobs=-1)]: Using backend LokyBackend with 12 concurrent workers.\n",
      "[Parallel(n_jobs=-1)]: Done  48 tasks      | elapsed:  4.0min\n",
      "[Parallel(n_jobs=-1)]: Done 138 tasks      | elapsed: 12.1min\n",
      "[Parallel(n_jobs=-1)]: Done 180 out of 180 | elapsed: 16.0min finished\n"
     ],
     "output_type": "stream"
    }
   ],
   "source": [
    "params_trial_4_linear = { \n",
    "    'vect__max_features': (200000,None),\n",
    "    'vect__ngram_range': [(1, 2)],\n",
    "    'tfidf__norm': [('l2')],\n",
    "    'vect__max_df':(0.1,0.15,0.2),\n",
    "    'clf__C': (0.45,0.5,0.55,0.6,0.65,0.7),\n",
    "}\n",
    "#### TEST 1 looking at linear kernel function ####\n",
    "clf_linear.fit(params_trial_4_linear,5)"
   ],
   "metadata": {
    "collapsed": false,
    "pycharm": {
     "name": "#%%\n",
     "is_executing": false
    }
   }
  },
  {
   "cell_type": "code",
   "execution_count": 11,
   "outputs": [
    {
     "name": "stdout",
     "text": [
      "Finding most common params for the top 8 values\n",
      "[{0.55: 2, 0.6: 2, 0.7: 2, 0.65: 2}, {'l2': 8}, {0.1: 4, 0.2: 4}, {200000: 5, None: 3}, {(1, 2): 8}]\n",
      "Finding most common params for the top 4 values\n",
      "[{0.6: 1, 0.65: 2, 0.7: 1}, {'l2': 4}, {0.2: 2, 0.1: 2}, {200000: 2, None: 2}, {(1, 2): 4}]\n",
      "Finding most common params for the top 2 values\n",
      "[{0.65: 1, 0.7: 1}, {'l2': 2}, {0.1: 2}, {None: 2}, {(1, 2): 2}]\n"
     ],
     "output_type": "stream"
    }
   ],
   "source": [
    "clf_linear.eval_best_n_params(0.8)\n",
    "clf_linear.eval_best_n_params(0.9)\n",
    "clf_linear.eval_best_n_params(0.95)"
   ],
   "metadata": {
    "collapsed": false,
    "pycharm": {
     "name": "#%%\n",
     "is_executing": false
    }
   }
  },
  {
   "cell_type": "code",
   "execution_count": 12,
   "outputs": [
    {
     "name": "stdout",
     "text": [
      "Evaluation on test set:\n",
      "\n",
      "Accuracy Score : 0.90424\n",
      "Precision Score : 0.90424\n",
      "Recall Score : 0.90424\n",
      "F1 Score : 0.9042400000000002\n",
      "Confusion Matrix\n",
      "[[11288  1213]\n",
      " [ 1181 11318]]\n"
     ],
     "output_type": "stream"
    },
    {
     "data": {
      "text/plain": "<Figure size 432x288 with 2 Axes>",
      "image/png": "[encoded data removed]"
     },
     "metadata": {
      "needs_background": "light"
     },
     "output_type": "display_data"
    },
    {
     "data": {
      "text/plain": "<Figure size 432x288 with 1 Axes>",
      "image/png": "[encoded data removed]"
     },
     "metadata": {
      "needs_background": "light"
     },
     "output_type": "display_data"
    }
   ],
   "source": [
    "clf_linear.eval_on_test([],True)\n",
    "clf_linear.learning_curve([0.1,0.2,0.3,0.4,0.5,0.6,0.7,0.8,0.9,1.0])"
   ],
   "metadata": {
    "collapsed": false,
    "pycharm": {
     "name": "#%%\n",
     "is_executing": false
    }
   }
  }
 ],
 "metadata": {
  "kernelspec": {
   "display_name": "Python 3",
   "language": "python",
   "name": "python3"
  },
  "language_info": {
   "codemirror_mode": {
    "name": "ipython",
    "version": 2
   },
   "file_extension": ".py",
   "mimetype": "text/x-python",
   "name": "python",
   "nbconvert_exporter": "python",
   "pygments_lexer": "ipython2",
   "version": "2.7.6"
  },
  "pycharm": {
   "stem_cell": {
    "cell_type": "raw",
    "source": [],
    "metadata": {
     "collapsed": false
    }
   }
  }
 },
 "nbformat": 4,
 "nbformat_minor": 0
}