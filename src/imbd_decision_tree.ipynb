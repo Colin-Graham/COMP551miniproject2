{
 "cells": [
  {
   "cell_type": "code",
   "execution_count": null,
   "outputs": [],
   "source": [
    "from model import Classifier\n",
    "from sklearn.tree import DecisionTreeClassifier"
   ],
   "metadata": {
    "collapsed": false,
    "pycharm": {
     "name": "#%%\n"
    }
   }
  },
  {
   "cell_type": "code",
   "execution_count": null,
   "outputs": [],
   "source": [
    "clf = Classifier(1, DecisionTreeClassifier())"
   ],
   "metadata": {
    "collapsed": false,
    "pycharm": {
     "name": "#%%\n"
    }
   }
  },
  {
   "cell_type": "code",
   "execution_count": null,
   "outputs": [],
   "source": [
    "params_trial_1 = {\n",
    "                'vect__max_features': (1000, 10000),\n",
    "                'vect__ngram_range': ([(1, 1)]),\n",
    "                'tfidf__norm': (['l2']),\n",
    "                'clf__criterion': (['gini']), \n",
    "                'clf__max_depth': (200, 500),\n",
    "                'clf__min_samples_split': (0.01, 2)                \n",
    "        }\n",
    "\n",
    "clf.fit(params_trial_1,5)"
   ],
   "metadata": {
    "collapsed": false,
    "pycharm": {
     "name": "#%%\n"
    }
   }
  },
  {
   "cell_type": "code",
   "execution_count": null,
   "outputs": [],
   "source": [
    "params_trial_2 = {\n",
    "                'vect__max_features': (10000, 12000),\n",
    "                'vect__ngram_range': ([(1, 1)]),\n",
    "                'tfidf__norm': ('l1','l2',None),\n",
    "                'clf__criterion': ('gini', 'entropy'), \n",
    "                'clf__max_depth': (100, 200),\n",
    "                'clf__min_samples_split': (0.001, 0.01)                \n",
    "        }\n",
    "\n",
    "clf.fit(params_trial_2,5)"
   ],
   "metadata": {
    "collapsed": false,
    "pycharm": {
     "name": "#%%\n"
    }
   }
  },
  {
   "cell_type": "code",
   "execution_count": null,
   "outputs": [],
   "source": [
    "params_trial_final = {\n",
    "                'vect__max_features': ([10000]),\n",
    "                'vect__ngram_range': ([(1, 1)]),\n",
    "                'tfidf__norm': ([None]),\n",
    "                'clf__criterion': (['gini']), \n",
    "                'clf__max_depth': ([200]),\n",
    "                'clf__min_samples_split': ([0.01])                \n",
    "        }\n",
    "\n",
    "clf.fit(params_trial_final,5)"
   ],
   "metadata": {
    "collapsed": false,
    "pycharm": {
     "name": "#%%\n"
    }
   }
  },
  {
   "cell_type": "code",
   "execution_count": null,
   "outputs": [],
   "source": [
    "clf.eval_on_test([],False)\n",
    "clf.learning_curve([0.1,0.2,0.3,0.4,0.5,0.6,0.7,0.8,0.9,1.0])"
   ],
   "metadata": {
    "collapsed": false,
    "pycharm": {
     "name": "#%%\n"
    }
   }
  },
  {
   "cell_type": "code",
   "execution_count": null,
   "outputs": [],
   "source": [],
   "metadata": {
    "collapsed": false,
    "pycharm": {
     "name": "#%%\n"
    }
   }
  }
 ],
 "metadata": {
  "kernelspec": {
   "display_name": "Python 3",
   "language": "python",
   "name": "python3"
  },
  "language_info": {
   "codemirror_mode": {
    "name": "ipython",
    "version": 2
   },
   "file_extension": ".py",
   "mimetype": "text/x-python",
   "name": "python",
   "nbconvert_exporter": "python",
   "pygments_lexer": "ipython2",
   "version": "2.7.6"
  },
  "pycharm": {
   "stem_cell": {
    "cell_type": "raw",
    "source": [],
    "metadata": {
     "collapsed": false
    }
   }
  }
 },
 "nbformat": 4,
 "nbformat_minor": 0
}