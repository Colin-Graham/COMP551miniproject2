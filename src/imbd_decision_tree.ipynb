{
 "cells": [
  {
   "cell_type": "code",
<<<<<<< HEAD
   "execution_count": null,
=======
   "execution_count": 1,
   "metadata": {},
>>>>>>> mehdi_branch
   "outputs": [],
   "source": [
    "from model import Classifier\n",
    "from sklearn.tree import DecisionTreeClassifier"
<<<<<<< HEAD
   ],
   "metadata": {
    "collapsed": false,
    "pycharm": {
     "name": "#%%\n"
    }
   }
  },
  {
   "cell_type": "code",
   "execution_count": null,
   "outputs": [],
   "source": [
    "clf = Classifier(1, DecisionTreeClassifier())"
   ],
   "metadata": {
    "collapsed": false,
    "pycharm": {
     "name": "#%%\n"
    }
   }
  },
  {
   "cell_type": "code",
   "execution_count": null,
   "outputs": [],
=======
   ]
  },
  {
   "cell_type": "code",
   "execution_count": 2,
   "metadata": {},
   "outputs": [],
   "source": [
    "clf = Classifier(1, DecisionTreeClassifier())"
   ]
  },
  {
   "cell_type": "code",
   "execution_count": 5,
   "metadata": {},
   "outputs": [
    {
     "name": "stdout",
     "output_type": "stream",
     "text": [
      "Performing grid search...\n",
      "pipeline: ['vect', 'tfidf', 'clf']\n",
      "Fitting 5 folds for each of 8 candidates, totalling 40 fits\n"
     ]
    },
    {
     "name": "stderr",
     "output_type": "stream",
     "text": [
      "[Parallel(n_jobs=-1)]: Using backend LokyBackend with 8 concurrent workers.\n",
      "[Parallel(n_jobs=-1)]: Done   2 tasks      | elapsed:    8.5s\n",
      "[Parallel(n_jobs=-1)]: Done  34 out of  40 | elapsed:   51.0s remaining:    9.0s\n",
      "[Parallel(n_jobs=-1)]: Done  40 out of  40 | elapsed:   56.9s finished\n"
     ]
    },
    {
     "name": "stdout",
     "output_type": "stream",
     "text": [
      "done in 63.406s\n",
      "\n",
      "scores!\n",
      "mean: 0.395 std: (+/-0.020) for {'clf__criterion': 'gini', 'clf__max_depth': 200, 'clf__min_samples_split': 0.01, 'tfidf__norm': 'l2', 'vect__max_features': 1000, 'vect__ngram_range': (1, 1)}\n",
      "mean: 0.452 std: (+/-0.028) for {'clf__criterion': 'gini', 'clf__max_depth': 200, 'clf__min_samples_split': 0.01, 'tfidf__norm': 'l2', 'vect__max_features': 10000, 'vect__ngram_range': (1, 1)}\n",
      "mean: 0.368 std: (+/-0.011) for {'clf__criterion': 'gini', 'clf__max_depth': 200, 'clf__min_samples_split': 2, 'tfidf__norm': 'l2', 'vect__max_features': 1000, 'vect__ngram_range': (1, 1)}\n",
      "mean: 0.426 std: (+/-0.030) for {'clf__criterion': 'gini', 'clf__max_depth': 200, 'clf__min_samples_split': 2, 'tfidf__norm': 'l2', 'vect__max_features': 10000, 'vect__ngram_range': (1, 1)}\n",
      "mean: 0.397 std: (+/-0.019) for {'clf__criterion': 'gini', 'clf__max_depth': 500, 'clf__min_samples_split': 0.01, 'tfidf__norm': 'l2', 'vect__max_features': 1000, 'vect__ngram_range': (1, 1)}\n",
      "mean: 0.451 std: (+/-0.025) for {'clf__criterion': 'gini', 'clf__max_depth': 500, 'clf__min_samples_split': 0.01, 'tfidf__norm': 'l2', 'vect__max_features': 10000, 'vect__ngram_range': (1, 1)}\n",
      "mean: 0.367 std: (+/-0.011) for {'clf__criterion': 'gini', 'clf__max_depth': 500, 'clf__min_samples_split': 2, 'tfidf__norm': 'l2', 'vect__max_features': 1000, 'vect__ngram_range': (1, 1)}\n",
      "mean: 0.431 std: (+/-0.029) for {'clf__criterion': 'gini', 'clf__max_depth': 500, 'clf__min_samples_split': 2, 'tfidf__norm': 'l2', 'vect__max_features': 10000, 'vect__ngram_range': (1, 1)}\n",
      "Best score:\n",
      "0.452 (+/-0.029)\n",
      "with parameters set:\n",
      "\tclf__criterion: 'gini'\n",
      "\tclf__max_depth: 200\n",
      "\tclf__min_samples_split: 0.01\n",
      "\ttfidf__norm: 'l2'\n",
      "\tvect__max_features: 10000\n",
      "\tvect__ngram_range: (1, 1)\n"
     ]
    }
   ],
>>>>>>> mehdi_branch
   "source": [
    "params_trial_1 = {\n",
    "                'vect__max_features': (1000, 10000),\n",
    "                'vect__ngram_range': ([(1, 1)]),\n",
    "                'tfidf__norm': (['l2']),\n",
    "                'clf__criterion': (['gini']), \n",
    "                'clf__max_depth': (200, 500),\n",
    "                'clf__min_samples_split': (0.01, 2)                \n",
    "        }\n",
    "\n",
    "clf.fit(params_trial_1,5)"
<<<<<<< HEAD
   ],
   "metadata": {
    "collapsed": false,
    "pycharm": {
     "name": "#%%\n"
    }
   }
  },
  {
   "cell_type": "code",
   "execution_count": null,
   "outputs": [],
=======
   ]
  },
  {
   "cell_type": "code",
   "execution_count": 7,
   "metadata": {},
   "outputs": [
    {
     "name": "stdout",
     "output_type": "stream",
     "text": [
      "Performing grid search...\n",
      "pipeline: ['vect', 'tfidf', 'clf']\n",
      "Fitting 5 folds for each of 48 candidates, totalling 240 fits\n"
     ]
    },
    {
     "name": "stderr",
     "output_type": "stream",
     "text": [
      "[Parallel(n_jobs=-1)]: Using backend LokyBackend with 8 concurrent workers.\n",
      "[Parallel(n_jobs=-1)]: Done   2 tasks      | elapsed:   11.7s\n",
      "[Parallel(n_jobs=-1)]: Done  56 tasks      | elapsed:  1.3min\n",
      "[Parallel(n_jobs=-1)]: Done 146 tasks      | elapsed:  3.9min\n",
      "[Parallel(n_jobs=-1)]: Done 240 out of 240 | elapsed:  7.3min finished\n"
     ]
    },
    {
     "name": "stdout",
     "output_type": "stream",
     "text": [
      "done in 444.807s\n",
      "\n",
      "scores!\n",
      "mean: 0.420 std: (+/-0.024) for {'clf__criterion': 'gini', 'clf__max_depth': 100, 'clf__min_samples_split': 0.001, 'tfidf__norm': 'l1', 'vect__max_features': 10000, 'vect__ngram_range': (1, 1)}\n",
      "mean: 0.421 std: (+/-0.028) for {'clf__criterion': 'gini', 'clf__max_depth': 100, 'clf__min_samples_split': 0.001, 'tfidf__norm': 'l1', 'vect__max_features': 12000, 'vect__ngram_range': (1, 1)}\n",
      "mean: 0.415 std: (+/-0.033) for {'clf__criterion': 'gini', 'clf__max_depth': 100, 'clf__min_samples_split': 0.001, 'tfidf__norm': 'l2', 'vect__max_features': 10000, 'vect__ngram_range': (1, 1)}\n",
      "mean: 0.417 std: (+/-0.034) for {'clf__criterion': 'gini', 'clf__max_depth': 100, 'clf__min_samples_split': 0.001, 'tfidf__norm': 'l2', 'vect__max_features': 12000, 'vect__ngram_range': (1, 1)}\n",
      "mean: 0.424 std: (+/-0.029) for {'clf__criterion': 'gini', 'clf__max_depth': 100, 'clf__min_samples_split': 0.001, 'tfidf__norm': None, 'vect__max_features': 10000, 'vect__ngram_range': (1, 1)}\n",
      "mean: 0.425 std: (+/-0.028) for {'clf__criterion': 'gini', 'clf__max_depth': 100, 'clf__min_samples_split': 0.001, 'tfidf__norm': None, 'vect__max_features': 12000, 'vect__ngram_range': (1, 1)}\n",
      "mean: 0.437 std: (+/-0.033) for {'clf__criterion': 'gini', 'clf__max_depth': 100, 'clf__min_samples_split': 0.01, 'tfidf__norm': 'l1', 'vect__max_features': 10000, 'vect__ngram_range': (1, 1)}\n",
      "mean: 0.440 std: (+/-0.027) for {'clf__criterion': 'gini', 'clf__max_depth': 100, 'clf__min_samples_split': 0.01, 'tfidf__norm': 'l1', 'vect__max_features': 12000, 'vect__ngram_range': (1, 1)}\n",
      "mean: 0.437 std: (+/-0.030) for {'clf__criterion': 'gini', 'clf__max_depth': 100, 'clf__min_samples_split': 0.01, 'tfidf__norm': 'l2', 'vect__max_features': 10000, 'vect__ngram_range': (1, 1)}\n",
      "mean: 0.435 std: (+/-0.030) for {'clf__criterion': 'gini', 'clf__max_depth': 100, 'clf__min_samples_split': 0.01, 'tfidf__norm': 'l2', 'vect__max_features': 12000, 'vect__ngram_range': (1, 1)}\n",
      "mean: 0.441 std: (+/-0.030) for {'clf__criterion': 'gini', 'clf__max_depth': 100, 'clf__min_samples_split': 0.01, 'tfidf__norm': None, 'vect__max_features': 10000, 'vect__ngram_range': (1, 1)}\n",
      "mean: 0.441 std: (+/-0.031) for {'clf__criterion': 'gini', 'clf__max_depth': 100, 'clf__min_samples_split': 0.01, 'tfidf__norm': None, 'vect__max_features': 12000, 'vect__ngram_range': (1, 1)}\n",
      "mean: 0.436 std: (+/-0.033) for {'clf__criterion': 'gini', 'clf__max_depth': 200, 'clf__min_samples_split': 0.001, 'tfidf__norm': 'l1', 'vect__max_features': 10000, 'vect__ngram_range': (1, 1)}\n",
      "mean: 0.433 std: (+/-0.026) for {'clf__criterion': 'gini', 'clf__max_depth': 200, 'clf__min_samples_split': 0.001, 'tfidf__norm': 'l1', 'vect__max_features': 12000, 'vect__ngram_range': (1, 1)}\n",
      "mean: 0.426 std: (+/-0.029) for {'clf__criterion': 'gini', 'clf__max_depth': 200, 'clf__min_samples_split': 0.001, 'tfidf__norm': 'l2', 'vect__max_features': 10000, 'vect__ngram_range': (1, 1)}\n",
      "mean: 0.429 std: (+/-0.034) for {'clf__criterion': 'gini', 'clf__max_depth': 200, 'clf__min_samples_split': 0.001, 'tfidf__norm': 'l2', 'vect__max_features': 12000, 'vect__ngram_range': (1, 1)}\n",
      "mean: 0.444 std: (+/-0.022) for {'clf__criterion': 'gini', 'clf__max_depth': 200, 'clf__min_samples_split': 0.001, 'tfidf__norm': None, 'vect__max_features': 10000, 'vect__ngram_range': (1, 1)}\n",
      "mean: 0.444 std: (+/-0.026) for {'clf__criterion': 'gini', 'clf__max_depth': 200, 'clf__min_samples_split': 0.001, 'tfidf__norm': None, 'vect__max_features': 12000, 'vect__ngram_range': (1, 1)}\n",
      "mean: 0.455 std: (+/-0.030) for {'clf__criterion': 'gini', 'clf__max_depth': 200, 'clf__min_samples_split': 0.01, 'tfidf__norm': 'l1', 'vect__max_features': 10000, 'vect__ngram_range': (1, 1)}\n",
      "mean: 0.455 std: (+/-0.022) for {'clf__criterion': 'gini', 'clf__max_depth': 200, 'clf__min_samples_split': 0.01, 'tfidf__norm': 'l1', 'vect__max_features': 12000, 'vect__ngram_range': (1, 1)}\n",
      "mean: 0.451 std: (+/-0.029) for {'clf__criterion': 'gini', 'clf__max_depth': 200, 'clf__min_samples_split': 0.01, 'tfidf__norm': 'l2', 'vect__max_features': 10000, 'vect__ngram_range': (1, 1)}\n",
      "mean: 0.450 std: (+/-0.041) for {'clf__criterion': 'gini', 'clf__max_depth': 200, 'clf__min_samples_split': 0.01, 'tfidf__norm': 'l2', 'vect__max_features': 12000, 'vect__ngram_range': (1, 1)}\n",
      "mean: 0.465 std: (+/-0.036) for {'clf__criterion': 'gini', 'clf__max_depth': 200, 'clf__min_samples_split': 0.01, 'tfidf__norm': None, 'vect__max_features': 10000, 'vect__ngram_range': (1, 1)}\n",
      "mean: 0.464 std: (+/-0.029) for {'clf__criterion': 'gini', 'clf__max_depth': 200, 'clf__min_samples_split': 0.01, 'tfidf__norm': None, 'vect__max_features': 12000, 'vect__ngram_range': (1, 1)}\n",
      "mean: 0.295 std: (+/-0.015) for {'clf__criterion': 'entropy', 'clf__max_depth': 100, 'clf__min_samples_split': 0.001, 'tfidf__norm': 'l1', 'vect__max_features': 10000, 'vect__ngram_range': (1, 1)}\n",
      "mean: 0.298 std: (+/-0.017) for {'clf__criterion': 'entropy', 'clf__max_depth': 100, 'clf__min_samples_split': 0.001, 'tfidf__norm': 'l1', 'vect__max_features': 12000, 'vect__ngram_range': (1, 1)}\n",
      "mean: 0.294 std: (+/-0.012) for {'clf__criterion': 'entropy', 'clf__max_depth': 100, 'clf__min_samples_split': 0.001, 'tfidf__norm': 'l2', 'vect__max_features': 10000, 'vect__ngram_range': (1, 1)}\n",
      "mean: 0.295 std: (+/-0.019) for {'clf__criterion': 'entropy', 'clf__max_depth': 100, 'clf__min_samples_split': 0.001, 'tfidf__norm': 'l2', 'vect__max_features': 12000, 'vect__ngram_range': (1, 1)}\n",
      "mean: 0.302 std: (+/-0.020) for {'clf__criterion': 'entropy', 'clf__max_depth': 100, 'clf__min_samples_split': 0.001, 'tfidf__norm': None, 'vect__max_features': 10000, 'vect__ngram_range': (1, 1)}\n",
      "mean: 0.302 std: (+/-0.023) for {'clf__criterion': 'entropy', 'clf__max_depth': 100, 'clf__min_samples_split': 0.001, 'tfidf__norm': None, 'vect__max_features': 12000, 'vect__ngram_range': (1, 1)}\n",
      "mean: 0.325 std: (+/-0.022) for {'clf__criterion': 'entropy', 'clf__max_depth': 100, 'clf__min_samples_split': 0.01, 'tfidf__norm': 'l1', 'vect__max_features': 10000, 'vect__ngram_range': (1, 1)}\n",
      "mean: 0.330 std: (+/-0.013) for {'clf__criterion': 'entropy', 'clf__max_depth': 100, 'clf__min_samples_split': 0.01, 'tfidf__norm': 'l1', 'vect__max_features': 12000, 'vect__ngram_range': (1, 1)}\n",
      "mean: 0.325 std: (+/-0.024) for {'clf__criterion': 'entropy', 'clf__max_depth': 100, 'clf__min_samples_split': 0.01, 'tfidf__norm': 'l2', 'vect__max_features': 10000, 'vect__ngram_range': (1, 1)}\n",
      "mean: 0.323 std: (+/-0.027) for {'clf__criterion': 'entropy', 'clf__max_depth': 100, 'clf__min_samples_split': 0.01, 'tfidf__norm': 'l2', 'vect__max_features': 12000, 'vect__ngram_range': (1, 1)}\n",
      "mean: 0.329 std: (+/-0.022) for {'clf__criterion': 'entropy', 'clf__max_depth': 100, 'clf__min_samples_split': 0.01, 'tfidf__norm': None, 'vect__max_features': 10000, 'vect__ngram_range': (1, 1)}\n",
      "mean: 0.328 std: (+/-0.022) for {'clf__criterion': 'entropy', 'clf__max_depth': 100, 'clf__min_samples_split': 0.01, 'tfidf__norm': None, 'vect__max_features': 12000, 'vect__ngram_range': (1, 1)}\n",
      "mean: 0.295 std: (+/-0.014) for {'clf__criterion': 'entropy', 'clf__max_depth': 200, 'clf__min_samples_split': 0.001, 'tfidf__norm': 'l1', 'vect__max_features': 10000, 'vect__ngram_range': (1, 1)}\n",
      "mean: 0.299 std: (+/-0.017) for {'clf__criterion': 'entropy', 'clf__max_depth': 200, 'clf__min_samples_split': 0.001, 'tfidf__norm': 'l1', 'vect__max_features': 12000, 'vect__ngram_range': (1, 1)}\n",
      "mean: 0.294 std: (+/-0.014) for {'clf__criterion': 'entropy', 'clf__max_depth': 200, 'clf__min_samples_split': 0.001, 'tfidf__norm': 'l2', 'vect__max_features': 10000, 'vect__ngram_range': (1, 1)}\n",
      "mean: 0.296 std: (+/-0.021) for {'clf__criterion': 'entropy', 'clf__max_depth': 200, 'clf__min_samples_split': 0.001, 'tfidf__norm': 'l2', 'vect__max_features': 12000, 'vect__ngram_range': (1, 1)}\n",
      "mean: 0.300 std: (+/-0.021) for {'clf__criterion': 'entropy', 'clf__max_depth': 200, 'clf__min_samples_split': 0.001, 'tfidf__norm': None, 'vect__max_features': 10000, 'vect__ngram_range': (1, 1)}\n",
      "mean: 0.301 std: (+/-0.028) for {'clf__criterion': 'entropy', 'clf__max_depth': 200, 'clf__min_samples_split': 0.001, 'tfidf__norm': None, 'vect__max_features': 12000, 'vect__ngram_range': (1, 1)}\n",
      "mean: 0.325 std: (+/-0.021) for {'clf__criterion': 'entropy', 'clf__max_depth': 200, 'clf__min_samples_split': 0.01, 'tfidf__norm': 'l1', 'vect__max_features': 10000, 'vect__ngram_range': (1, 1)}\n",
      "mean: 0.331 std: (+/-0.014) for {'clf__criterion': 'entropy', 'clf__max_depth': 200, 'clf__min_samples_split': 0.01, 'tfidf__norm': 'l1', 'vect__max_features': 12000, 'vect__ngram_range': (1, 1)}\n",
      "mean: 0.325 std: (+/-0.024) for {'clf__criterion': 'entropy', 'clf__max_depth': 200, 'clf__min_samples_split': 0.01, 'tfidf__norm': 'l2', 'vect__max_features': 10000, 'vect__ngram_range': (1, 1)}\n",
      "mean: 0.322 std: (+/-0.025) for {'clf__criterion': 'entropy', 'clf__max_depth': 200, 'clf__min_samples_split': 0.01, 'tfidf__norm': 'l2', 'vect__max_features': 12000, 'vect__ngram_range': (1, 1)}\n",
      "mean: 0.329 std: (+/-0.021) for {'clf__criterion': 'entropy', 'clf__max_depth': 200, 'clf__min_samples_split': 0.01, 'tfidf__norm': None, 'vect__max_features': 10000, 'vect__ngram_range': (1, 1)}\n",
      "mean: 0.330 std: (+/-0.024) for {'clf__criterion': 'entropy', 'clf__max_depth': 200, 'clf__min_samples_split': 0.01, 'tfidf__norm': None, 'vect__max_features': 12000, 'vect__ngram_range': (1, 1)}\n",
      "Best score:\n",
      "0.465 (+/-0.024)\n",
      "with parameters set:\n",
      "\tclf__criterion: 'gini'\n",
      "\tclf__max_depth: 200\n",
      "\tclf__min_samples_split: 0.01\n",
      "\ttfidf__norm: None\n",
      "\tvect__max_features: 10000\n",
      "\tvect__ngram_range: (1, 1)\n"
     ]
    }
   ],
>>>>>>> mehdi_branch
   "source": [
    "params_trial_2 = {\n",
    "                'vect__max_features': (10000, 12000),\n",
    "                'vect__ngram_range': ([(1, 1)]),\n",
    "                'tfidf__norm': ('l1','l2',None),\n",
    "                'clf__criterion': ('gini', 'entropy'), \n",
    "                'clf__max_depth': (100, 200),\n",
    "                'clf__min_samples_split': (0.001, 0.01)                \n",
    "        }\n",
    "\n",
    "clf.fit(params_trial_2,5)"
<<<<<<< HEAD
   ],
   "metadata": {
    "collapsed": false,
    "pycharm": {
     "name": "#%%\n"
    }
   }
  },
  {
   "cell_type": "code",
   "execution_count": null,
   "outputs": [],
=======
   ]
  },
  {
   "cell_type": "code",
   "execution_count": 11,
   "metadata": {},
   "outputs": [
    {
     "name": "stdout",
     "output_type": "stream",
     "text": [
      "Performing grid search...\n",
      "pipeline: ['vect', 'tfidf', 'clf']\n",
      "Fitting 5 folds for each of 1 candidates, totalling 5 fits\n"
     ]
    },
    {
     "name": "stderr",
     "output_type": "stream",
     "text": [
      "[Parallel(n_jobs=-1)]: Using backend LokyBackend with 8 concurrent workers.\n",
      "[Parallel(n_jobs=-1)]: Done   2 out of   5 | elapsed:    5.6s remaining:    8.5s\n",
      "[Parallel(n_jobs=-1)]: Done   5 out of   5 | elapsed:    7.4s finished\n"
     ]
    },
    {
     "name": "stdout",
     "output_type": "stream",
     "text": [
      "done in 11.951s\n",
      "\n",
      "scores!\n",
      "mean: 0.463 std: (+/-0.031) for {'clf__criterion': 'gini', 'clf__max_depth': 200, 'clf__min_samples_split': 0.01, 'tfidf__norm': None, 'vect__max_features': 10000, 'vect__ngram_range': (1, 1)}\n",
      "Best score:\n",
      "0.463 (+/-0.031)\n",
      "with parameters set:\n",
      "\tclf__criterion: 'gini'\n",
      "\tclf__max_depth: 200\n",
      "\tclf__min_samples_split: 0.01\n",
      "\ttfidf__norm: None\n",
      "\tvect__max_features: 10000\n",
      "\tvect__ngram_range: (1, 1)\n"
     ]
    }
   ],
>>>>>>> mehdi_branch
   "source": [
    "params_trial_final = {\n",
    "                'vect__max_features': ([10000]),\n",
    "                'vect__ngram_range': ([(1, 1)]),\n",
    "                'tfidf__norm': ([None]),\n",
    "                'clf__criterion': (['gini']), \n",
    "                'clf__max_depth': ([200]),\n",
    "                'clf__min_samples_split': ([0.01])                \n",
    "        }\n",
    "\n",
    "clf.fit(params_trial_final,5)"
<<<<<<< HEAD
   ],
   "metadata": {
    "collapsed": false,
    "pycharm": {
     "name": "#%%\n"
    }
   }
  },
  {
   "cell_type": "code",
   "execution_count": null,
   "outputs": [],
   "source": [
    "clf.eval_on_test([],False)\n",
    "clf.learning_curve([0.1,0.2,0.3,0.4,0.5,0.6,0.7,0.8,0.9,1.0])"
   ],
   "metadata": {
    "collapsed": false,
    "pycharm": {
     "name": "#%%\n"
    }
   }
=======
   ]
  },
  {
   "cell_type": "code",
   "execution_count": 12,
   "metadata": {},
   "outputs": [
    {
     "name": "stdout",
     "output_type": "stream",
     "text": [
      "Evaluation on test set:\n",
      "\n",
      "Accuracy Score : 0.43228890069038767\n",
      "Precision Score : 0.43228890069038767\n",
      "Recall Score : 0.43228890069038767\n",
      "F1 Score : 0.43228890069038767\n",
      "Confusion Matrix\n",
      "[[ 78   9   0   2   2   6   4   7  48   8   4   5  11  18  13  68  14   1\n",
      "   14   7]\n",
      " [  2 189  23  23  17  36   5   7  44   3   2   7  13   5   8   0   1   1\n",
      "    2   1]\n",
      " [  3  46 162  39  19  28   5   7  55   3   1   1   6   7   5   1   2   0\n",
      "    4   0]\n",
      " [  2  30  32 149  48  21   7   4  34   3   2   5  29   8   8   1   2   0\n",
      "    7   0]\n",
      " [  3  22   5  38 164  12  21   5  57   2   4   6  25   8   4   3   1   0\n",
      "    5   0]\n",
      " [  5  54  29  22  19 186   5   3  34   0   0   6   8   6   6   1   5   1\n",
      "    3   2]\n",
      " [  1  16   5  26  22   6 221  14  46   3   4   2  11   3   4   3   1   0\n",
      "    0   2]\n",
      " [  6   9   4  10  15  13  15 159  93   2   4   7  24  10   4   0  10   1\n",
      "    6   4]\n",
      " [  5   5   2   3  13   4   8  12 282   9   0   7  11  15   4   6   5   0\n",
      "    6   1]\n",
      " [  7   9   1   1   4   7   5   4  59 186  71   2   5  14   6   5   2   0\n",
      "    5   4]\n",
      " [  4   2   1   2   3   4   3   7  42  58 248   2   3   9   1   4   1   0\n",
      "    3   2]\n",
      " [  6  20   1   6  12   8   7   6  63   2   0 183  13  11   3   3  35   2\n",
      "   15   0]\n",
      " [  3  32   4  28  29  14  17  17  58   2   4  25 107  20  13   3   4   0\n",
      "    8   5]\n",
      " [ 20  19   2  15   6  18   5  13  82   5   0   5  12 149   7  11   5   1\n",
      "   19   2]\n",
      " [ 17   9   5   5   7   4   9  12  73   5   5   6  18  16 173   3   5   0\n",
      "   19   3]\n",
      " [ 31  10   2   6   1   3   2   5  47   7   1   2   5  18   4 225   3   6\n",
      "    8  12]\n",
      " [ 18  10   4   2   1   6   6  18  55   8   2   4   8  16  10  13 146   1\n",
      "   34   2]\n",
      " [ 29   2   1   1   1   2   1   8  42  10   1   2   7  15   8  16  28 177\n",
      "   22   3]\n",
      " [ 17   8   6   3   6   6   3  16  44   6   3   4   4  37  10   6  58   0\n",
      "   66   7]\n",
      " [ 40   0   2   1   2   5   2   8  39   5   2   3   6  17   6  78  22   1\n",
      "    6   6]]\n"
     ]
    },
    {
     "data": {
      "image/png": "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\n",
      "text/plain": [
       "<Figure size 432x288 with 2 Axes>"
      ]
     },
     "metadata": {
      "needs_background": "light"
     },
     "output_type": "display_data"
    },
    {
     "data": {
      "image/png": "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\n",
      "text/plain": [
       "<Figure size 432x288 with 1 Axes>"
      ]
     },
     "metadata": {
      "needs_background": "light"
     },
     "output_type": "display_data"
    }
   ],
   "source": [
    "clf.eval_on_test([],False)\n",
    "clf.learning_curve([0.1,0.2,0.3,0.4,0.5,0.6,0.7,0.8,0.9,1.0])"
   ]
>>>>>>> mehdi_branch
  },
  {
   "cell_type": "code",
   "execution_count": null,
<<<<<<< HEAD
   "outputs": [],
   "source": [],
   "metadata": {
    "collapsed": false,
    "pycharm": {
     "name": "#%%\n"
    }
   }
=======
   "metadata": {},
   "outputs": [],
   "source": []
>>>>>>> mehdi_branch
  }
 ],
 "metadata": {
  "kernelspec": {
   "display_name": "Python 3",
   "language": "python",
   "name": "python3"
  },
  "language_info": {
   "codemirror_mode": {
    "name": "ipython",
<<<<<<< HEAD
    "version": 2
=======
    "version": 3
>>>>>>> mehdi_branch
   },
   "file_extension": ".py",
   "mimetype": "text/x-python",
   "name": "python",
   "nbconvert_exporter": "python",
<<<<<<< HEAD
   "pygments_lexer": "ipython2",
   "version": "2.7.6"
  },
  "pycharm": {
   "stem_cell": {
    "cell_type": "raw",
    "source": [],
    "metadata": {
     "collapsed": false
    }
   }
  }
 },
 "nbformat": 4,
 "nbformat_minor": 0
}
=======
   "pygments_lexer": "ipython3",
   "version": "3.6.9"
  }
 },
 "nbformat": 4,
 "nbformat_minor": 2
}
>>>>>>> mehdi_branch
