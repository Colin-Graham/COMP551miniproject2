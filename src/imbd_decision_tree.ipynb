{
 "cells": [
  {
   "cell_type": "code",
   "execution_count": 1,
   "metadata": {},
   "outputs": [],
   "source": [
    "from model import Classifier\n",
    "from sklearn.tree import DecisionTreeClassifier"
   ]
  },
  {
   "cell_type": "code",
   "execution_count": 2,
   "metadata": {},
   "outputs": [],
   "source": [
    "clf = Classifier(0, DecisionTreeClassifier())"
   ]
  },
  {
   "cell_type": "code",
   "execution_count": 3,
   "metadata": {},
   "outputs": [],
   "source": [
    "#stop word sets specified for this data set\n",
    "path = \"../data/stop_words_imbd/\"\n",
    "with open(path+\"stop_words_no_nums.txt\", 'r') as content_file:\n",
    "        content = content_file.read().replace(\" \",\"\").replace(\"\\n\",\"\").split(\",\")\n",
    "        stop_words_no_nums = frozenset(content)\n",
    "with open(path+\"stop_words_with_nums.txt\", 'r') as content_file:\n",
    "        content = content_file.read().replace(\" \",\"\").replace(\"\\n\",\"\").split(\",\")\n",
    "        stop_words_with_nums = frozenset(content)\n",
    "        "
   ]
  },
  {
   "cell_type": "code",
   "execution_count": 4,
   "metadata": {},
   "outputs": [
    {
     "name": "stdout",
     "output_type": "stream",
     "text": [
      "Performing grid search...\n",
      "pipeline: ['vect', 'tfidf', 'clf']\n",
      "Fitting 5 folds for each of 96 candidates, totalling 480 fits\n"
     ]
    },
    {
     "name": "stderr",
     "output_type": "stream",
     "text": [
      "[Parallel(n_jobs=-1)]: Using backend LokyBackend with 8 concurrent workers.\n",
      "[Parallel(n_jobs=-1)]: Done   2 tasks      | elapsed:   32.0s\n",
      "[Parallel(n_jobs=-1)]: Done  56 tasks      | elapsed:  3.7min\n",
      "[Parallel(n_jobs=-1)]: Done 146 tasks      | elapsed:  9.3min\n",
      "[Parallel(n_jobs=-1)]: Done 272 tasks      | elapsed: 16.5min\n",
      "[Parallel(n_jobs=-1)]: Done 434 tasks      | elapsed: 26.3min\n",
      "[Parallel(n_jobs=-1)]: Done 480 out of 480 | elapsed: 28.7min finished\n"
     ]
    },
    {
     "name": "stdout",
     "output_type": "stream",
     "text": [
      "done in 1735.402s\n",
      "\n",
      "scores!\n",
      "mean: 0.734 std: (+/-0.011) for {'clf__ccp_alpha': 0.001, 'clf__criterion': 'gini', 'clf__max_depth': 1000, 'clf__min_samples_leaf': 1, 'clf__min_samples_split': 0.01, 'clf__splitter': 'best', 'tfidf__norm': 'l2', 'vect__max_features': 10000, 'vect__ngram_range': (1, 1), 'vect__stop_words': 0}\n",
      "mean: 0.734 std: (+/-0.013) for {'clf__ccp_alpha': 0.001, 'clf__criterion': 'gini', 'clf__max_depth': 1000, 'clf__min_samples_leaf': 1, 'clf__min_samples_split': 0.01, 'clf__splitter': 'best', 'tfidf__norm': 'l2', 'vect__max_features': 10000, 'vect__ngram_range': (1, 1), 'vect__stop_words': 1}\n",
      "mean: 0.734 std: (+/-0.011) for {'clf__ccp_alpha': 0.001, 'clf__criterion': 'gini', 'clf__max_depth': 1000, 'clf__min_samples_leaf': 1, 'clf__min_samples_split': 0.01, 'clf__splitter': 'best', 'tfidf__norm': 'l2', 'vect__max_features': 15000, 'vect__ngram_range': (1, 1), 'vect__stop_words': 0}\n",
      "mean: 0.733 std: (+/-0.013) for {'clf__ccp_alpha': 0.001, 'clf__criterion': 'gini', 'clf__max_depth': 1000, 'clf__min_samples_leaf': 1, 'clf__min_samples_split': 0.01, 'clf__splitter': 'best', 'tfidf__norm': 'l2', 'vect__max_features': 15000, 'vect__ngram_range': (1, 1), 'vect__stop_words': 1}\n",
      "mean: 0.735 std: (+/-0.011) for {'clf__ccp_alpha': 0.001, 'clf__criterion': 'gini', 'clf__max_depth': 1000, 'clf__min_samples_leaf': 1, 'clf__min_samples_split': 0.01, 'clf__splitter': 'random', 'tfidf__norm': 'l2', 'vect__max_features': 10000, 'vect__ngram_range': (1, 1), 'vect__stop_words': 0}\n",
      "mean: 0.730 std: (+/-0.009) for {'clf__ccp_alpha': 0.001, 'clf__criterion': 'gini', 'clf__max_depth': 1000, 'clf__min_samples_leaf': 1, 'clf__min_samples_split': 0.01, 'clf__splitter': 'random', 'tfidf__norm': 'l2', 'vect__max_features': 10000, 'vect__ngram_range': (1, 1), 'vect__stop_words': 1}\n",
      "mean: 0.735 std: (+/-0.022) for {'clf__ccp_alpha': 0.001, 'clf__criterion': 'gini', 'clf__max_depth': 1000, 'clf__min_samples_leaf': 1, 'clf__min_samples_split': 0.01, 'clf__splitter': 'random', 'tfidf__norm': 'l2', 'vect__max_features': 15000, 'vect__ngram_range': (1, 1), 'vect__stop_words': 0}\n",
      "mean: 0.731 std: (+/-0.030) for {'clf__ccp_alpha': 0.001, 'clf__criterion': 'gini', 'clf__max_depth': 1000, 'clf__min_samples_leaf': 1, 'clf__min_samples_split': 0.01, 'clf__splitter': 'random', 'tfidf__norm': 'l2', 'vect__max_features': 15000, 'vect__ngram_range': (1, 1), 'vect__stop_words': 1}\n",
      "mean: 0.734 std: (+/-0.011) for {'clf__ccp_alpha': 0.001, 'clf__criterion': 'gini', 'clf__max_depth': 1000, 'clf__min_samples_leaf': 2, 'clf__min_samples_split': 0.01, 'clf__splitter': 'best', 'tfidf__norm': 'l2', 'vect__max_features': 10000, 'vect__ngram_range': (1, 1), 'vect__stop_words': 0}\n",
      "mean: 0.734 std: (+/-0.013) for {'clf__ccp_alpha': 0.001, 'clf__criterion': 'gini', 'clf__max_depth': 1000, 'clf__min_samples_leaf': 2, 'clf__min_samples_split': 0.01, 'clf__splitter': 'best', 'tfidf__norm': 'l2', 'vect__max_features': 10000, 'vect__ngram_range': (1, 1), 'vect__stop_words': 1}\n",
      "mean: 0.734 std: (+/-0.011) for {'clf__ccp_alpha': 0.001, 'clf__criterion': 'gini', 'clf__max_depth': 1000, 'clf__min_samples_leaf': 2, 'clf__min_samples_split': 0.01, 'clf__splitter': 'best', 'tfidf__norm': 'l2', 'vect__max_features': 15000, 'vect__ngram_range': (1, 1), 'vect__stop_words': 0}\n",
      "mean: 0.733 std: (+/-0.013) for {'clf__ccp_alpha': 0.001, 'clf__criterion': 'gini', 'clf__max_depth': 1000, 'clf__min_samples_leaf': 2, 'clf__min_samples_split': 0.01, 'clf__splitter': 'best', 'tfidf__norm': 'l2', 'vect__max_features': 15000, 'vect__ngram_range': (1, 1), 'vect__stop_words': 1}\n",
      "mean: 0.733 std: (+/-0.012) for {'clf__ccp_alpha': 0.001, 'clf__criterion': 'gini', 'clf__max_depth': 1000, 'clf__min_samples_leaf': 2, 'clf__min_samples_split': 0.01, 'clf__splitter': 'random', 'tfidf__norm': 'l2', 'vect__max_features': 10000, 'vect__ngram_range': (1, 1), 'vect__stop_words': 0}\n",
      "mean: 0.738 std: (+/-0.009) for {'clf__ccp_alpha': 0.001, 'clf__criterion': 'gini', 'clf__max_depth': 1000, 'clf__min_samples_leaf': 2, 'clf__min_samples_split': 0.01, 'clf__splitter': 'random', 'tfidf__norm': 'l2', 'vect__max_features': 10000, 'vect__ngram_range': (1, 1), 'vect__stop_words': 1}\n",
      "mean: 0.736 std: (+/-0.013) for {'clf__ccp_alpha': 0.001, 'clf__criterion': 'gini', 'clf__max_depth': 1000, 'clf__min_samples_leaf': 2, 'clf__min_samples_split': 0.01, 'clf__splitter': 'random', 'tfidf__norm': 'l2', 'vect__max_features': 15000, 'vect__ngram_range': (1, 1), 'vect__stop_words': 0}\n",
      "mean: 0.734 std: (+/-0.023) for {'clf__ccp_alpha': 0.001, 'clf__criterion': 'gini', 'clf__max_depth': 1000, 'clf__min_samples_leaf': 2, 'clf__min_samples_split': 0.01, 'clf__splitter': 'random', 'tfidf__norm': 'l2', 'vect__max_features': 15000, 'vect__ngram_range': (1, 1), 'vect__stop_words': 1}\n",
      "mean: 0.734 std: (+/-0.011) for {'clf__ccp_alpha': 0.001, 'clf__criterion': 'gini', 'clf__max_depth': 1000, 'clf__min_samples_leaf': 5, 'clf__min_samples_split': 0.01, 'clf__splitter': 'best', 'tfidf__norm': 'l2', 'vect__max_features': 10000, 'vect__ngram_range': (1, 1), 'vect__stop_words': 0}\n",
      "mean: 0.734 std: (+/-0.013) for {'clf__ccp_alpha': 0.001, 'clf__criterion': 'gini', 'clf__max_depth': 1000, 'clf__min_samples_leaf': 5, 'clf__min_samples_split': 0.01, 'clf__splitter': 'best', 'tfidf__norm': 'l2', 'vect__max_features': 10000, 'vect__ngram_range': (1, 1), 'vect__stop_words': 1}\n",
      "mean: 0.734 std: (+/-0.011) for {'clf__ccp_alpha': 0.001, 'clf__criterion': 'gini', 'clf__max_depth': 1000, 'clf__min_samples_leaf': 5, 'clf__min_samples_split': 0.01, 'clf__splitter': 'best', 'tfidf__norm': 'l2', 'vect__max_features': 15000, 'vect__ngram_range': (1, 1), 'vect__stop_words': 0}\n",
      "mean: 0.733 std: (+/-0.013) for {'clf__ccp_alpha': 0.001, 'clf__criterion': 'gini', 'clf__max_depth': 1000, 'clf__min_samples_leaf': 5, 'clf__min_samples_split': 0.01, 'clf__splitter': 'best', 'tfidf__norm': 'l2', 'vect__max_features': 15000, 'vect__ngram_range': (1, 1), 'vect__stop_words': 1}\n",
      "mean: 0.737 std: (+/-0.017) for {'clf__ccp_alpha': 0.001, 'clf__criterion': 'gini', 'clf__max_depth': 1000, 'clf__min_samples_leaf': 5, 'clf__min_samples_split': 0.01, 'clf__splitter': 'random', 'tfidf__norm': 'l2', 'vect__max_features': 10000, 'vect__ngram_range': (1, 1), 'vect__stop_words': 0}\n",
      "mean: 0.724 std: (+/-0.011) for {'clf__ccp_alpha': 0.001, 'clf__criterion': 'gini', 'clf__max_depth': 1000, 'clf__min_samples_leaf': 5, 'clf__min_samples_split': 0.01, 'clf__splitter': 'random', 'tfidf__norm': 'l2', 'vect__max_features': 10000, 'vect__ngram_range': (1, 1), 'vect__stop_words': 1}\n",
      "mean: 0.737 std: (+/-0.021) for {'clf__ccp_alpha': 0.001, 'clf__criterion': 'gini', 'clf__max_depth': 1000, 'clf__min_samples_leaf': 5, 'clf__min_samples_split': 0.01, 'clf__splitter': 'random', 'tfidf__norm': 'l2', 'vect__max_features': 15000, 'vect__ngram_range': (1, 1), 'vect__stop_words': 0}\n",
      "mean: 0.734 std: (+/-0.019) for {'clf__ccp_alpha': 0.001, 'clf__criterion': 'gini', 'clf__max_depth': 1000, 'clf__min_samples_leaf': 5, 'clf__min_samples_split': 0.01, 'clf__splitter': 'random', 'tfidf__norm': 'l2', 'vect__max_features': 15000, 'vect__ngram_range': (1, 1), 'vect__stop_words': 1}\n",
      "mean: 0.734 std: (+/-0.011) for {'clf__ccp_alpha': 0.001, 'clf__criterion': 'gini', 'clf__max_depth': 10000, 'clf__min_samples_leaf': 1, 'clf__min_samples_split': 0.01, 'clf__splitter': 'best', 'tfidf__norm': 'l2', 'vect__max_features': 10000, 'vect__ngram_range': (1, 1), 'vect__stop_words': 0}\n",
      "mean: 0.734 std: (+/-0.013) for {'clf__ccp_alpha': 0.001, 'clf__criterion': 'gini', 'clf__max_depth': 10000, 'clf__min_samples_leaf': 1, 'clf__min_samples_split': 0.01, 'clf__splitter': 'best', 'tfidf__norm': 'l2', 'vect__max_features': 10000, 'vect__ngram_range': (1, 1), 'vect__stop_words': 1}\n",
      "mean: 0.734 std: (+/-0.011) for {'clf__ccp_alpha': 0.001, 'clf__criterion': 'gini', 'clf__max_depth': 10000, 'clf__min_samples_leaf': 1, 'clf__min_samples_split': 0.01, 'clf__splitter': 'best', 'tfidf__norm': 'l2', 'vect__max_features': 15000, 'vect__ngram_range': (1, 1), 'vect__stop_words': 0}\n",
      "mean: 0.733 std: (+/-0.013) for {'clf__ccp_alpha': 0.001, 'clf__criterion': 'gini', 'clf__max_depth': 10000, 'clf__min_samples_leaf': 1, 'clf__min_samples_split': 0.01, 'clf__splitter': 'best', 'tfidf__norm': 'l2', 'vect__max_features': 15000, 'vect__ngram_range': (1, 1), 'vect__stop_words': 1}\n",
      "mean: 0.725 std: (+/-0.017) for {'clf__ccp_alpha': 0.001, 'clf__criterion': 'gini', 'clf__max_depth': 10000, 'clf__min_samples_leaf': 1, 'clf__min_samples_split': 0.01, 'clf__splitter': 'random', 'tfidf__norm': 'l2', 'vect__max_features': 10000, 'vect__ngram_range': (1, 1), 'vect__stop_words': 0}\n",
      "mean: 0.737 std: (+/-0.011) for {'clf__ccp_alpha': 0.001, 'clf__criterion': 'gini', 'clf__max_depth': 10000, 'clf__min_samples_leaf': 1, 'clf__min_samples_split': 0.01, 'clf__splitter': 'random', 'tfidf__norm': 'l2', 'vect__max_features': 10000, 'vect__ngram_range': (1, 1), 'vect__stop_words': 1}\n",
      "mean: 0.733 std: (+/-0.018) for {'clf__ccp_alpha': 0.001, 'clf__criterion': 'gini', 'clf__max_depth': 10000, 'clf__min_samples_leaf': 1, 'clf__min_samples_split': 0.01, 'clf__splitter': 'random', 'tfidf__norm': 'l2', 'vect__max_features': 15000, 'vect__ngram_range': (1, 1), 'vect__stop_words': 0}\n",
      "mean: 0.736 std: (+/-0.015) for {'clf__ccp_alpha': 0.001, 'clf__criterion': 'gini', 'clf__max_depth': 10000, 'clf__min_samples_leaf': 1, 'clf__min_samples_split': 0.01, 'clf__splitter': 'random', 'tfidf__norm': 'l2', 'vect__max_features': 15000, 'vect__ngram_range': (1, 1), 'vect__stop_words': 1}\n",
      "mean: 0.734 std: (+/-0.011) for {'clf__ccp_alpha': 0.001, 'clf__criterion': 'gini', 'clf__max_depth': 10000, 'clf__min_samples_leaf': 2, 'clf__min_samples_split': 0.01, 'clf__splitter': 'best', 'tfidf__norm': 'l2', 'vect__max_features': 10000, 'vect__ngram_range': (1, 1), 'vect__stop_words': 0}\n",
      "mean: 0.734 std: (+/-0.013) for {'clf__ccp_alpha': 0.001, 'clf__criterion': 'gini', 'clf__max_depth': 10000, 'clf__min_samples_leaf': 2, 'clf__min_samples_split': 0.01, 'clf__splitter': 'best', 'tfidf__norm': 'l2', 'vect__max_features': 10000, 'vect__ngram_range': (1, 1), 'vect__stop_words': 1}\n",
      "mean: 0.734 std: (+/-0.011) for {'clf__ccp_alpha': 0.001, 'clf__criterion': 'gini', 'clf__max_depth': 10000, 'clf__min_samples_leaf': 2, 'clf__min_samples_split': 0.01, 'clf__splitter': 'best', 'tfidf__norm': 'l2', 'vect__max_features': 15000, 'vect__ngram_range': (1, 1), 'vect__stop_words': 0}\n",
      "mean: 0.733 std: (+/-0.013) for {'clf__ccp_alpha': 0.001, 'clf__criterion': 'gini', 'clf__max_depth': 10000, 'clf__min_samples_leaf': 2, 'clf__min_samples_split': 0.01, 'clf__splitter': 'best', 'tfidf__norm': 'l2', 'vect__max_features': 15000, 'vect__ngram_range': (1, 1), 'vect__stop_words': 1}\n",
      "mean: 0.733 std: (+/-0.009) for {'clf__ccp_alpha': 0.001, 'clf__criterion': 'gini', 'clf__max_depth': 10000, 'clf__min_samples_leaf': 2, 'clf__min_samples_split': 0.01, 'clf__splitter': 'random', 'tfidf__norm': 'l2', 'vect__max_features': 10000, 'vect__ngram_range': (1, 1), 'vect__stop_words': 0}\n",
      "mean: 0.734 std: (+/-0.016) for {'clf__ccp_alpha': 0.001, 'clf__criterion': 'gini', 'clf__max_depth': 10000, 'clf__min_samples_leaf': 2, 'clf__min_samples_split': 0.01, 'clf__splitter': 'random', 'tfidf__norm': 'l2', 'vect__max_features': 10000, 'vect__ngram_range': (1, 1), 'vect__stop_words': 1}\n",
      "mean: 0.737 std: (+/-0.011) for {'clf__ccp_alpha': 0.001, 'clf__criterion': 'gini', 'clf__max_depth': 10000, 'clf__min_samples_leaf': 2, 'clf__min_samples_split': 0.01, 'clf__splitter': 'random', 'tfidf__norm': 'l2', 'vect__max_features': 15000, 'vect__ngram_range': (1, 1), 'vect__stop_words': 0}\n",
      "mean: 0.735 std: (+/-0.010) for {'clf__ccp_alpha': 0.001, 'clf__criterion': 'gini', 'clf__max_depth': 10000, 'clf__min_samples_leaf': 2, 'clf__min_samples_split': 0.01, 'clf__splitter': 'random', 'tfidf__norm': 'l2', 'vect__max_features': 15000, 'vect__ngram_range': (1, 1), 'vect__stop_words': 1}\n",
      "mean: 0.734 std: (+/-0.011) for {'clf__ccp_alpha': 0.001, 'clf__criterion': 'gini', 'clf__max_depth': 10000, 'clf__min_samples_leaf': 5, 'clf__min_samples_split': 0.01, 'clf__splitter': 'best', 'tfidf__norm': 'l2', 'vect__max_features': 10000, 'vect__ngram_range': (1, 1), 'vect__stop_words': 0}\n",
      "mean: 0.734 std: (+/-0.013) for {'clf__ccp_alpha': 0.001, 'clf__criterion': 'gini', 'clf__max_depth': 10000, 'clf__min_samples_leaf': 5, 'clf__min_samples_split': 0.01, 'clf__splitter': 'best', 'tfidf__norm': 'l2', 'vect__max_features': 10000, 'vect__ngram_range': (1, 1), 'vect__stop_words': 1}\n",
      "mean: 0.734 std: (+/-0.011) for {'clf__ccp_alpha': 0.001, 'clf__criterion': 'gini', 'clf__max_depth': 10000, 'clf__min_samples_leaf': 5, 'clf__min_samples_split': 0.01, 'clf__splitter': 'best', 'tfidf__norm': 'l2', 'vect__max_features': 15000, 'vect__ngram_range': (1, 1), 'vect__stop_words': 0}\n",
      "mean: 0.733 std: (+/-0.013) for {'clf__ccp_alpha': 0.001, 'clf__criterion': 'gini', 'clf__max_depth': 10000, 'clf__min_samples_leaf': 5, 'clf__min_samples_split': 0.01, 'clf__splitter': 'best', 'tfidf__norm': 'l2', 'vect__max_features': 15000, 'vect__ngram_range': (1, 1), 'vect__stop_words': 1}\n",
      "mean: 0.730 std: (+/-0.013) for {'clf__ccp_alpha': 0.001, 'clf__criterion': 'gini', 'clf__max_depth': 10000, 'clf__min_samples_leaf': 5, 'clf__min_samples_split': 0.01, 'clf__splitter': 'random', 'tfidf__norm': 'l2', 'vect__max_features': 10000, 'vect__ngram_range': (1, 1), 'vect__stop_words': 0}\n",
      "mean: 0.734 std: (+/-0.009) for {'clf__ccp_alpha': 0.001, 'clf__criterion': 'gini', 'clf__max_depth': 10000, 'clf__min_samples_leaf': 5, 'clf__min_samples_split': 0.01, 'clf__splitter': 'random', 'tfidf__norm': 'l2', 'vect__max_features': 10000, 'vect__ngram_range': (1, 1), 'vect__stop_words': 1}\n",
      "mean: 0.735 std: (+/-0.013) for {'clf__ccp_alpha': 0.001, 'clf__criterion': 'gini', 'clf__max_depth': 10000, 'clf__min_samples_leaf': 5, 'clf__min_samples_split': 0.01, 'clf__splitter': 'random', 'tfidf__norm': 'l2', 'vect__max_features': 15000, 'vect__ngram_range': (1, 1), 'vect__stop_words': 0}\n",
      "mean: 0.732 std: (+/-0.009) for {'clf__ccp_alpha': 0.001, 'clf__criterion': 'gini', 'clf__max_depth': 10000, 'clf__min_samples_leaf': 5, 'clf__min_samples_split': 0.01, 'clf__splitter': 'random', 'tfidf__norm': 'l2', 'vect__max_features': 15000, 'vect__ngram_range': (1, 1), 'vect__stop_words': 1}\n",
      "mean: 0.719 std: (+/-0.005) for {'clf__ccp_alpha': 0.0001, 'clf__criterion': 'gini', 'clf__max_depth': 1000, 'clf__min_samples_leaf': 1, 'clf__min_samples_split': 0.01, 'clf__splitter': 'best', 'tfidf__norm': 'l2', 'vect__max_features': 10000, 'vect__ngram_range': (1, 1), 'vect__stop_words': 0}\n",
      "mean: 0.721 std: (+/-0.013) for {'clf__ccp_alpha': 0.0001, 'clf__criterion': 'gini', 'clf__max_depth': 1000, 'clf__min_samples_leaf': 1, 'clf__min_samples_split': 0.01, 'clf__splitter': 'best', 'tfidf__norm': 'l2', 'vect__max_features': 10000, 'vect__ngram_range': (1, 1), 'vect__stop_words': 1}\n",
      "mean: 0.720 std: (+/-0.009) for {'clf__ccp_alpha': 0.0001, 'clf__criterion': 'gini', 'clf__max_depth': 1000, 'clf__min_samples_leaf': 1, 'clf__min_samples_split': 0.01, 'clf__splitter': 'best', 'tfidf__norm': 'l2', 'vect__max_features': 15000, 'vect__ngram_range': (1, 1), 'vect__stop_words': 0}\n",
      "mean: 0.720 std: (+/-0.009) for {'clf__ccp_alpha': 0.0001, 'clf__criterion': 'gini', 'clf__max_depth': 1000, 'clf__min_samples_leaf': 1, 'clf__min_samples_split': 0.01, 'clf__splitter': 'best', 'tfidf__norm': 'l2', 'vect__max_features': 15000, 'vect__ngram_range': (1, 1), 'vect__stop_words': 1}\n",
      "mean: 0.729 std: (+/-0.006) for {'clf__ccp_alpha': 0.0001, 'clf__criterion': 'gini', 'clf__max_depth': 1000, 'clf__min_samples_leaf': 1, 'clf__min_samples_split': 0.01, 'clf__splitter': 'random', 'tfidf__norm': 'l2', 'vect__max_features': 10000, 'vect__ngram_range': (1, 1), 'vect__stop_words': 0}\n",
      "mean: 0.727 std: (+/-0.009) for {'clf__ccp_alpha': 0.0001, 'clf__criterion': 'gini', 'clf__max_depth': 1000, 'clf__min_samples_leaf': 1, 'clf__min_samples_split': 0.01, 'clf__splitter': 'random', 'tfidf__norm': 'l2', 'vect__max_features': 10000, 'vect__ngram_range': (1, 1), 'vect__stop_words': 1}\n",
      "mean: 0.727 std: (+/-0.007) for {'clf__ccp_alpha': 0.0001, 'clf__criterion': 'gini', 'clf__max_depth': 1000, 'clf__min_samples_leaf': 1, 'clf__min_samples_split': 0.01, 'clf__splitter': 'random', 'tfidf__norm': 'l2', 'vect__max_features': 15000, 'vect__ngram_range': (1, 1), 'vect__stop_words': 0}\n",
      "mean: 0.726 std: (+/-0.010) for {'clf__ccp_alpha': 0.0001, 'clf__criterion': 'gini', 'clf__max_depth': 1000, 'clf__min_samples_leaf': 1, 'clf__min_samples_split': 0.01, 'clf__splitter': 'random', 'tfidf__norm': 'l2', 'vect__max_features': 15000, 'vect__ngram_range': (1, 1), 'vect__stop_words': 1}\n",
      "mean: 0.718 std: (+/-0.005) for {'clf__ccp_alpha': 0.0001, 'clf__criterion': 'gini', 'clf__max_depth': 1000, 'clf__min_samples_leaf': 2, 'clf__min_samples_split': 0.01, 'clf__splitter': 'best', 'tfidf__norm': 'l2', 'vect__max_features': 10000, 'vect__ngram_range': (1, 1), 'vect__stop_words': 0}\n",
      "mean: 0.719 std: (+/-0.014) for {'clf__ccp_alpha': 0.0001, 'clf__criterion': 'gini', 'clf__max_depth': 1000, 'clf__min_samples_leaf': 2, 'clf__min_samples_split': 0.01, 'clf__splitter': 'best', 'tfidf__norm': 'l2', 'vect__max_features': 10000, 'vect__ngram_range': (1, 1), 'vect__stop_words': 1}\n",
      "mean: 0.723 std: (+/-0.006) for {'clf__ccp_alpha': 0.0001, 'clf__criterion': 'gini', 'clf__max_depth': 1000, 'clf__min_samples_leaf': 2, 'clf__min_samples_split': 0.01, 'clf__splitter': 'best', 'tfidf__norm': 'l2', 'vect__max_features': 15000, 'vect__ngram_range': (1, 1), 'vect__stop_words': 0}\n",
      "mean: 0.719 std: (+/-0.009) for {'clf__ccp_alpha': 0.0001, 'clf__criterion': 'gini', 'clf__max_depth': 1000, 'clf__min_samples_leaf': 2, 'clf__min_samples_split': 0.01, 'clf__splitter': 'best', 'tfidf__norm': 'l2', 'vect__max_features': 15000, 'vect__ngram_range': (1, 1), 'vect__stop_words': 1}\n",
      "mean: 0.725 std: (+/-0.012) for {'clf__ccp_alpha': 0.0001, 'clf__criterion': 'gini', 'clf__max_depth': 1000, 'clf__min_samples_leaf': 2, 'clf__min_samples_split': 0.01, 'clf__splitter': 'random', 'tfidf__norm': 'l2', 'vect__max_features': 10000, 'vect__ngram_range': (1, 1), 'vect__stop_words': 0}\n",
      "mean: 0.722 std: (+/-0.013) for {'clf__ccp_alpha': 0.0001, 'clf__criterion': 'gini', 'clf__max_depth': 1000, 'clf__min_samples_leaf': 2, 'clf__min_samples_split': 0.01, 'clf__splitter': 'random', 'tfidf__norm': 'l2', 'vect__max_features': 10000, 'vect__ngram_range': (1, 1), 'vect__stop_words': 1}\n",
      "mean: 0.727 std: (+/-0.010) for {'clf__ccp_alpha': 0.0001, 'clf__criterion': 'gini', 'clf__max_depth': 1000, 'clf__min_samples_leaf': 2, 'clf__min_samples_split': 0.01, 'clf__splitter': 'random', 'tfidf__norm': 'l2', 'vect__max_features': 15000, 'vect__ngram_range': (1, 1), 'vect__stop_words': 0}\n",
      "mean: 0.725 std: (+/-0.024) for {'clf__ccp_alpha': 0.0001, 'clf__criterion': 'gini', 'clf__max_depth': 1000, 'clf__min_samples_leaf': 2, 'clf__min_samples_split': 0.01, 'clf__splitter': 'random', 'tfidf__norm': 'l2', 'vect__max_features': 15000, 'vect__ngram_range': (1, 1), 'vect__stop_words': 1}\n",
      "mean: 0.726 std: (+/-0.013) for {'clf__ccp_alpha': 0.0001, 'clf__criterion': 'gini', 'clf__max_depth': 1000, 'clf__min_samples_leaf': 5, 'clf__min_samples_split': 0.01, 'clf__splitter': 'best', 'tfidf__norm': 'l2', 'vect__max_features': 10000, 'vect__ngram_range': (1, 1), 'vect__stop_words': 0}\n",
      "mean: 0.728 std: (+/-0.014) for {'clf__ccp_alpha': 0.0001, 'clf__criterion': 'gini', 'clf__max_depth': 1000, 'clf__min_samples_leaf': 5, 'clf__min_samples_split': 0.01, 'clf__splitter': 'best', 'tfidf__norm': 'l2', 'vect__max_features': 10000, 'vect__ngram_range': (1, 1), 'vect__stop_words': 1}\n",
      "mean: 0.727 std: (+/-0.013) for {'clf__ccp_alpha': 0.0001, 'clf__criterion': 'gini', 'clf__max_depth': 1000, 'clf__min_samples_leaf': 5, 'clf__min_samples_split': 0.01, 'clf__splitter': 'best', 'tfidf__norm': 'l2', 'vect__max_features': 15000, 'vect__ngram_range': (1, 1), 'vect__stop_words': 0}\n",
      "mean: 0.726 std: (+/-0.007) for {'clf__ccp_alpha': 0.0001, 'clf__criterion': 'gini', 'clf__max_depth': 1000, 'clf__min_samples_leaf': 5, 'clf__min_samples_split': 0.01, 'clf__splitter': 'best', 'tfidf__norm': 'l2', 'vect__max_features': 15000, 'vect__ngram_range': (1, 1), 'vect__stop_words': 1}\n",
      "mean: 0.728 std: (+/-0.006) for {'clf__ccp_alpha': 0.0001, 'clf__criterion': 'gini', 'clf__max_depth': 1000, 'clf__min_samples_leaf': 5, 'clf__min_samples_split': 0.01, 'clf__splitter': 'random', 'tfidf__norm': 'l2', 'vect__max_features': 10000, 'vect__ngram_range': (1, 1), 'vect__stop_words': 0}\n",
      "mean: 0.738 std: (+/-0.014) for {'clf__ccp_alpha': 0.0001, 'clf__criterion': 'gini', 'clf__max_depth': 1000, 'clf__min_samples_leaf': 5, 'clf__min_samples_split': 0.01, 'clf__splitter': 'random', 'tfidf__norm': 'l2', 'vect__max_features': 10000, 'vect__ngram_range': (1, 1), 'vect__stop_words': 1}\n",
      "mean: 0.735 std: (+/-0.012) for {'clf__ccp_alpha': 0.0001, 'clf__criterion': 'gini', 'clf__max_depth': 1000, 'clf__min_samples_leaf': 5, 'clf__min_samples_split': 0.01, 'clf__splitter': 'random', 'tfidf__norm': 'l2', 'vect__max_features': 15000, 'vect__ngram_range': (1, 1), 'vect__stop_words': 0}\n",
      "mean: 0.730 std: (+/-0.011) for {'clf__ccp_alpha': 0.0001, 'clf__criterion': 'gini', 'clf__max_depth': 1000, 'clf__min_samples_leaf': 5, 'clf__min_samples_split': 0.01, 'clf__splitter': 'random', 'tfidf__norm': 'l2', 'vect__max_features': 15000, 'vect__ngram_range': (1, 1), 'vect__stop_words': 1}\n",
      "mean: 0.718 std: (+/-0.011) for {'clf__ccp_alpha': 0.0001, 'clf__criterion': 'gini', 'clf__max_depth': 10000, 'clf__min_samples_leaf': 1, 'clf__min_samples_split': 0.01, 'clf__splitter': 'best', 'tfidf__norm': 'l2', 'vect__max_features': 10000, 'vect__ngram_range': (1, 1), 'vect__stop_words': 0}\n",
      "mean: 0.722 std: (+/-0.007) for {'clf__ccp_alpha': 0.0001, 'clf__criterion': 'gini', 'clf__max_depth': 10000, 'clf__min_samples_leaf': 1, 'clf__min_samples_split': 0.01, 'clf__splitter': 'best', 'tfidf__norm': 'l2', 'vect__max_features': 10000, 'vect__ngram_range': (1, 1), 'vect__stop_words': 1}\n",
      "mean: 0.722 std: (+/-0.010) for {'clf__ccp_alpha': 0.0001, 'clf__criterion': 'gini', 'clf__max_depth': 10000, 'clf__min_samples_leaf': 1, 'clf__min_samples_split': 0.01, 'clf__splitter': 'best', 'tfidf__norm': 'l2', 'vect__max_features': 15000, 'vect__ngram_range': (1, 1), 'vect__stop_words': 0}\n",
      "mean: 0.720 std: (+/-0.010) for {'clf__ccp_alpha': 0.0001, 'clf__criterion': 'gini', 'clf__max_depth': 10000, 'clf__min_samples_leaf': 1, 'clf__min_samples_split': 0.01, 'clf__splitter': 'best', 'tfidf__norm': 'l2', 'vect__max_features': 15000, 'vect__ngram_range': (1, 1), 'vect__stop_words': 1}\n",
      "mean: 0.720 std: (+/-0.006) for {'clf__ccp_alpha': 0.0001, 'clf__criterion': 'gini', 'clf__max_depth': 10000, 'clf__min_samples_leaf': 1, 'clf__min_samples_split': 0.01, 'clf__splitter': 'random', 'tfidf__norm': 'l2', 'vect__max_features': 10000, 'vect__ngram_range': (1, 1), 'vect__stop_words': 0}\n",
      "mean: 0.725 std: (+/-0.006) for {'clf__ccp_alpha': 0.0001, 'clf__criterion': 'gini', 'clf__max_depth': 10000, 'clf__min_samples_leaf': 1, 'clf__min_samples_split': 0.01, 'clf__splitter': 'random', 'tfidf__norm': 'l2', 'vect__max_features': 10000, 'vect__ngram_range': (1, 1), 'vect__stop_words': 1}\n",
      "mean: 0.725 std: (+/-0.009) for {'clf__ccp_alpha': 0.0001, 'clf__criterion': 'gini', 'clf__max_depth': 10000, 'clf__min_samples_leaf': 1, 'clf__min_samples_split': 0.01, 'clf__splitter': 'random', 'tfidf__norm': 'l2', 'vect__max_features': 15000, 'vect__ngram_range': (1, 1), 'vect__stop_words': 0}\n",
      "mean: 0.725 std: (+/-0.008) for {'clf__ccp_alpha': 0.0001, 'clf__criterion': 'gini', 'clf__max_depth': 10000, 'clf__min_samples_leaf': 1, 'clf__min_samples_split': 0.01, 'clf__splitter': 'random', 'tfidf__norm': 'l2', 'vect__max_features': 15000, 'vect__ngram_range': (1, 1), 'vect__stop_words': 1}\n",
      "mean: 0.720 std: (+/-0.013) for {'clf__ccp_alpha': 0.0001, 'clf__criterion': 'gini', 'clf__max_depth': 10000, 'clf__min_samples_leaf': 2, 'clf__min_samples_split': 0.01, 'clf__splitter': 'best', 'tfidf__norm': 'l2', 'vect__max_features': 10000, 'vect__ngram_range': (1, 1), 'vect__stop_words': 0}\n",
      "mean: 0.721 std: (+/-0.011) for {'clf__ccp_alpha': 0.0001, 'clf__criterion': 'gini', 'clf__max_depth': 10000, 'clf__min_samples_leaf': 2, 'clf__min_samples_split': 0.01, 'clf__splitter': 'best', 'tfidf__norm': 'l2', 'vect__max_features': 10000, 'vect__ngram_range': (1, 1), 'vect__stop_words': 1}\n",
      "mean: 0.721 std: (+/-0.010) for {'clf__ccp_alpha': 0.0001, 'clf__criterion': 'gini', 'clf__max_depth': 10000, 'clf__min_samples_leaf': 2, 'clf__min_samples_split': 0.01, 'clf__splitter': 'best', 'tfidf__norm': 'l2', 'vect__max_features': 15000, 'vect__ngram_range': (1, 1), 'vect__stop_words': 0}\n",
      "mean: 0.722 std: (+/-0.009) for {'clf__ccp_alpha': 0.0001, 'clf__criterion': 'gini', 'clf__max_depth': 10000, 'clf__min_samples_leaf': 2, 'clf__min_samples_split': 0.01, 'clf__splitter': 'best', 'tfidf__norm': 'l2', 'vect__max_features': 15000, 'vect__ngram_range': (1, 1), 'vect__stop_words': 1}\n",
      "mean: 0.722 std: (+/-0.016) for {'clf__ccp_alpha': 0.0001, 'clf__criterion': 'gini', 'clf__max_depth': 10000, 'clf__min_samples_leaf': 2, 'clf__min_samples_split': 0.01, 'clf__splitter': 'random', 'tfidf__norm': 'l2', 'vect__max_features': 10000, 'vect__ngram_range': (1, 1), 'vect__stop_words': 0}\n",
      "mean: 0.727 std: (+/-0.013) for {'clf__ccp_alpha': 0.0001, 'clf__criterion': 'gini', 'clf__max_depth': 10000, 'clf__min_samples_leaf': 2, 'clf__min_samples_split': 0.01, 'clf__splitter': 'random', 'tfidf__norm': 'l2', 'vect__max_features': 10000, 'vect__ngram_range': (1, 1), 'vect__stop_words': 1}\n",
      "mean: 0.733 std: (+/-0.010) for {'clf__ccp_alpha': 0.0001, 'clf__criterion': 'gini', 'clf__max_depth': 10000, 'clf__min_samples_leaf': 2, 'clf__min_samples_split': 0.01, 'clf__splitter': 'random', 'tfidf__norm': 'l2', 'vect__max_features': 15000, 'vect__ngram_range': (1, 1), 'vect__stop_words': 0}\n",
      "mean: 0.721 std: (+/-0.016) for {'clf__ccp_alpha': 0.0001, 'clf__criterion': 'gini', 'clf__max_depth': 10000, 'clf__min_samples_leaf': 2, 'clf__min_samples_split': 0.01, 'clf__splitter': 'random', 'tfidf__norm': 'l2', 'vect__max_features': 15000, 'vect__ngram_range': (1, 1), 'vect__stop_words': 1}\n",
      "mean: 0.725 std: (+/-0.010) for {'clf__ccp_alpha': 0.0001, 'clf__criterion': 'gini', 'clf__max_depth': 10000, 'clf__min_samples_leaf': 5, 'clf__min_samples_split': 0.01, 'clf__splitter': 'best', 'tfidf__norm': 'l2', 'vect__max_features': 10000, 'vect__ngram_range': (1, 1), 'vect__stop_words': 0}\n",
      "mean: 0.729 std: (+/-0.014) for {'clf__ccp_alpha': 0.0001, 'clf__criterion': 'gini', 'clf__max_depth': 10000, 'clf__min_samples_leaf': 5, 'clf__min_samples_split': 0.01, 'clf__splitter': 'best', 'tfidf__norm': 'l2', 'vect__max_features': 10000, 'vect__ngram_range': (1, 1), 'vect__stop_words': 1}\n",
      "mean: 0.728 std: (+/-0.017) for {'clf__ccp_alpha': 0.0001, 'clf__criterion': 'gini', 'clf__max_depth': 10000, 'clf__min_samples_leaf': 5, 'clf__min_samples_split': 0.01, 'clf__splitter': 'best', 'tfidf__norm': 'l2', 'vect__max_features': 15000, 'vect__ngram_range': (1, 1), 'vect__stop_words': 0}\n",
      "mean: 0.726 std: (+/-0.008) for {'clf__ccp_alpha': 0.0001, 'clf__criterion': 'gini', 'clf__max_depth': 10000, 'clf__min_samples_leaf': 5, 'clf__min_samples_split': 0.01, 'clf__splitter': 'best', 'tfidf__norm': 'l2', 'vect__max_features': 15000, 'vect__ngram_range': (1, 1), 'vect__stop_words': 1}\n",
      "mean: 0.729 std: (+/-0.016) for {'clf__ccp_alpha': 0.0001, 'clf__criterion': 'gini', 'clf__max_depth': 10000, 'clf__min_samples_leaf': 5, 'clf__min_samples_split': 0.01, 'clf__splitter': 'random', 'tfidf__norm': 'l2', 'vect__max_features': 10000, 'vect__ngram_range': (1, 1), 'vect__stop_words': 0}\n",
      "mean: 0.735 std: (+/-0.014) for {'clf__ccp_alpha': 0.0001, 'clf__criterion': 'gini', 'clf__max_depth': 10000, 'clf__min_samples_leaf': 5, 'clf__min_samples_split': 0.01, 'clf__splitter': 'random', 'tfidf__norm': 'l2', 'vect__max_features': 10000, 'vect__ngram_range': (1, 1), 'vect__stop_words': 1}\n",
      "mean: 0.729 std: (+/-0.018) for {'clf__ccp_alpha': 0.0001, 'clf__criterion': 'gini', 'clf__max_depth': 10000, 'clf__min_samples_leaf': 5, 'clf__min_samples_split': 0.01, 'clf__splitter': 'random', 'tfidf__norm': 'l2', 'vect__max_features': 15000, 'vect__ngram_range': (1, 1), 'vect__stop_words': 0}\n",
      "mean: 0.731 std: (+/-0.008) for {'clf__ccp_alpha': 0.0001, 'clf__criterion': 'gini', 'clf__max_depth': 10000, 'clf__min_samples_leaf': 5, 'clf__min_samples_split': 0.01, 'clf__splitter': 'random', 'tfidf__norm': 'l2', 'vect__max_features': 15000, 'vect__ngram_range': (1, 1), 'vect__stop_words': 1}\n",
      "Best score:\n",
      "0.738 (+/-0.008)\n",
      "with parameters set:\n",
      "\tclf__ccp_alpha: 0.0001\n",
      "\tclf__criterion: 'gini'\n",
      "\tclf__max_depth: 1000\n",
      "\tclf__min_samples_leaf: 5\n",
      "\tclf__min_samples_split: 0.01\n",
      "\tclf__splitter: 'random'\n",
      "\ttfidf__norm: 'l2'\n",
      "\tvect__max_features: 10000\n",
      "\tvect__ngram_range: (1, 1)\n",
      "\tvect__stop_words: 1\n"
     ]
    }
   ],
   "source": [
    "params_trial_1 = {\n",
    "                'vect__max_features': (10000, 15000),\n",
    "                'vect__ngram_range': ([(1, 1)]),\n",
    "                'vect__stop_words' : [stop_words_no_nums, stop_words_with_nums],\n",
    "                'tfidf__norm': (['l2']),\n",
    "                'clf__criterion': (['gini']), \n",
    "                'clf__max_depth': (1000, 10000),\n",
    "                'clf__min_samples_leaf': (1, 2 , 5),\n",
    "                'clf__min_samples_split': ([0.01]),                \n",
    "                'clf__splitter': (['best', 'random']),    \n",
    "                'clf__ccp_alpha': (0.001,0.0001),         \n",
    "        }\n",
    "\n",
    "clf.fit(params_trial_1,5)"
   ]
  },
  {
   "cell_type": "code",
   "execution_count": 6,
   "metadata": {},
   "outputs": [
    {
     "name": "stdout",
     "output_type": "stream",
     "text": [
      "Finding most common params for the top 20 values\n",
      "[{0.001: 17, 0.0001: 3}, {'gini': 20}, {1000: 11, 10000: 9}, {2: 7, 5: 8, 1: 5}, {0.01: 20}, {'best': 5, 'random': 15}, {'l2': 20}, {10000: 11, 15000: 9}, {(1, 1): 20}, {1: 12, 0: 8}]\n"
     ]
    }
   ],
   "source": [
    "clf.eval_best_n_params(0.8)"
   ]
  },
  {
   "cell_type": "code",
   "execution_count": 7,
   "metadata": {},
   "outputs": [
    {
     "name": "stdout",
     "output_type": "stream",
     "text": [
      "Performing grid search...\n",
      "pipeline: ['vect', 'tfidf', 'clf']\n",
      "Fitting 5 folds for each of 16 candidates, totalling 80 fits\n"
     ]
    },
    {
     "name": "stderr",
     "output_type": "stream",
     "text": [
      "[Parallel(n_jobs=-1)]: Using backend LokyBackend with 8 concurrent workers.\n",
      "[Parallel(n_jobs=-1)]: Done   2 tasks      | elapsed:   24.5s\n",
      "[Parallel(n_jobs=-1)]: Done  56 tasks      | elapsed:  3.0min\n",
      "[Parallel(n_jobs=-1)]: Done  80 out of  80 | elapsed:  4.2min finished\n"
     ]
    },
    {
     "name": "stdout",
     "output_type": "stream",
     "text": [
      "done in 264.047s\n",
      "\n",
      "scores!\n",
      "mean: 0.732 std: (+/-0.012) for {'clf__ccp_alpha': 0.001, 'clf__criterion': 'gini', 'clf__max_depth': 1000, 'clf__min_samples_leaf': 2, 'clf__min_samples_split': 0.01, 'clf__splitter': 'random', 'tfidf__norm': 'l2', 'vect__max_features': 10000, 'vect__ngram_range': (1, 1), 'vect__stop_words': 0}\n",
      "mean: 0.734 std: (+/-0.011) for {'clf__ccp_alpha': 0.001, 'clf__criterion': 'gini', 'clf__max_depth': 1000, 'clf__min_samples_leaf': 2, 'clf__min_samples_split': 0.01, 'clf__splitter': 'random', 'tfidf__norm': 'l2', 'vect__max_features': 12000, 'vect__ngram_range': (1, 1), 'vect__stop_words': 0}\n",
      "mean: 0.725 std: (+/-0.006) for {'clf__ccp_alpha': 0.001, 'clf__criterion': 'gini', 'clf__max_depth': 1000, 'clf__min_samples_leaf': 5, 'clf__min_samples_split': 0.01, 'clf__splitter': 'random', 'tfidf__norm': 'l2', 'vect__max_features': 10000, 'vect__ngram_range': (1, 1), 'vect__stop_words': 0}\n",
      "mean: 0.734 std: (+/-0.023) for {'clf__ccp_alpha': 0.001, 'clf__criterion': 'gini', 'clf__max_depth': 1000, 'clf__min_samples_leaf': 5, 'clf__min_samples_split': 0.01, 'clf__splitter': 'random', 'tfidf__norm': 'l2', 'vect__max_features': 12000, 'vect__ngram_range': (1, 1), 'vect__stop_words': 0}\n",
      "mean: 0.724 std: (+/-0.010) for {'clf__ccp_alpha': 0.001, 'clf__criterion': 'gini', 'clf__max_depth': 5000, 'clf__min_samples_leaf': 2, 'clf__min_samples_split': 0.01, 'clf__splitter': 'random', 'tfidf__norm': 'l2', 'vect__max_features': 10000, 'vect__ngram_range': (1, 1), 'vect__stop_words': 0}\n",
      "mean: 0.737 std: (+/-0.011) for {'clf__ccp_alpha': 0.001, 'clf__criterion': 'gini', 'clf__max_depth': 5000, 'clf__min_samples_leaf': 2, 'clf__min_samples_split': 0.01, 'clf__splitter': 'random', 'tfidf__norm': 'l2', 'vect__max_features': 12000, 'vect__ngram_range': (1, 1), 'vect__stop_words': 0}\n",
      "mean: 0.743 std: (+/-0.014) for {'clf__ccp_alpha': 0.001, 'clf__criterion': 'gini', 'clf__max_depth': 5000, 'clf__min_samples_leaf': 5, 'clf__min_samples_split': 0.01, 'clf__splitter': 'random', 'tfidf__norm': 'l2', 'vect__max_features': 10000, 'vect__ngram_range': (1, 1), 'vect__stop_words': 0}\n",
      "mean: 0.731 std: (+/-0.022) for {'clf__ccp_alpha': 0.001, 'clf__criterion': 'gini', 'clf__max_depth': 5000, 'clf__min_samples_leaf': 5, 'clf__min_samples_split': 0.01, 'clf__splitter': 'random', 'tfidf__norm': 'l2', 'vect__max_features': 12000, 'vect__ngram_range': (1, 1), 'vect__stop_words': 0}\n",
      "mean: 0.654 std: (+/-0.069) for {'clf__ccp_alpha': 0.01, 'clf__criterion': 'gini', 'clf__max_depth': 1000, 'clf__min_samples_leaf': 2, 'clf__min_samples_split': 0.01, 'clf__splitter': 'random', 'tfidf__norm': 'l2', 'vect__max_features': 10000, 'vect__ngram_range': (1, 1), 'vect__stop_words': 0}\n",
      "mean: 0.621 std: (+/-0.059) for {'clf__ccp_alpha': 0.01, 'clf__criterion': 'gini', 'clf__max_depth': 1000, 'clf__min_samples_leaf': 2, 'clf__min_samples_split': 0.01, 'clf__splitter': 'random', 'tfidf__norm': 'l2', 'vect__max_features': 12000, 'vect__ngram_range': (1, 1), 'vect__stop_words': 0}\n",
      "mean: 0.644 std: (+/-0.093) for {'clf__ccp_alpha': 0.01, 'clf__criterion': 'gini', 'clf__max_depth': 1000, 'clf__min_samples_leaf': 5, 'clf__min_samples_split': 0.01, 'clf__splitter': 'random', 'tfidf__norm': 'l2', 'vect__max_features': 10000, 'vect__ngram_range': (1, 1), 'vect__stop_words': 0}\n",
      "mean: 0.657 std: (+/-0.068) for {'clf__ccp_alpha': 0.01, 'clf__criterion': 'gini', 'clf__max_depth': 1000, 'clf__min_samples_leaf': 5, 'clf__min_samples_split': 0.01, 'clf__splitter': 'random', 'tfidf__norm': 'l2', 'vect__max_features': 12000, 'vect__ngram_range': (1, 1), 'vect__stop_words': 0}\n",
      "mean: 0.618 std: (+/-0.033) for {'clf__ccp_alpha': 0.01, 'clf__criterion': 'gini', 'clf__max_depth': 5000, 'clf__min_samples_leaf': 2, 'clf__min_samples_split': 0.01, 'clf__splitter': 'random', 'tfidf__norm': 'l2', 'vect__max_features': 10000, 'vect__ngram_range': (1, 1), 'vect__stop_words': 0}\n",
      "mean: 0.643 std: (+/-0.078) for {'clf__ccp_alpha': 0.01, 'clf__criterion': 'gini', 'clf__max_depth': 5000, 'clf__min_samples_leaf': 2, 'clf__min_samples_split': 0.01, 'clf__splitter': 'random', 'tfidf__norm': 'l2', 'vect__max_features': 12000, 'vect__ngram_range': (1, 1), 'vect__stop_words': 0}\n",
      "mean: 0.638 std: (+/-0.062) for {'clf__ccp_alpha': 0.01, 'clf__criterion': 'gini', 'clf__max_depth': 5000, 'clf__min_samples_leaf': 5, 'clf__min_samples_split': 0.01, 'clf__splitter': 'random', 'tfidf__norm': 'l2', 'vect__max_features': 10000, 'vect__ngram_range': (1, 1), 'vect__stop_words': 0}\n",
      "mean: 0.659 std: (+/-0.058) for {'clf__ccp_alpha': 0.01, 'clf__criterion': 'gini', 'clf__max_depth': 5000, 'clf__min_samples_leaf': 5, 'clf__min_samples_split': 0.01, 'clf__splitter': 'random', 'tfidf__norm': 'l2', 'vect__max_features': 12000, 'vect__ngram_range': (1, 1), 'vect__stop_words': 0}\n",
      "Best score:\n",
      "0.743 (+/-0.058)\n",
      "with parameters set:\n",
      "\tclf__ccp_alpha: 0.001\n",
      "\tclf__criterion: 'gini'\n",
      "\tclf__max_depth: 5000\n",
      "\tclf__min_samples_leaf: 5\n",
      "\tclf__min_samples_split: 0.01\n",
      "\tclf__splitter: 'random'\n",
      "\ttfidf__norm: 'l2'\n",
      "\tvect__max_features: 10000\n",
      "\tvect__ngram_range: (1, 1)\n",
      "\tvect__stop_words: 0\n"
     ]
    }
   ],
   "source": [
    "params_trial_2 = {\n",
    "                'vect__max_features': (10000, 12000),\n",
    "                'vect__ngram_range': ([(1, 1)]),\n",
    "                'vect__stop_words' : [stop_words_with_nums],\n",
    "                'tfidf__norm': (['l2']),\n",
    "                'clf__criterion': (['gini']), \n",
    "                'clf__max_depth': (1000, 5000),\n",
    "                'clf__min_samples_leaf': ([2, 5]),\n",
    "                'clf__min_samples_split': ([0.01]),                \n",
    "                'clf__splitter': (['random']),    \n",
    "                'clf__ccp_alpha': ([0.001, 0.01]),         \n",
    "        }\n",
    "\n",
    "clf.fit(params_trial_2,5)"
   ]
  },
  {
   "cell_type": "code",
   "execution_count": 9,
   "metadata": {},
   "outputs": [
    {
     "name": "stdout",
     "output_type": "stream",
     "text": [
      "Finding most common params for the top 4 values\n",
      "[{0.001: 4}, {'gini': 4}, {1000: 2, 5000: 2}, {2: 2, 5: 2}, {0.01: 4}, {'random': 4}, {'l2': 4}, {12000: 3, 10000: 1}, {(1, 1): 4}, {0: 4}]\n"
     ]
    }
   ],
   "source": [
    "clf.eval_best_n_params(0.8)"
   ]
  },
  {
   "cell_type": "code",
   "execution_count": 10,
   "metadata": {},
   "outputs": [
    {
     "name": "stdout",
     "output_type": "stream",
     "text": [
      "Performing grid search...\n",
      "pipeline: ['vect', 'tfidf', 'clf']\n",
      "Fitting 5 folds for each of 4 candidates, totalling 20 fits\n"
     ]
    },
    {
     "name": "stderr",
     "output_type": "stream",
     "text": [
      "[Parallel(n_jobs=-1)]: Using backend LokyBackend with 8 concurrent workers.\n",
      "[Parallel(n_jobs=-1)]: Done   2 tasks      | elapsed:   28.6s\n",
      "[Parallel(n_jobs=-1)]: Done  10 out of  20 | elapsed:   57.5s remaining:   57.5s\n",
      "[Parallel(n_jobs=-1)]: Done  15 out of  20 | elapsed:   59.3s remaining:   19.7s\n",
      "[Parallel(n_jobs=-1)]: Done  20 out of  20 | elapsed:  1.3min remaining:    0.0s\n",
      "[Parallel(n_jobs=-1)]: Done  20 out of  20 | elapsed:  1.3min finished\n"
     ]
    },
    {
     "name": "stdout",
     "output_type": "stream",
     "text": [
      "done in 95.301s\n",
      "\n",
      "scores!\n",
      "mean: 0.734 std: (+/-0.011) for {'clf__ccp_alpha': 0.001, 'clf__criterion': 'gini', 'clf__max_depth': 1000, 'clf__min_samples_leaf': 1, 'clf__min_samples_split': 0.01, 'clf__splitter': 'random', 'tfidf__norm': 'l2', 'vect__max_features': 12000, 'vect__ngram_range': (1, 1), 'vect__stop_words': 0}\n",
      "mean: 0.732 std: (+/-0.012) for {'clf__ccp_alpha': 0.001, 'clf__criterion': 'gini', 'clf__max_depth': 1000, 'clf__min_samples_leaf': 1, 'clf__min_samples_split': 0.01, 'clf__splitter': 'random', 'tfidf__norm': 'l2', 'vect__max_features': 15000, 'vect__ngram_range': (1, 1), 'vect__stop_words': 0}\n",
      "mean: 0.733 std: (+/-0.020) for {'clf__ccp_alpha': 0.001, 'clf__criterion': 'gini', 'clf__max_depth': 3000, 'clf__min_samples_leaf': 1, 'clf__min_samples_split': 0.01, 'clf__splitter': 'random', 'tfidf__norm': 'l2', 'vect__max_features': 12000, 'vect__ngram_range': (1, 1), 'vect__stop_words': 0}\n",
      "mean: 0.729 std: (+/-0.018) for {'clf__ccp_alpha': 0.001, 'clf__criterion': 'gini', 'clf__max_depth': 3000, 'clf__min_samples_leaf': 1, 'clf__min_samples_split': 0.01, 'clf__splitter': 'random', 'tfidf__norm': 'l2', 'vect__max_features': 15000, 'vect__ngram_range': (1, 1), 'vect__stop_words': 0}\n",
      "Best score:\n",
      "0.734 (+/-0.018)\n",
      "with parameters set:\n",
      "\tclf__ccp_alpha: 0.001\n",
      "\tclf__criterion: 'gini'\n",
      "\tclf__max_depth: 1000\n",
      "\tclf__min_samples_leaf: 1\n",
      "\tclf__min_samples_split: 0.01\n",
      "\tclf__splitter: 'random'\n",
      "\ttfidf__norm: 'l2'\n",
      "\tvect__max_features: 12000\n",
      "\tvect__ngram_range: (1, 1)\n",
      "\tvect__stop_words: 0\n"
     ]
    }
   ],
   "source": [
    "params_trial_3 = {\n",
    "                'vect__max_features': (12000, 15000),\n",
    "                'vect__ngram_range': ([(1, 1)]),\n",
    "                'vect__stop_words' : [stop_words_no_nums],\n",
    "                'tfidf__norm': (['l2']),\n",
    "                'clf__criterion': (['gini']), \n",
    "                'clf__max_depth': ([1000, 3000]),\n",
    "                'clf__min_samples_leaf': ([1]),\n",
    "                'clf__min_samples_split': ([0.01]),                \n",
    "                'clf__splitter': (['random']),    \n",
    "                'clf__ccp_alpha': ([0.001]),         \n",
    "        }\n",
    "\n",
    "clf.fit(params_trial_3,5)"
   ]
  },
  {
   "cell_type": "code",
   "execution_count": 11,
   "metadata": {},
   "outputs": [
    {
     "name": "stdout",
     "output_type": "stream",
     "text": [
      "Finding most common params for the top 2 values\n",
      "[{0.001: 2}, {'gini': 2}, {3000: 1, 1000: 1}, {1: 2}, {0.01: 2}, {'random': 2}, {'l2': 2}, {12000: 2}, {(1, 1): 2}, {0: 2}]\n"
     ]
    }
   ],
   "source": [
    "clf.eval_best_n_params(0.7)"
   ]
  },
  {
   "cell_type": "code",
   "execution_count": 12,
   "metadata": {},
   "outputs": [
    {
     "name": "stdout",
     "output_type": "stream",
     "text": [
      "Performing grid search...\n",
      "pipeline: ['vect', 'tfidf', 'clf']\n",
      "Fitting 5 folds for each of 1 candidates, totalling 5 fits\n"
     ]
    },
    {
     "name": "stderr",
     "output_type": "stream",
     "text": [
      "[Parallel(n_jobs=-1)]: Using backend LokyBackend with 8 concurrent workers.\n",
      "[Parallel(n_jobs=-1)]: Done   2 out of   5 | elapsed:   24.5s remaining:   36.8s\n",
      "[Parallel(n_jobs=-1)]: Done   5 out of   5 | elapsed:   25.3s finished\n"
     ]
    },
    {
     "name": "stdout",
     "output_type": "stream",
     "text": [
      "done in 42.172s\n",
      "\n",
      "scores!\n",
      "mean: 0.723 std: (+/-0.015) for {'clf__ccp_alpha': 0.0001, 'clf__criterion': 'gini', 'clf__max_depth': 1000, 'clf__min_samples_leaf': 1, 'clf__min_samples_split': 0.01, 'clf__splitter': 'random', 'tfidf__norm': 'l2', 'vect__max_features': 12000, 'vect__ngram_range': (1, 1), 'vect__stop_words': 0}\n",
      "Best score:\n",
      "0.723 (+/-0.015)\n",
      "with parameters set:\n",
      "\tclf__ccp_alpha: 0.0001\n",
      "\tclf__criterion: 'gini'\n",
      "\tclf__max_depth: 1000\n",
      "\tclf__min_samples_leaf: 1\n",
      "\tclf__min_samples_split: 0.01\n",
      "\tclf__splitter: 'random'\n",
      "\ttfidf__norm: 'l2'\n",
      "\tvect__max_features: 12000\n",
      "\tvect__ngram_range: (1, 1)\n",
      "\tvect__stop_words: 0\n"
     ]
    }
   ],
   "source": [
    "params_trial_final = {\n",
    "                'vect__max_features': [12000],\n",
    "                'vect__ngram_range': [(1, 1)],\n",
    "                'vect__stop_words' : [stop_words_no_nums],\n",
    "                'tfidf__norm': ['l2'],\n",
    "                'clf__criterion': ['gini'], \n",
    "                'clf__max_depth': [1000],\n",
    "                'clf__min_samples_leaf': ([1]),\n",
    "                'clf__min_samples_split': [0.01],                \n",
    "                'clf__splitter': ['random'],    \n",
    "                'clf__ccp_alpha': [0.0001]              \n",
    "        }\n",
    "\n",
    "clf.fit(params_trial_final,5)"
   ]
  },
  {
   "cell_type": "code",
   "execution_count": 13,
   "metadata": {},
   "outputs": [
    {
     "name": "stdout",
     "output_type": "stream",
     "text": [
      "Evaluation on test set:\n",
      "\n",
      "Accuracy Score : 0.73388\n",
      "Precision Score : 0.73388\n",
      "Recall Score : 0.73388\n",
      "F1 Score : 0.73388\n",
      "Confusion Matrix\n",
      "[[9180 3321]\n",
      " [3332 9167]]\n"
     ]
    },
    {
     "data": {
      "image/png": "[encoded data removed]",
      "text/plain": [
       "<Figure size 432x288 with 2 Axes>"
      ]
     },
     "metadata": {},
     "output_type": "display_data"
    },
    {
     "data": {
      "image/png": "[encoded data removed]",
      "text/plain": [
       "<Figure size 432x288 with 1 Axes>"
      ]
     },
     "metadata": {},
     "output_type": "display_data"
    }
   ],
   "source": [
    "clf.eval_on_test([],False)\n",
    "clf.learning_curve([0.1,0.2,0.3,0.4,0.5,0.6,0.7,0.8,0.9,1.0])"
   ]
  },
  {
   "cell_type": "code",
   "execution_count": null,
   "metadata": {},
   "outputs": [],
   "source": []
  }
 ],
 "metadata": {
  "kernelspec": {
   "display_name": "Python 3",
   "language": "python",
   "name": "python3"
  },
  "language_info": {
   "codemirror_mode": {
    "name": "ipython",
    "version": 3
   },
   "file_extension": ".py",
   "mimetype": "text/x-python",
   "name": "python",
   "nbconvert_exporter": "python",
   "pygments_lexer": "ipython3",
   "version": "3.6.5"
  }
 },
 "nbformat": 4,
 "nbformat_minor": 2
}
