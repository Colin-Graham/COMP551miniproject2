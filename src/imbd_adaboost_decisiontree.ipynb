{
 "cells": [
  {
   "cell_type": "code",
   "execution_count": null,
   "metadata": {
    "collapsed": true
   },
   "outputs": [],
   "source": [
    "\n",
    "import model as m\n",
    "from sklearn.tree import DecisionTreeClassifier\n",
    "from sklearn.ensemble import AdaBoostClassifier"
   ]
  },
  {
   "cell_type": "code",
   "execution_count": null,
   "outputs": [],
   "source": [
    "#stop word sets specified for this data set\n",
    "path = \"../data/stop_words_imbd/\"\n",
    "with open(path+\"stop_words_no_nums.txt\", 'r') as content_file:\n",
    "        content = content_file.read().replace(\" \",\"\").replace(\"\\n\",\"\").split(\",\")\n",
    "        stop_words_no_nums = frozenset(content)\n",
    "with open(path+\"stop_words_with_nums.txt\", 'r') as content_file:\n",
    "        content = content_file.read().replace(\" \",\"\").replace(\"\\n\",\"\").split(\",\")\n",
    "        stop_words_with_nums = frozenset(content)\n"
   ],
   "metadata": {
    "collapsed": false,
    "pycharm": {
     "name": "#%%\n"
    }
   }
  },
  {
   "cell_type": "code",
   "execution_count": null,
   "outputs": [],
   "source": [
    "clf_1 = m.Classifier(0,AdaBoostClassifier())\n",
    "\n",
    "params_trial_1 = {\n",
    "    'vect__max_features': [(12000)],\n",
    "    'vect__ngram_range': [(1, 1)],\n",
    "    'tfidf__norm': [('l2')],\n",
    "    'vect__stop_words' : [stop_words_no_nums],\n",
    "    'clf__base_estimator': [DecisionTreeClassifier(criterion='gini',max_depth=1000,min_samples_leaf=1,min_samples_split=0.001,splitter='random',ccp_alpha=0.0001)],\n",
    "    'clf__n_estimators': [10,20],\n",
    "    'clf__learning_rate': (0.8,1),\n",
    "}\n",
    "\n",
    "clf_1.fit(params_trial_1,5)\n",
    "\n"
   ],
   "metadata": {
    "collapsed": false,
    "pycharm": {
     "name": "#%%\n"
    }
   }
  }
 ],
 "metadata": {
  "kernelspec": {
   "display_name": "Python 3",
   "language": "python",
   "name": "python3"
  },
  "language_info": {
   "codemirror_mode": {
    "name": "ipython",
    "version": 2
   },
   "file_extension": ".py",
   "mimetype": "text/x-python",
   "name": "python",
   "nbconvert_exporter": "python",
   "pygments_lexer": "ipython2",
   "version": "2.7.6"
  },
  "pycharm": {
   "stem_cell": {
    "cell_type": "raw",
    "source": [],
    "metadata": {
     "collapsed": false
    }
   }
  }
 },
 "nbformat": 4,
 "nbformat_minor": 0
}