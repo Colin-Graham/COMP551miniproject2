{
 "cells": [
  {
   "cell_type": "code",
   "execution_count": 1,
   "metadata": {},
   "outputs": [],
   "source": [
    "def most_common_words(list_size,filename,directory,black_list):    \n",
    "    path =\"/data/imbd/\"+directory+\"/\"+filename+\".txt\"\n",
    "\n",
    "    words ={}\n",
    "\n",
    "    with open(path, 'r') as file:\n",
    "        data = file.read().replace('\\n', '').lower()\n",
    "        #data = re.sub('[.;:@$#?!&$]+', '', data)\n",
    "        data = re.sub(\"[^a-z']+\", ' ', data)\n",
    "\n",
    "    #data\n",
    "\n",
    "        for w in data.split(\" \"):\n",
    "            if words.get(w):\n",
    "                words[w] +=1\n",
    "            elif not (w in black_list):\n",
    "                words[w]=1\n",
    "\n",
    "\n",
    "    max_list = {(\"\",0):\"\"} \n",
    "    min_freq = (\"\",0)\n",
    "    for k in words.keys():\n",
    "        #print(len(max_list))\n",
    "        #print(max_list[min_freq])\n",
    "        freq = words[k]\n",
    "        if len(max_list)<1000: max_list[(k,freq)] = k\n",
    "        elif freq>min_freq[1]: #len is 1000\n",
    "            del max_list[min_freq]\n",
    "            max_list[(k,freq)] = k\n",
    "\n",
    "        min_temp = float(\"inf\")\n",
    "        for item in max_list.keys():\n",
    "            if min_temp>item[1]:\n",
    "                min_freq = item\n",
    "                min_temp = item[1]\n",
    "    return max_list"
   ]
  },
  {
   "cell_type": "code",
   "execution_count": null,
   "metadata": {},
   "outputs": [],
   "source": [
    "white_list = [\"be\",\"who's\",\"car\",\"dvd\",\"there's\",\"in\",\"also\",\"you'll\",\"scenes\",\"way\",\"film\",\"when\",\"on\",\"those\",\"these\",\"get\",\"you're\",\"episodes\",\"have\",\"i've\",\"been\",\"seems\",\"seen\",\"or\",\n",
    "                  \"as\",\"i\",\"you've\",\"wasn't\",\"was\",\"its\",\"it's\",\"us\",\"we\",\"which\",\"how\",\"here\",\"tv\",\n",
    "                  \"with\",\"while\",\"gets\",\"d\",\"already\",\"you\",\"your\",\"using\",\"about\",\"has\",\"s\",\"well\",\"is\",\"this\",\"of\",\n",
    "                  \"that\",\"the\",\"by\",\"where\",\"were\",\"for\",\"they're\",\"their\",\"and\",\"to\",\"too\",\"then\",\"there\",\"them\",\n",
    "                  \"but\",\"if\",\"me\",\"my\",\"it\",\"he\",\"from\",\"she\",\"her\",\"his\",\"him\",\"a\",\"an\",\"are\",\"movie\"]\n",
    "\n",
    "\n",
    "pos = list(most_common_words(1000,\"trainPos\",\"pos\").keys())\n",
    "neg = list(most_common_words(1000,\"trainNeg\",\"neg\").keys())\n",
    "\n",
    "#print(pos)\n",
    "#print(neg)\n",
    "for i in range(len(pos)):\n",
    "    if pos[i][0]==neg[i][0]:\n",
    "        print(pos[0]+\" pos: \"+str(pos[i][0])+\" neg: \"+str(neg[i][1]))"
   ]
  }
 ],
 "metadata": {
  "kernelspec": {
   "display_name": "Python 3",
   "language": "python",
   "name": "python3"
  },
  "language_info": {
   "codemirror_mode": {
    "name": "ipython",
    "version": 3
   },
   "file_extension": ".py",
   "mimetype": "text/x-python",
   "name": "python",
   "nbconvert_exporter": "python",
   "pygments_lexer": "ipython3",
   "version": "3.7.4"
  }
 },
 "nbformat": 4,
 "nbformat_minor": 2
}
