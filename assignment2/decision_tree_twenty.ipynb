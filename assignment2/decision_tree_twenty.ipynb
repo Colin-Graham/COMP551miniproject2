{
 "cells": [
  {
   "cell_type": "code",
   "execution_count": 24,
   "metadata": {},
   "outputs": [],
   "source": [
    "from sklearn.feature_extraction.text import CountVectorizer\n",
    "import numpy as np\n",
    "from sklearn.metrics import accuracy_score\n",
    "from sklearn.model_selection import train_test_split\n",
    "from sklearn.metrics import classification_report, confusion_matrix\n",
    "from sklearn.tree import DecisionTreeClassifier\n",
    "from sklearn.metrics import roc_curve, auc\n",
    "import matplotlib as mpl\n",
    "import matplotlib.pyplot as plt\n",
    "from sklearn.pipeline import Pipeline\n",
    "import timeit\n",
    "from sklearn.feature_extraction.text import TfidfTransformer"
   ]
  },
  {
   "cell_type": "code",
   "execution_count": 2,
   "metadata": {},
   "outputs": [],
   "source": [
    "from sklearn.datasets import fetch_20newsgroups\n",
    "twenty_train = fetch_20newsgroups(subset='train',\n",
    "     remove=(['headers', 'footers', 'quotes']), shuffle=True, random_state=42)"
   ]
  },
  {
   "cell_type": "code",
   "execution_count": 6,
   "metadata": {},
   "outputs": [],
   "source": [
    "\n",
    "count_vect = CountVectorizer()\n",
    "X_train_counts = count_vect.fit_transform(twenty_train.data)\n",
    "X_train_counts.shape\n",
    "tf_transformer = TfidfTransformer(use_idf=False).fit(X_train_counts)\n",
    "X_train_tf = tf_transformer.transform(X_train_counts)\n",
    "tfidf_transformer = TfidfTransformer()\n",
    "X_train_tfidf = tfidf_transformer.fit_transform(X_train_counts)\n",
    "X_train_tfidf.shape\n",
    "\n",
    "X = X_train_tfidf\n",
    "y = twenty_train.target\n",
    "X_train, X_val, y_train, y_val = train_test_split(\n",
    "    X, y, train_size = 0.75)"
   ]
  },
  {
   "cell_type": "code",
   "execution_count": 14,
   "metadata": {},
   "outputs": [
    {
     "name": "stdout",
     "output_type": "stream",
     "text": [
      "Accuracy for max_depth=25: 0.2976316719688936 in 3.3638328730003195sec\n",
      "Accuracy for max_depth=50: 0.36868151290208556 in 5.5415638199997375sec\n",
      "Accuracy for max_depth=100: 0.4252386002120891 in 7.594369351000296sec\n",
      "Accuracy for max_depth=200: 0.43796394485683987 in 10.6125764909998sec\n",
      "Accuracy for max_depth=500: 0.4372569812654648 in 10.367904478999662sec\n"
     ]
    }
   ],
   "source": [
    "max_depths = [25, 50, 100, 200, 500]\n",
    "times = []\n",
    "result_val = []\n",
    "result_train = []\n",
    "\n",
    "for max_depth in max_depths:\n",
    "    dt = DecisionTreeClassifier(max_depth=max_depth)\n",
    "    t1 = timeit.default_timer()\n",
    "    dt.fit(X_train, y_train)\n",
    "    train_time = timeit.default_timer() - t1\n",
    "    times.append(train_time)\n",
    "    result_val.append(accuracy_score(y_val, dt.predict(X_val)))\n",
    "    result_train.append(accuracy_score(y_train, dt.predict(X_train)))\n",
    "    print (\"Accuracy for max_depth=%s: %s in %ssec\" \n",
    "           % (max_depth, accuracy_score(y_val, dt.predict(X_val)), train_time ))"
   ]
  },
  {
   "cell_type": "code",
   "execution_count": 15,
   "metadata": {},
   "outputs": [
    {
     "data": {
      "image/png": "[encoded data removed]",
      "text/plain": [
       "<Figure size 432x288 with 1 Axes>"
      ]
     },
     "metadata": {
      "needs_background": "light"
     },
     "output_type": "display_data"
    }
   ],
   "source": [
    "from matplotlib.legend_handler import HandlerLine2D\n",
    "line1, = plt.plot(max_depths, result_train, 'b', label='Train result')\n",
    "line2, = plt.plot(max_depths, result_val, 'r', label='Val result')\n",
    "plt.legend(handler_map={line1: HandlerLine2D(numpoints=2)})\n",
    "plt.ylabel('Result')\n",
    "plt.xlabel('Max depth')\n",
    "plt.show()"
   ]
  },
  {
   "cell_type": "code",
   "execution_count": 18,
   "metadata": {},
   "outputs": [
    {
     "name": "stdout",
     "output_type": "stream",
     "text": [
      "Accuracy for min_samples_split=0.01: 0.44538706256627786 in 6.538797354000053sec\n",
      "Accuracy for min_samples_split=0.1: 0.44644750795334043 in 6.047191440999995sec\n",
      "Accuracy for min_samples_split=0.2: 0.43584305408271473 in 5.022047453000141sec\n",
      "Accuracy for min_samples_split=0.3: 0.41039236479321317 in 4.4753952849996494sec\n",
      "Accuracy for min_samples_split=0.4: 0.40897843761046304 in 3.884420496000075sec\n",
      "Accuracy for min_samples_split=0.5: 0.3584305408271474 in 3.2787225379997835sec\n"
     ]
    }
   ],
   "source": [
    "min_samples_splits = [0.01, 0.1, 0.2, 0.3, 0.4, 0.5]\n",
    "\n",
    "times = []\n",
    "result_val = []\n",
    "result_train = []\n",
    "\n",
    "for min_samples_split in min_samples_splits:\n",
    "    dt = DecisionTreeClassifier(max_depth=200,min_samples_split=min_samples_split)\n",
    "    t1 = timeit.default_timer()\n",
    "    dt.fit(X_train, y_train)\n",
    "    train_time = timeit.default_timer() - t1\n",
    "    times.append(train_time)\n",
    "    result_val.append(accuracy_score(y_val, dt.predict(X_val)))\n",
    "    result_train.append(accuracy_score(y_train, dt.predict(X_train)))\n",
    "    print (\"Accuracy for min_samples_split=%s: %s in %ssec\" \n",
    "           % (min_samples_split, accuracy_score(y_val, dt.predict(X_val)), train_time ))"
   ]
  },
  {
   "cell_type": "code",
   "execution_count": 17,
   "metadata": {},
   "outputs": [
    {
     "data": {
      "image/png": "[encoded data removed]",
      "text/plain": [
       "<Figure size 432x288 with 1 Axes>"
      ]
     },
     "metadata": {
      "needs_background": "light"
     },
     "output_type": "display_data"
    }
   ],
   "source": [
    "from matplotlib.legend_handler import HandlerLine2D\n",
    "line1, = plt.plot(min_samples_splits, result_train, 'b', label='Train result')\n",
    "line2, = plt.plot(min_samples_splits, result_val, 'r', label='Val result')\n",
    "plt.legend(handler_map={line1: HandlerLine2D(numpoints=2)})\n",
    "plt.ylabel('Result')\n",
    "plt.xlabel('min_samples_splits')\n",
    "plt.show()"
   ]
  },
  {
   "cell_type": "code",
   "execution_count": 20,
   "metadata": {},
   "outputs": [
    {
     "data": {
      "text/plain": [
       "Pipeline(memory=None,\n",
       "         steps=[('vect',\n",
       "                 CountVectorizer(analyzer='word', binary=False,\n",
       "                                 decode_error='strict',\n",
       "                                 dtype=<class 'numpy.int64'>, encoding='utf-8',\n",
       "                                 input='content', lowercase=True, max_df=1.0,\n",
       "                                 max_features=None, min_df=1,\n",
       "                                 ngram_range=(1, 1), preprocessor=None,\n",
       "                                 stop_words=None, strip_accents=None,\n",
       "                                 token_pattern='(?u)\\\\b\\\\w\\\\w+\\\\b',\n",
       "                                 tokenizer=None, vocabulary=Non...\n",
       "                 TfidfTransformer(norm='l2', smooth_idf=True,\n",
       "                                  sublinear_tf=False, use_idf=True)),\n",
       "                ('dt',\n",
       "                 DecisionTreeClassifier(class_weight=None, criterion='gini',\n",
       "                                        max_depth=200, max_features=None,\n",
       "                                        max_leaf_nodes=None,\n",
       "                                        min_impurity_decrease=0.0,\n",
       "                                        min_impurity_split=None,\n",
       "                                        min_samples_leaf=1,\n",
       "                                        min_samples_split=0.01,\n",
       "                                        min_weight_fraction_leaf=0.0,\n",
       "                                        presort=False, random_state=None,\n",
       "                                        splitter='best'))],\n",
       "         verbose=False)"
      ]
     },
     "execution_count": 20,
     "metadata": {},
     "output_type": "execute_result"
    }
   ],
   "source": [
    "twenty_test = fetch_20newsgroups(subset='test',\n",
    "     remove=(['headers', 'footers', 'quotes']), shuffle=True, random_state=42)\n",
    "\n",
    "text_dt = Pipeline([\n",
    "     ('vect', CountVectorizer()),\n",
    "     ('tfidf', TfidfTransformer()),\n",
    "     ('dt', DecisionTreeClassifier(max_depth=200,min_samples_split=0.01))])\n",
    "\n",
    "text_dt.fit(twenty_train.data, twenty_train.target)"
   ]
  },
  {
   "cell_type": "code",
   "execution_count": 23,
   "metadata": {},
   "outputs": [
    {
     "name": "stdout",
     "output_type": "stream",
     "text": [
      "                          precision    recall  f1-score   support\n",
      "\n",
      "             alt.atheism       0.25      0.27      0.26       319\n",
      "           comp.graphics       0.43      0.47      0.45       389\n",
      " comp.os.ms-windows.misc       0.56      0.39      0.46       394\n",
      "comp.sys.ibm.pc.hardware       0.43      0.45      0.44       392\n",
      "   comp.sys.mac.hardware       0.42      0.43      0.42       385\n",
      "          comp.windows.x       0.66      0.44      0.53       395\n",
      "            misc.forsale       0.61      0.54      0.57       390\n",
      "               rec.autos       0.57      0.43      0.49       396\n",
      "         rec.motorcycles       0.23      0.67      0.34       398\n",
      "      rec.sport.baseball       0.38      0.50      0.44       397\n",
      "        rec.sport.hockey       0.65      0.59      0.62       399\n",
      "               sci.crypt       0.69      0.47      0.56       396\n",
      "         sci.electronics       0.35      0.27      0.31       393\n",
      "                 sci.med       0.32      0.45      0.38       396\n",
      "               sci.space       0.62      0.41      0.49       394\n",
      "  soc.religion.christian       0.50      0.55      0.52       398\n",
      "      talk.politics.guns       0.41      0.41      0.41       364\n",
      "   talk.politics.mideast       0.81      0.44      0.57       376\n",
      "      talk.politics.misc       0.24      0.23      0.23       310\n",
      "      talk.religion.misc       0.15      0.03      0.05       251\n",
      "\n",
      "                accuracy                           0.43      7532\n",
      "               macro avg       0.46      0.42      0.43      7532\n",
      "            weighted avg       0.47      0.43      0.44      7532\n",
      "\n"
     ]
    }
   ],
   "source": [
    "from sklearn import metrics\n",
    "\n",
    "docs_test = twenty_test.data\n",
    "predicted = text_dt.predict(docs_test)\n",
    "np.mean(predicted == twenty_test.target)\n",
    "\n",
    "print(metrics.classification_report(twenty_test.target, predicted,\n",
    "     target_names=twenty_test.target_names))"
   ]
  },
  {
   "cell_type": "code",
   "execution_count": null,
   "metadata": {},
   "outputs": [],
   "source": []
  }
 ],
 "metadata": {
  "kernelspec": {
   "display_name": "Python 3",
   "language": "python",
   "name": "python3"
  },
  "language_info": {
   "codemirror_mode": {
    "name": "ipython",
    "version": 3
   },
   "file_extension": ".py",
   "mimetype": "text/x-python",
   "name": "python",
   "nbconvert_exporter": "python",
   "pygments_lexer": "ipython3",
   "version": "3.6.9"
  }
 },
 "nbformat": 4,
 "nbformat_minor": 2
}
