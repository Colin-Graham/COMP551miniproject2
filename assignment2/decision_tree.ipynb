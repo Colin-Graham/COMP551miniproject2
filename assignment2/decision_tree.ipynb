{
 "cells": [
  {
   "cell_type": "code",
   "execution_count": 36,
   "metadata": {},
   "outputs": [],
   "source": [
    "from sklearn.feature_extraction.text import CountVectorizer\n",
    "import numpy as np\n",
    "from sklearn.metrics import accuracy_score\n",
    "from sklearn.model_selection import train_test_split\n",
    "from sklearn.metrics import classification_report, confusion_matrix\n",
    "from sklearn.tree import DecisionTreeClassifier\n",
    "from sklearn.metrics import roc_curve, auc\n",
    "import matplotlib as mpl\n",
    "import matplotlib.pyplot as plt"
   ]
  },
  {
   "cell_type": "code",
   "execution_count": 1,
   "metadata": {},
   "outputs": [],
   "source": [
    "reviews_train = []\n",
    "for line in open('positive.txt', 'r'):\n",
    "    reviews_train.append(line.strip())\n",
    "for line in open('negative.txt', 'r'):\n",
    "    reviews_train.append(line.strip())"
   ]
  },
  {
   "cell_type": "code",
   "execution_count": 2,
   "metadata": {},
   "outputs": [],
   "source": [
    "reviews_test = []\n",
    "for line in open('positive_test.txt', 'r'):\n",
    "    reviews_test.append(line.strip())\n",
    "for line in open('negative_test.txt', 'r'):\n",
    "    reviews_test.append(line.strip())"
   ]
  },
  {
   "cell_type": "code",
   "execution_count": 5,
   "metadata": {},
   "outputs": [],
   "source": [
    "cv = CountVectorizer(binary=True)\n",
    "cv.fit(reviews_train)\n",
    "X = cv.transform(reviews_train)\n",
    "X_test = cv.transform(reviews_test)"
   ]
  },
  {
   "cell_type": "code",
   "execution_count": 7,
   "metadata": {},
   "outputs": [],
   "source": [
    "y = np.ones(25000)\n",
    "y[12500:25000] = 0\n",
    "y_test = np.ones(25000)\n",
    "y_test[12500:25000] = 0"
   ]
  },
  {
   "cell_type": "code",
   "execution_count": 16,
   "metadata": {},
   "outputs": [],
   "source": [
    "X_train, X_val, y_train, y_val = train_test_split(\n",
    "    X, y, train_size = 0.75\n",
    ")"
   ]
  },
  {
   "cell_type": "code",
   "execution_count": 21,
   "metadata": {},
   "outputs": [
    {
     "name": "stdout",
     "output_type": "stream",
     "text": [
      "[ 15  21  27  33  39  45  51  57  63  69  75  81  87  93 100]\n"
     ]
    }
   ],
   "source": [
    "max_depths = np.linspace(15, 100, 15, dtype=int, endpoint=True)\n",
    "print(max_depths)"
   ]
  },
  {
   "cell_type": "code",
   "execution_count": 22,
   "metadata": {},
   "outputs": [
    {
     "name": "stdout",
     "output_type": "stream",
     "text": [
      "Accuracy for max_depth=15: 0.72432\n",
      "Accuracy for max_depth=21: 0.72768\n",
      "Accuracy for max_depth=27: 0.73632\n",
      "Accuracy for max_depth=33: 0.72976\n",
      "Accuracy for max_depth=39: 0.724\n",
      "Accuracy for max_depth=45: 0.73072\n",
      "Accuracy for max_depth=51: 0.72416\n",
      "Accuracy for max_depth=57: 0.7264\n",
      "Accuracy for max_depth=63: 0.7248\n",
      "Accuracy for max_depth=69: 0.724\n",
      "Accuracy for max_depth=75: 0.71712\n",
      "Accuracy for max_depth=81: 0.72512\n",
      "Accuracy for max_depth=87: 0.72208\n",
      "Accuracy for max_depth=93: 0.7136\n",
      "Accuracy for max_depth=100: 0.7152\n"
     ]
    }
   ],
   "source": [
    "for max_depth in max_depths:\n",
    "    dt = DecisionTreeClassifier(max_depth=max_depth)\n",
    "    dt.fit(X_train, y_train)\n",
    "    print (\"Accuracy for max_depth=%s: %s\" \n",
    "           % (max_depth, accuracy_score(y_val, dt.predict(X_val))))"
   ]
  },
  {
   "cell_type": "code",
   "execution_count": 24,
   "metadata": {},
   "outputs": [
    {
     "name": "stdout",
     "output_type": "stream",
     "text": [
      "[15 17 20 22 25 27 30 32 35 37 40 42 45 47 50]\n"
     ]
    }
   ],
   "source": [
    "max_depths_v2 = np.linspace(15, 50, 15, dtype=int, endpoint=True)\n",
    "print(max_depths_v2)"
   ]
  },
  {
   "cell_type": "code",
   "execution_count": 56,
   "metadata": {},
   "outputs": [
    {
     "name": "stdout",
     "output_type": "stream",
     "text": [
      "Accuracy for max_depth=15: 0.72688\n",
      "Accuracy for max_depth=17: 0.7288\n",
      "Accuracy for max_depth=20: 0.7296\n",
      "Accuracy for max_depth=22: 0.7296\n",
      "Accuracy for max_depth=25: 0.7304\n",
      "Accuracy for max_depth=27: 0.73648\n",
      "Accuracy for max_depth=30: 0.7336\n",
      "Accuracy for max_depth=32: 0.73408\n",
      "Accuracy for max_depth=35: 0.73104\n",
      "Accuracy for max_depth=37: 0.73056\n",
      "Accuracy for max_depth=40: 0.73504\n",
      "Accuracy for max_depth=42: 0.72704\n",
      "Accuracy for max_depth=45: 0.72656\n",
      "Accuracy for max_depth=47: 0.728\n",
      "Accuracy for max_depth=50: 0.72528\n"
     ]
    }
   ],
   "source": [
    "train_results = []\n",
    "val_results = []\n",
    "for max_depth in max_depths_v2:\n",
    "    dt = DecisionTreeClassifier(max_depth=max_depth)\n",
    "    dt.fit(X_train, y_train)\n",
    "    results.append(accuracy_score(y_val, dt.predict(X_val)))\n",
    "    print (\"Accuracy for max_depth=%s: %s\" \n",
    "           % (max_depth, accuracy_score(y_val, dt.predict(X_val))))\n",
    "    train_pred = dt.predict(X_train)\n",
    "    false_positive_rate, true_positive_rate, thresholds = roc_curve(y_train, train_pred)\n",
    "    roc_auc = auc(false_positive_rate, true_positive_rate)\n",
    "    train_results.append(roc_auc)\n",
    "    y_pred = dt.predict(X_val)\n",
    "    false_positive_rate, true_positive_rate, thresholds = roc_curve(y_val, y_pred)\n",
    "    roc_auc = auc(false_positive_rate, true_positive_rate)\n",
    "    val_results.append(roc_auc)\n",
    "    "
   ]
  },
  {
   "cell_type": "code",
   "execution_count": 61,
   "metadata": {},
   "outputs": [
    {
     "data": {
      "image/png": "[encoded data removed]",
      "text/plain": [
       "<Figure size 432x288 with 1 Axes>"
      ]
     },
     "metadata": {
      "needs_background": "light"
     },
     "output_type": "display_data"
    }
   ],
   "source": [
    "from matplotlib.legend_handler import HandlerLine2D\n",
    "line1, = plt.plot(max_depths, train_results, 'b', label='Train AUC')\n",
    "line2, = plt.plot(max_depths, val_results, 'r', label='Test AUC')\n",
    "plt.legend(handler_map={line1: HandlerLine2D(numpoints=2)})\n",
    "plt.ylabel('AUC score')\n",
    "plt.xlabel('Max depth')\n",
    "plt.show()"
   ]
  },
  {
   "cell_type": "code",
   "execution_count": 64,
   "metadata": {},
   "outputs": [
    {
     "name": "stdout",
     "output_type": "stream",
     "text": [
      "Accuracy for min_samples_split=0.1: 0.74896\n",
      "Accuracy for min_samples_split=0.2: 0.7384\n",
      "Accuracy for min_samples_split=0.30000000000000004: 0.72016\n",
      "Accuracy for min_samples_split=0.4: 0.70832\n",
      "Accuracy for min_samples_split=0.5: 0.68736\n",
      "Accuracy for min_samples_split=0.6: 0.67296\n",
      "Accuracy for min_samples_split=0.7000000000000001: 0.67296\n",
      "Accuracy for min_samples_split=0.8: 0.61648\n",
      "Accuracy for min_samples_split=0.9: 0.61648\n",
      "Accuracy for min_samples_split=1.0: 0.61648\n"
     ]
    }
   ],
   "source": [
    "# We will use max_depth = 47\n",
    "min_samples_splits = np.linspace(0.1, 1.0, 10, endpoint=True)\n",
    "results_samples_splits = []\n",
    "\n",
    "train_results = []\n",
    "val_results = []\n",
    "\n",
    "for min_samples_split in min_samples_splits:\n",
    "    dt = DecisionTreeClassifier(max_depth=47, min_samples_split=min_samples_split)\n",
    "    dt.fit(X_train, y_train)\n",
    "    results_samples_splits.append(accuracy_score(y_val, dt.predict(X_val)))\n",
    "    print (\"Accuracy for min_samples_split=%s: %s\" \n",
    "           % (min_samples_split, accuracy_score(y_val, dt.predict(X_val))))\n",
    "    \n",
    "    train_pred = dt.predict(X_train)\n",
    "    false_positive_rate, true_positive_rate, thresholds = roc_curve(y_train, train_pred)\n",
    "    roc_auc = auc(false_positive_rate, true_positive_rate)\n",
    "    train_results.append(roc_auc)\n",
    "    y_pred = dt.predict(X_val)\n",
    "    false_positive_rate, true_positive_rate, thresholds = roc_curve(y_val, y_pred)\n",
    "    roc_auc = auc(false_positive_rate, true_positive_rate)\n",
    "    val_results.append(roc_auc)"
   ]
  },
  {
   "cell_type": "code",
   "execution_count": 65,
   "metadata": {},
   "outputs": [
    {
     "data": {
      "image/png": "[encoded data removed]",
      "text/plain": [
       "<Figure size 432x288 with 1 Axes>"
      ]
     },
     "metadata": {
      "needs_background": "light"
     },
     "output_type": "display_data"
    }
   ],
   "source": [
    "from matplotlib.legend_handler import HandlerLine2D\n",
    "line1, = plt.plot(min_samples_splits, train_results, 'b', label='Train AUC')\n",
    "line2, = plt.plot(min_samples_splits, val_results, 'r', label='Test AUC')\n",
    "plt.legend(handler_map={line1: HandlerLine2D(numpoints=2)})\n",
    "plt.ylabel('AUC score')\n",
    "plt.xlabel('Min samples split')\n",
    "plt.show()\n",
    "# We will use min_samples_split = 0.1"
   ]
  },
  {
   "cell_type": "code",
   "execution_count": 66,
   "metadata": {},
   "outputs": [
    {
     "name": "stdout",
     "output_type": "stream",
     "text": [
      "Final Accuracy: 0.7502\n"
     ]
    }
   ],
   "source": [
    "final_model = DecisionTreeClassifier(max_depth=47, min_samples_split=0.1)\n",
    "final_model.fit(X, y)\n",
    "print (\"Final Accuracy: %s\" \n",
    "       % accuracy_score(y, final_model.predict(X_test)))"
   ]
  },
  {
   "cell_type": "code",
   "execution_count": 70,
   "metadata": {},
   "outputs": [],
   "source": [
    "vocab = []\n",
    "for line in open('vocab.txt', 'r'):\n",
    "    vocab.append(line.strip())"
   ]
  },
  {
   "cell_type": "code",
   "execution_count": 71,
   "metadata": {},
   "outputs": [
    {
     "name": "stdout",
     "output_type": "stream",
     "text": [
      "|--- project <= 0.50\n",
      "|   |--- salva <= 0.50\n",
      "|   |   |--- pneumonic <= 0.50\n",
      "|   |   |   |--- sixteen <= 0.50\n",
      "|   |   |   |   |--- pick <= 0.50\n",
      "|   |   |   |   |   |--- kar <= 0.50\n",
      "|   |   |   |   |   |   |--- blaxploitation <= 0.50\n",
      "|   |   |   |   |   |   |   |--- mccall <= 0.50\n",
      "|   |   |   |   |   |   |   |   |--- afghan <= 0.50\n",
      "|   |   |   |   |   |   |   |   |   |--- racked <= 0.50\n",
      "|   |   |   |   |   |   |   |   |   |   |--- costume <= 0.50\n",
      "|   |   |   |   |   |   |   |   |   |   |   |--- truncated branch of depth 28\n",
      "|   |   |   |   |   |   |   |   |   |   |--- costume >  0.50\n",
      "|   |   |   |   |   |   |   |   |   |   |   |--- class: 1.0\n",
      "|   |   |   |   |   |   |   |   |   |--- racked >  0.50\n",
      "|   |   |   |   |   |   |   |   |   |   |--- class: 0.0\n",
      "|   |   |   |   |   |   |   |   |--- afghan >  0.50\n",
      "|   |   |   |   |   |   |   |   |   |--- class: 0.0\n",
      "|   |   |   |   |   |   |   |--- mccall >  0.50\n",
      "|   |   |   |   |   |   |   |   |--- class: 0.0\n",
      "|   |   |   |   |   |   |--- blaxploitation >  0.50\n",
      "|   |   |   |   |   |   |   |--- class: 1.0\n",
      "|   |   |   |   |   |--- kar >  0.50\n",
      "|   |   |   |   |   |   |--- class: 0.0\n",
      "|   |   |   |   |--- pick >  0.50\n",
      "|   |   |   |   |   |--- class: 0.0\n",
      "|   |   |   |--- sixteen >  0.50\n",
      "|   |   |   |   |--- afghan <= 0.50\n",
      "|   |   |   |   |   |--- pick <= 0.50\n",
      "|   |   |   |   |   |   |--- berryman <= 0.50\n",
      "|   |   |   |   |   |   |   |--- coulouris <= 0.50\n",
      "|   |   |   |   |   |   |   |   |--- getgo <= 0.50\n",
      "|   |   |   |   |   |   |   |   |   |--- waco <= 0.50\n",
      "|   |   |   |   |   |   |   |   |   |   |--- leaden <= 0.50\n",
      "|   |   |   |   |   |   |   |   |   |   |   |--- truncated branch of depth 7\n",
      "|   |   |   |   |   |   |   |   |   |   |--- leaden >  0.50\n",
      "|   |   |   |   |   |   |   |   |   |   |   |--- class: 0.0\n",
      "|   |   |   |   |   |   |   |   |   |--- waco >  0.50\n",
      "|   |   |   |   |   |   |   |   |   |   |--- class: 1.0\n",
      "|   |   |   |   |   |   |   |   |--- getgo >  0.50\n",
      "|   |   |   |   |   |   |   |   |   |--- class: 0.0\n",
      "|   |   |   |   |   |   |   |--- coulouris >  0.50\n",
      "|   |   |   |   |   |   |   |   |--- class: 0.0\n",
      "|   |   |   |   |   |   |--- berryman >  0.50\n",
      "|   |   |   |   |   |   |   |--- class: 0.0\n",
      "|   |   |   |   |   |--- pick >  0.50\n",
      "|   |   |   |   |   |   |--- class: 0.0\n",
      "|   |   |   |   |--- afghan >  0.50\n",
      "|   |   |   |   |   |--- class: 0.0\n",
      "|   |   |--- pneumonic >  0.50\n",
      "|   |   |   |--- class: 0.0\n",
      "|   |--- salva >  0.50\n",
      "|   |   |--- class: 0.0\n",
      "|--- project >  0.50\n",
      "|   |--- sixteen <= 0.50\n",
      "|   |   |--- salva <= 0.50\n",
      "|   |   |   |--- blaxploitation <= 0.50\n",
      "|   |   |   |   |--- costume <= 0.50\n",
      "|   |   |   |   |   |--- pneumonic <= 0.50\n",
      "|   |   |   |   |   |   |--- timone <= 0.50\n",
      "|   |   |   |   |   |   |   |--- wish <= 0.50\n",
      "|   |   |   |   |   |   |   |   |--- class: 0.0\n",
      "|   |   |   |   |   |   |   |--- wish >  0.50\n",
      "|   |   |   |   |   |   |   |   |--- class: 0.0\n",
      "|   |   |   |   |   |   |--- timone >  0.50\n",
      "|   |   |   |   |   |   |   |--- class: 1.0\n",
      "|   |   |   |   |   |--- pneumonic >  0.50\n",
      "|   |   |   |   |   |   |--- class: 0.0\n",
      "|   |   |   |   |--- costume >  0.50\n",
      "|   |   |   |   |   |--- class: 0.0\n",
      "|   |   |   |--- blaxploitation >  0.50\n",
      "|   |   |   |   |--- class: 1.0\n",
      "|   |   |--- salva >  0.50\n",
      "|   |   |   |--- class: 0.0\n",
      "|   |--- sixteen >  0.50\n",
      "|   |   |--- class: 0.0\n",
      "\n"
     ]
    }
   ],
   "source": [
    "from sklearn.tree.export import export_text\n",
    "r = export_text(final_model, vocab)\n",
    "print(r)"
   ]
  },
  {
   "cell_type": "code",
   "execution_count": null,
   "metadata": {},
   "outputs": [],
   "source": []
  }
 ],
 "metadata": {
  "kernelspec": {
   "display_name": "Python 3",
   "language": "python",
   "name": "python3"
  },
  "language_info": {
   "codemirror_mode": {
    "name": "ipython",
    "version": 3
   },
   "file_extension": ".py",
   "mimetype": "text/x-python",
   "name": "python",
   "nbconvert_exporter": "python",
   "pygments_lexer": "ipython3",
   "version": "3.6.9"
  }
 },
 "nbformat": 4,
 "nbformat_minor": 2
}
