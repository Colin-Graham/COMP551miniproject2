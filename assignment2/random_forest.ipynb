{
 "cells": [
  {
   "cell_type": "code",
   "execution_count": 1,
   "metadata": {},
   "outputs": [],
   "source": [
    "from sklearn.ensemble import AdaBoostClassifier\n",
    "from sklearn.feature_extraction.text import CountVectorizer\n",
    "import numpy as np\n",
    "from sklearn.metrics import accuracy_score\n",
    "from sklearn.model_selection import train_test_split\n",
    "from sklearn.metrics import classification_report, confusion_matrix\n",
    "from sklearn.ensemble import RandomForestClassifier\n",
    "from sklearn.metrics import roc_curve, auc\n",
    "import matplotlib as mpl\n",
    "import matplotlib.pyplot as plt"
   ]
  },
  {
   "cell_type": "code",
   "execution_count": 2,
   "metadata": {},
   "outputs": [],
   "source": [
    "reviews_train = []\n",
    "for line in open('positive.txt', 'r'):\n",
    "    reviews_train.append(line.strip())\n",
    "for line in open('negative.txt', 'r'):\n",
    "    reviews_train.append(line.strip())"
   ]
  },
  {
   "cell_type": "code",
   "execution_count": 3,
   "metadata": {},
   "outputs": [],
   "source": [
    "reviews_test = []\n",
    "for line in open('positive_test.txt', 'r'):\n",
    "    reviews_test.append(line.strip())\n",
    "for line in open('negative_test.txt', 'r'):\n",
    "    reviews_test.append(line.strip())"
   ]
  },
  {
   "cell_type": "code",
   "execution_count": 4,
   "metadata": {},
   "outputs": [],
   "source": [
    "cv = CountVectorizer(binary=True)\n",
    "cv.fit(reviews_train)\n",
    "X = cv.transform(reviews_train)\n",
    "X_test = cv.transform(reviews_test)"
   ]
  },
  {
   "cell_type": "code",
   "execution_count": 5,
   "metadata": {},
   "outputs": [],
   "source": [
    "y = np.ones(25000)\n",
    "y[12500:25000] = 0\n",
    "y_test = np.ones(25000)\n",
    "y_test[12500:25000] = 0"
   ]
  },
  {
   "cell_type": "code",
   "execution_count": 6,
   "metadata": {},
   "outputs": [],
   "source": [
    "X_train, X_val, y_train, y_val = train_test_split(\n",
    "    X, y, train_size = 0.75\n",
    ")"
   ]
  },
  {
   "cell_type": "code",
   "execution_count": 7,
   "metadata": {},
   "outputs": [
    {
     "name": "stdout",
     "output_type": "stream",
     "text": [
      "Accuracy for n_estimators=200: 0.85904\n",
      "Accuracy for n_estimators=300: 0.85792\n",
      "Accuracy for n_estimators=400: 0.85824\n",
      "Accuracy for n_estimators=500: 0.86272\n",
      "Accuracy for n_estimators=600: 0.86656\n"
     ]
    }
   ],
   "source": [
    "n_estimatorss = [200, 300, 400, 500, 600]\n",
    "\n",
    "results = []\n",
    "train_results = []\n",
    "val_results = []\n",
    "\n",
    "for n_estimators in n_estimatorss:\n",
    "    clf=RandomForestClassifier(n_estimators=n_estimators)\n",
    "    clf.fit(X_train, y_train)\n",
    "    results.append(accuracy_score(y_val, clf.predict(X_val)))\n",
    "    print (\"Accuracy for n_estimators=%s: %s\" \n",
    "           % (n_estimators, accuracy_score(y_val, clf.predict(X_val))))\n",
    "    train_pred = clf.predict(X_train)\n",
    "    false_positive_rate, true_positive_rate, thresholds = roc_curve(y_train, train_pred)\n",
    "    roc_auc = auc(false_positive_rate, true_positive_rate)\n",
    "    train_results.append(roc_auc)\n",
    "    y_pred = clf.predict(X_val)\n",
    "    false_positive_rate, true_positive_rate, thresholds = roc_curve(y_val, y_pred)\n",
    "    roc_auc = auc(false_positive_rate, true_positive_rate)\n",
    "    val_results.append(roc_auc)"
   ]
  },
  {
   "cell_type": "code",
   "execution_count": 8,
   "metadata": {},
   "outputs": [
    {
     "data": {
      "image/png": "[encoded data removed]",
      "text/plain": [
       "<Figure size 432x288 with 1 Axes>"
      ]
     },
     "metadata": {
      "needs_background": "light"
     },
     "output_type": "display_data"
    }
   ],
   "source": [
    "from matplotlib.legend_handler import HandlerLine2D\n",
    "line1, = plt.plot(n_estimatorss, train_results, 'b', label='Train AUC')\n",
    "line2, = plt.plot(n_estimatorss, val_results, 'r', label='Test AUC')\n",
    "plt.legend(handler_map={line1: HandlerLine2D(numpoints=2)})\n",
    "plt.ylabel('AUC score')\n",
    "plt.xlabel('n estimators')\n",
    "plt.show()"
   ]
  },
  {
   "cell_type": "code",
   "execution_count": 11,
   "metadata": {},
   "outputs": [],
   "source": [
    "vocab = []\n",
    "for line in open('vocab.txt', 'r'):\n",
    "    vocab.append(line.strip())"
   ]
  },
  {
   "cell_type": "code",
   "execution_count": 14,
   "metadata": {},
   "outputs": [
    {
     "data": {
      "text/plain": [
       "project       0.013164\n",
       "salva         0.012208\n",
       "sixteen       0.007048\n",
       "pneumonic     0.006763\n",
       "pick          0.005235\n",
       "                ...   \n",
       "ostensibly    0.000000\n",
       "redemption    0.000000\n",
       "viet          0.000000\n",
       "kelso         0.000000\n",
       "lightly       0.000000\n",
       "Length: 31402, dtype: float64"
      ]
     },
     "execution_count": 14,
     "metadata": {},
     "output_type": "execute_result"
    }
   ],
   "source": [
    "import pandas as pd\n",
    "feature_imp = pd.Series(clf.feature_importances_,index=vocab).sort_values(ascending=False)\n",
    "feature_imp"
   ]
  },
  {
   "cell_type": "code",
   "execution_count": 17,
   "metadata": {},
   "outputs": [
    {
     "name": "stdout",
     "output_type": "stream",
     "text": [
      "Accuracy for n_estimators=600: 0.86304\n"
     ]
    }
   ],
   "source": [
    "clf=RandomForestClassifier(n_estimators=800)\n",
    "clf.fit(X_train, y_train)\n",
    "results.append(accuracy_score(y_val, clf.predict(X_val)))\n",
    "print (\"Accuracy for n_estimators=%s: %s\" \n",
    "       % (n_estimators, accuracy_score(y_val, clf.predict(X_val))))"
   ]
  },
  {
   "cell_type": "code",
   "execution_count": null,
   "metadata": {},
   "outputs": [],
   "source": []
  }
 ],
 "metadata": {
  "kernelspec": {
   "display_name": "Python 3",
   "language": "python",
   "name": "python3"
  },
  "language_info": {
   "codemirror_mode": {
    "name": "ipython",
    "version": 3
   },
   "file_extension": ".py",
   "mimetype": "text/x-python",
   "name": "python",
   "nbconvert_exporter": "python",
   "pygments_lexer": "ipython3",
   "version": "3.6.9"
  }
 },
 "nbformat": 4,
 "nbformat_minor": 2
}
